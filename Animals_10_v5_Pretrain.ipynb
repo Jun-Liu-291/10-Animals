{
  "nbformat": 4,
  "nbformat_minor": 0,
  "metadata": {
    "colab": {
      "name": "Animals-10-v5-Pretrain.ipynb",
      "provenance": [],
      "collapsed_sections": [],
      "authorship_tag": "ABX9TyOqH/OWfqxWBuVS1nigLdR8",
      "include_colab_link": true
    },
    "kernelspec": {
      "name": "python3",
      "display_name": "Python 3"
    },
    "accelerator": "GPU"
  },
  "cells": [
    {
      "cell_type": "markdown",
      "metadata": {
        "id": "view-in-github",
        "colab_type": "text"
      },
      "source": [
        "<a href=\"https://colab.research.google.com/github/Jun-Liu-291/10-Animals/blob/master/Animals_10_v5_Pretrain.ipynb\" target=\"_parent\"><img src=\"https://colab.research.google.com/assets/colab-badge.svg\" alt=\"Open In Colab\"/></a>"
      ]
    },
    {
      "cell_type": "code",
      "metadata": {
        "id": "V00W0w2ClhQr",
        "colab_type": "code",
        "colab": {
          "base_uri": "https://localhost:8080/",
          "height": 122
        },
        "outputId": "1a254b93-8466-45bb-a41f-5500d738bcef"
      },
      "source": [
        "from google.colab import drive\n",
        "drive.mount('/content/drive/')"
      ],
      "execution_count": null,
      "outputs": [
        {
          "output_type": "stream",
          "text": [
            "Go to this URL in a browser: https://accounts.google.com/o/oauth2/auth?client_id=947318989803-6bn6qk8qdgf4n4g3pfee6491hc0brc4i.apps.googleusercontent.com&redirect_uri=urn%3aietf%3awg%3aoauth%3a2.0%3aoob&response_type=code&scope=email%20https%3a%2f%2fwww.googleapis.com%2fauth%2fdocs.test%20https%3a%2f%2fwww.googleapis.com%2fauth%2fdrive%20https%3a%2f%2fwww.googleapis.com%2fauth%2fdrive.photos.readonly%20https%3a%2f%2fwww.googleapis.com%2fauth%2fpeopleapi.readonly\n",
            "\n",
            "Enter your authorization code:\n",
            "··········\n",
            "Mounted at /content/drive/\n"
          ],
          "name": "stdout"
        }
      ]
    },
    {
      "cell_type": "code",
      "metadata": {
        "id": "dclZDX5VmWIH",
        "colab_type": "code",
        "colab": {
          "base_uri": "https://localhost:8080/",
          "height": 51
        },
        "outputId": "861542ff-5ec0-4178-afea-cafaff0c7ecc"
      },
      "source": [
        "%cd /content/drive/My Drive/dataset/tenAnimals_no_shuffle\n",
        "\n",
        "!pwd"
      ],
      "execution_count": null,
      "outputs": [
        {
          "output_type": "stream",
          "text": [
            "/content/drive/My Drive/dataset/tenAnimals_no_shuffle\n",
            "/content/drive/My Drive/dataset/tenAnimals_no_shuffle\n"
          ],
          "name": "stdout"
        }
      ]
    },
    {
      "cell_type": "code",
      "metadata": {
        "id": "xdiHZ2MumebG",
        "colab_type": "code",
        "colab": {
          "base_uri": "https://localhost:8080/",
          "height": 34
        },
        "outputId": "81a167dd-a6af-40d7-d859-5078f8e46148"
      },
      "source": [
        "from keras.models import Sequential\n",
        "from keras.layers import Dense, Conv2D, Flatten, Dropout, MaxPooling2D, LeakyReLU\n",
        "from keras.preprocessing.image import ImageDataGenerator, img_to_array, load_img\n",
        "import numpy as np"
      ],
      "execution_count": null,
      "outputs": [
        {
          "output_type": "stream",
          "text": [
            "Using TensorFlow backend.\n"
          ],
          "name": "stderr"
        }
      ]
    },
    {
      "cell_type": "code",
      "metadata": {
        "id": "3bBWvnaumndA",
        "colab_type": "code",
        "colab": {}
      },
      "source": [
        "import os\n",
        "\n",
        "BASE_PATH = '/content/drive/My Drive/dataset/tenAnimals_no_shuffle'\n",
        "TRAIN_PATH = os.path.join(BASE_PATH, 'train')\n",
        "VAL_PATH = os.path.join(BASE_PATH, 'validation')\n",
        "TEST_PATH = os.path.join(BASE_PATH, 'test')\n",
        "\n",
        "batch_size = 128\n",
        "epochs = 80\n",
        "IMG_HEIGHT = 128\n",
        "IMG_WIDTH = 128"
      ],
      "execution_count": null,
      "outputs": []
    },
    {
      "cell_type": "code",
      "metadata": {
        "id": "aeIUl6gMmoPv",
        "colab_type": "code",
        "colab": {}
      },
      "source": [
        "train_image_generator = ImageDataGenerator(\n",
        "    rescale = 1./ 255,\n",
        "    rotation_range = 30,\n",
        "    width_shift_range = .15,\n",
        "    height_shift_range = .15,\n",
        "    horizontal_flip = True,\n",
        "    zoom_range = 0.3\n",
        ")\n",
        "\n",
        "validation_image_generator = ImageDataGenerator(rescale=1./255)"
      ],
      "execution_count": null,
      "outputs": []
    },
    {
      "cell_type": "code",
      "metadata": {
        "id": "ITNwa1gnmqeZ",
        "colab_type": "code",
        "colab": {
          "base_uri": "https://localhost:8080/",
          "height": 51
        },
        "outputId": "eaead74d-5726-490e-835c-5d51fff39e40"
      },
      "source": [
        "train_data_gen = train_image_generator.flow_from_directory(\n",
        "    batch_size = batch_size,\n",
        "    directory = TRAIN_PATH,\n",
        "    shuffle = True,\n",
        "    target_size = (IMG_HEIGHT, IMG_WIDTH),\n",
        "    class_mode = 'categorical'\n",
        ")\n",
        "\n",
        "validation_data_gen = validation_image_generator.flow_from_directory(\n",
        "    batch_size = batch_size,\n",
        "    directory = VAL_PATH,\n",
        "    shuffle = True,\n",
        "    target_size = (IMG_HEIGHT, IMG_WIDTH),\n",
        "    class_mode = 'categorical'\n",
        ")"
      ],
      "execution_count": null,
      "outputs": [
        {
          "output_type": "stream",
          "text": [
            "Found 10241 images belonging to 10 classes.\n",
            "Found 1280 images belonging to 10 classes.\n"
          ],
          "name": "stdout"
        }
      ]
    },
    {
      "cell_type": "code",
      "metadata": {
        "id": "GSNWVyxpmuc-",
        "colab_type": "code",
        "colab": {
          "base_uri": "https://localhost:8080/",
          "height": 1000
        },
        "outputId": "f121a00d-5819-45ef-f786-934117c73404"
      },
      "source": [
        "# model architcture\n",
        "from keras import optimizers\n",
        "\n",
        "model = Sequential([Conv2D(32, 3, padding = 'same', input_shape = (IMG_HEIGHT, IMG_WIDTH, 3)), LeakyReLU(),\n",
        "                    Conv2D(32, 3, padding = 'same'), LeakyReLU(),\n",
        "                    MaxPooling2D(),\n",
        "                    Conv2D(64, 3, padding = 'same'), LeakyReLU(),\n",
        "                    Conv2D(64, 3, padding = 'same'), LeakyReLU(),\n",
        "                    MaxPooling2D(),\n",
        "                    Conv2D(128, 3, padding = 'same'), LeakyReLU(),\n",
        "                    Conv2D(128, 3, padding = 'same'), LeakyReLU(),\n",
        "                    MaxPooling2D(),\n",
        "                    Conv2D(256, 3, padding = 'same'), LeakyReLU(),\n",
        "                    Conv2D(256, 3, padding = 'same'), LeakyReLU(),\n",
        "                    MaxPooling2D(),\n",
        "                    Conv2D(512, 3, padding = 'same'), LeakyReLU(),\n",
        "                    Conv2D(512, 3, padding = 'same'), LeakyReLU(),\n",
        "                    MaxPooling2D(),\n",
        "                    Conv2D(1024, 3, padding = 'same'), LeakyReLU(),\n",
        "                    Conv2D(1024, 3, padding = 'same'), LeakyReLU(),\n",
        "                    Flatten(),\n",
        "                    Dropout(0.4),\n",
        "                    Dense(1024), LeakyReLU(),\n",
        "                    Dense(1024), LeakyReLU(),\n",
        "                    Dense(10, activation='softmax')])\n",
        "\n",
        "# setting the optimizer and learning rate\n",
        "learning_rate = 1e-4\n",
        "optimizer = optimizers.Adam(learning_rate = 1e-4)\n",
        "  \n",
        "# Compile the model with the optimizer and learning rate specified in hpyarams\n",
        "model.compile(optimizer = optimizer,\n",
        "              loss = 'categorical_crossentropy',\n",
        "              metrics = ['acc'])\n",
        "\n",
        "from keras.callbacks import ModelCheckpoint\n",
        "from keras.callbacks import ReduceLROnPlateau\n",
        "from keras.callbacks import LearningRateScheduler\n",
        "# change callback function\n",
        "# apply ReduceLRonPlateau for changing LR\n",
        "reduceLR = ReduceLROnPlateau(\n",
        "    monitor=\"loss\",\n",
        "    factor = 0.5,\n",
        "    patience = 5,\n",
        "    verbose = 1,\n",
        "    mode = 'min',\n",
        "    min_lr = 1e-6)\n",
        "\n",
        "# save whole model when get a better val accuracy\n",
        "checkpoint = ModelCheckpoint(\n",
        "    filepath = '10A_ns.{epoch:02d}-{val_loss:.2f}.h5',\n",
        "    monitor='val_acc',\n",
        "    save_weights_only = False,\n",
        "    save_best_only = True\n",
        ")\n",
        "\n",
        "my_callbacks = [reduceLR, checkpoint]\n",
        "\n",
        "# set learning rate by different epochs\n",
        "lr_schedule = LearningRateScheduler(lambda epoch: 1e-6 * 10**(epoch / 10))\n",
        "\n",
        "model.summary()"
      ],
      "execution_count": null,
      "outputs": [
        {
          "output_type": "stream",
          "text": [
            "Model: \"sequential_2\"\n",
            "_________________________________________________________________\n",
            "Layer (type)                 Output Shape              Param #   \n",
            "=================================================================\n",
            "conv2d_13 (Conv2D)           (None, 128, 128, 32)      896       \n",
            "_________________________________________________________________\n",
            "leaky_re_lu_15 (LeakyReLU)   (None, 128, 128, 32)      0         \n",
            "_________________________________________________________________\n",
            "conv2d_14 (Conv2D)           (None, 128, 128, 32)      9248      \n",
            "_________________________________________________________________\n",
            "leaky_re_lu_16 (LeakyReLU)   (None, 128, 128, 32)      0         \n",
            "_________________________________________________________________\n",
            "max_pooling2d_6 (MaxPooling2 (None, 64, 64, 32)        0         \n",
            "_________________________________________________________________\n",
            "conv2d_15 (Conv2D)           (None, 64, 64, 64)        18496     \n",
            "_________________________________________________________________\n",
            "leaky_re_lu_17 (LeakyReLU)   (None, 64, 64, 64)        0         \n",
            "_________________________________________________________________\n",
            "conv2d_16 (Conv2D)           (None, 64, 64, 64)        36928     \n",
            "_________________________________________________________________\n",
            "leaky_re_lu_18 (LeakyReLU)   (None, 64, 64, 64)        0         \n",
            "_________________________________________________________________\n",
            "max_pooling2d_7 (MaxPooling2 (None, 32, 32, 64)        0         \n",
            "_________________________________________________________________\n",
            "conv2d_17 (Conv2D)           (None, 32, 32, 128)       73856     \n",
            "_________________________________________________________________\n",
            "leaky_re_lu_19 (LeakyReLU)   (None, 32, 32, 128)       0         \n",
            "_________________________________________________________________\n",
            "conv2d_18 (Conv2D)           (None, 32, 32, 128)       147584    \n",
            "_________________________________________________________________\n",
            "leaky_re_lu_20 (LeakyReLU)   (None, 32, 32, 128)       0         \n",
            "_________________________________________________________________\n",
            "max_pooling2d_8 (MaxPooling2 (None, 16, 16, 128)       0         \n",
            "_________________________________________________________________\n",
            "conv2d_19 (Conv2D)           (None, 16, 16, 256)       295168    \n",
            "_________________________________________________________________\n",
            "leaky_re_lu_21 (LeakyReLU)   (None, 16, 16, 256)       0         \n",
            "_________________________________________________________________\n",
            "conv2d_20 (Conv2D)           (None, 16, 16, 256)       590080    \n",
            "_________________________________________________________________\n",
            "leaky_re_lu_22 (LeakyReLU)   (None, 16, 16, 256)       0         \n",
            "_________________________________________________________________\n",
            "max_pooling2d_9 (MaxPooling2 (None, 8, 8, 256)         0         \n",
            "_________________________________________________________________\n",
            "conv2d_21 (Conv2D)           (None, 8, 8, 512)         1180160   \n",
            "_________________________________________________________________\n",
            "leaky_re_lu_23 (LeakyReLU)   (None, 8, 8, 512)         0         \n",
            "_________________________________________________________________\n",
            "conv2d_22 (Conv2D)           (None, 8, 8, 512)         2359808   \n",
            "_________________________________________________________________\n",
            "leaky_re_lu_24 (LeakyReLU)   (None, 8, 8, 512)         0         \n",
            "_________________________________________________________________\n",
            "max_pooling2d_10 (MaxPooling (None, 4, 4, 512)         0         \n",
            "_________________________________________________________________\n",
            "conv2d_23 (Conv2D)           (None, 4, 4, 1024)        4719616   \n",
            "_________________________________________________________________\n",
            "leaky_re_lu_25 (LeakyReLU)   (None, 4, 4, 1024)        0         \n",
            "_________________________________________________________________\n",
            "conv2d_24 (Conv2D)           (None, 4, 4, 1024)        9438208   \n",
            "_________________________________________________________________\n",
            "leaky_re_lu_26 (LeakyReLU)   (None, 4, 4, 1024)        0         \n",
            "_________________________________________________________________\n",
            "flatten_2 (Flatten)          (None, 16384)             0         \n",
            "_________________________________________________________________\n",
            "dropout_2 (Dropout)          (None, 16384)             0         \n",
            "_________________________________________________________________\n",
            "dense_4 (Dense)              (None, 1024)              16778240  \n",
            "_________________________________________________________________\n",
            "leaky_re_lu_27 (LeakyReLU)   (None, 1024)              0         \n",
            "_________________________________________________________________\n",
            "dense_5 (Dense)              (None, 1024)              1049600   \n",
            "_________________________________________________________________\n",
            "leaky_re_lu_28 (LeakyReLU)   (None, 1024)              0         \n",
            "_________________________________________________________________\n",
            "dense_6 (Dense)              (None, 10)                10250     \n",
            "=================================================================\n",
            "Total params: 36,708,138\n",
            "Trainable params: 36,708,138\n",
            "Non-trainable params: 0\n",
            "_________________________________________________________________\n"
          ],
          "name": "stdout"
        }
      ]
    },
    {
      "cell_type": "code",
      "metadata": {
        "id": "wD_70g-holUE",
        "colab_type": "code",
        "colab": {
          "base_uri": "https://localhost:8080/",
          "height": 1000
        },
        "outputId": "93a4fe1c-551f-42a2-ff42-89105c449e25"
      },
      "source": [
        "history = model.fit_generator(\n",
        "    train_data_gen,\n",
        "    steps_per_epoch=int(10240/batch_size),\n",
        "    epochs=epochs,\n",
        "    validation_data=validation_data_gen,\n",
        "    validation_steps=int(1028/batch_size),\n",
        "    #callbacks = [lr_schedule]\n",
        "    callbacks = my_callbacks\n",
        ")"
      ],
      "execution_count": null,
      "outputs": [
        {
          "output_type": "stream",
          "text": [
            "Epoch 1/80\n",
            "80/80 [==============================] - 92s 1s/step - loss: 2.2680 - acc: 0.1379 - val_loss: 2.2777 - val_acc: 0.1895\n",
            "Epoch 2/80\n",
            "80/80 [==============================] - 92s 1s/step - loss: 2.0301 - acc: 0.2579 - val_loss: 2.0888 - val_acc: 0.2842\n",
            "Epoch 3/80\n",
            "80/80 [==============================] - 91s 1s/step - loss: 1.9581 - acc: 0.2782 - val_loss: 1.8040 - val_acc: 0.3555\n",
            "Epoch 4/80\n",
            "80/80 [==============================] - 90s 1s/step - loss: 1.7924 - acc: 0.3435 - val_loss: 1.8012 - val_acc: 0.3701\n",
            "Epoch 5/80\n",
            "80/80 [==============================] - 90s 1s/step - loss: 1.7543 - acc: 0.3627 - val_loss: 2.0800 - val_acc: 0.3369\n",
            "Epoch 6/80\n",
            "80/80 [==============================] - 90s 1s/step - loss: 1.6743 - acc: 0.3937 - val_loss: 2.1566 - val_acc: 0.2988\n",
            "Epoch 7/80\n",
            "80/80 [==============================] - 90s 1s/step - loss: 1.8119 - acc: 0.3530 - val_loss: 1.9323 - val_acc: 0.3203\n",
            "Epoch 8/80\n",
            "80/80 [==============================] - 89s 1s/step - loss: 1.6178 - acc: 0.4114 - val_loss: 1.6285 - val_acc: 0.4531\n",
            "Epoch 9/80\n",
            "80/80 [==============================] - 91s 1s/step - loss: 1.4939 - acc: 0.4655 - val_loss: 1.6415 - val_acc: 0.4570\n",
            "Epoch 10/80\n",
            "80/80 [==============================] - 90s 1s/step - loss: 1.6830 - acc: 0.4090 - val_loss: 1.5079 - val_acc: 0.4580\n",
            "Epoch 11/80\n",
            "80/80 [==============================] - 92s 1s/step - loss: 1.6240 - acc: 0.4302 - val_loss: 1.8594 - val_acc: 0.3838\n",
            "Epoch 12/80\n",
            "80/80 [==============================] - 92s 1s/step - loss: 1.5096 - acc: 0.4680 - val_loss: 1.5829 - val_acc: 0.4561\n",
            "Epoch 13/80\n",
            "80/80 [==============================] - 89s 1s/step - loss: 1.4360 - acc: 0.4931 - val_loss: 1.6710 - val_acc: 0.4160\n",
            "Epoch 14/80\n",
            "80/80 [==============================] - 88s 1s/step - loss: 1.4498 - acc: 0.4854 - val_loss: 1.4059 - val_acc: 0.5146\n",
            "Epoch 15/80\n",
            "80/80 [==============================] - 91s 1s/step - loss: 1.2939 - acc: 0.5424 - val_loss: 1.1097 - val_acc: 0.5703\n",
            "Epoch 16/80\n",
            "80/80 [==============================] - 89s 1s/step - loss: 1.2319 - acc: 0.5556 - val_loss: 1.1503 - val_acc: 0.5635\n",
            "Epoch 17/80\n",
            "80/80 [==============================] - 90s 1s/step - loss: 1.2215 - acc: 0.5683 - val_loss: 1.2881 - val_acc: 0.5225\n",
            "Epoch 18/80\n",
            "80/80 [==============================] - 89s 1s/step - loss: 1.2610 - acc: 0.5573 - val_loss: 1.4072 - val_acc: 0.5586\n",
            "Epoch 19/80\n",
            "80/80 [==============================] - 89s 1s/step - loss: 1.3359 - acc: 0.5466 - val_loss: 1.2385 - val_acc: 0.5576\n",
            "Epoch 20/80\n",
            "80/80 [==============================] - 89s 1s/step - loss: 1.2046 - acc: 0.5691 - val_loss: 1.3559 - val_acc: 0.5459\n",
            "Epoch 21/80\n",
            "80/80 [==============================] - 89s 1s/step - loss: 1.1249 - acc: 0.6024 - val_loss: 1.3539 - val_acc: 0.5635\n",
            "Epoch 22/80\n",
            "80/80 [==============================] - 91s 1s/step - loss: 1.1371 - acc: 0.6177 - val_loss: 1.2969 - val_acc: 0.4785\n",
            "Epoch 23/80\n",
            "80/80 [==============================] - 90s 1s/step - loss: 1.1707 - acc: 0.5946 - val_loss: 1.2999 - val_acc: 0.5479\n",
            "Epoch 24/80\n",
            "80/80 [==============================] - 91s 1s/step - loss: 1.0615 - acc: 0.6294 - val_loss: 1.1140 - val_acc: 0.6289\n",
            "Epoch 25/80\n",
            "80/80 [==============================] - 90s 1s/step - loss: 1.0754 - acc: 0.6216 - val_loss: 1.1663 - val_acc: 0.5801\n",
            "Epoch 26/80\n",
            "80/80 [==============================] - 90s 1s/step - loss: 1.1634 - acc: 0.5966 - val_loss: 1.1035 - val_acc: 0.5938\n",
            "Epoch 27/80\n",
            "80/80 [==============================] - 92s 1s/step - loss: 1.0118 - acc: 0.6450 - val_loss: 1.1424 - val_acc: 0.6064\n",
            "Epoch 28/80\n",
            "80/80 [==============================] - 89s 1s/step - loss: 1.0952 - acc: 0.6267 - val_loss: 0.9761 - val_acc: 0.6240\n",
            "Epoch 29/80\n",
            "80/80 [==============================] - 89s 1s/step - loss: 1.2950 - acc: 0.5725 - val_loss: 1.3096 - val_acc: 0.5654\n",
            "Epoch 30/80\n",
            "80/80 [==============================] - 88s 1s/step - loss: 1.0666 - acc: 0.6261 - val_loss: 1.1594 - val_acc: 0.6162\n",
            "Epoch 31/80\n",
            "80/80 [==============================] - 90s 1s/step - loss: 1.0466 - acc: 0.6491 - val_loss: 1.4169 - val_acc: 0.4893\n",
            "Epoch 32/80\n",
            "80/80 [==============================] - 91s 1s/step - loss: 1.2654 - acc: 0.5708 - val_loss: 1.3357 - val_acc: 0.5586\n",
            "\n",
            "Epoch 00032: ReduceLROnPlateau reducing learning rate to 4.999999873689376e-05.\n",
            "Epoch 33/80\n",
            "80/80 [==============================] - 89s 1s/step - loss: 1.0153 - acc: 0.6422 - val_loss: 0.9769 - val_acc: 0.6387\n",
            "Epoch 34/80\n",
            "80/80 [==============================] - 91s 1s/step - loss: 0.9650 - acc: 0.6672 - val_loss: 1.1559 - val_acc: 0.6104\n",
            "Epoch 35/80\n",
            "80/80 [==============================] - 91s 1s/step - loss: 0.9019 - acc: 0.6868 - val_loss: 0.8917 - val_acc: 0.6328\n",
            "Epoch 36/80\n",
            "80/80 [==============================] - 89s 1s/step - loss: 1.0198 - acc: 0.6563 - val_loss: 1.0339 - val_acc: 0.5859\n",
            "Epoch 37/80\n",
            "80/80 [==============================] - 91s 1s/step - loss: 0.8933 - acc: 0.6929 - val_loss: 1.1318 - val_acc: 0.6211\n",
            "Epoch 38/80\n",
            "80/80 [==============================] - 90s 1s/step - loss: 0.9656 - acc: 0.6742 - val_loss: 1.0474 - val_acc: 0.6445\n",
            "Epoch 39/80\n",
            "80/80 [==============================] - 91s 1s/step - loss: 0.8457 - acc: 0.6997 - val_loss: 0.9221 - val_acc: 0.6494\n",
            "Epoch 40/80\n",
            "80/80 [==============================] - 91s 1s/step - loss: 0.8017 - acc: 0.7209 - val_loss: 1.1348 - val_acc: 0.6562\n",
            "Epoch 41/80\n",
            "80/80 [==============================] - 93s 1s/step - loss: 0.7912 - acc: 0.7262 - val_loss: 0.9434 - val_acc: 0.6465\n",
            "Epoch 42/80\n",
            "80/80 [==============================] - 92s 1s/step - loss: 0.7616 - acc: 0.7333 - val_loss: 1.1345 - val_acc: 0.6436\n",
            "Epoch 43/80\n",
            "80/80 [==============================] - 90s 1s/step - loss: 0.7458 - acc: 0.7363 - val_loss: 1.1177 - val_acc: 0.6641\n",
            "Epoch 44/80\n",
            "80/80 [==============================] - 92s 1s/step - loss: 0.8051 - acc: 0.7191 - val_loss: 1.0520 - val_acc: 0.6611\n",
            "Epoch 45/80\n",
            "80/80 [==============================] - 91s 1s/step - loss: 0.7542 - acc: 0.7368 - val_loss: 1.0379 - val_acc: 0.6348\n",
            "Epoch 46/80\n",
            "80/80 [==============================] - 91s 1s/step - loss: 0.7141 - acc: 0.7514 - val_loss: 0.9408 - val_acc: 0.6748\n",
            "Epoch 47/80\n",
            "80/80 [==============================] - 93s 1s/step - loss: 0.7056 - acc: 0.7524 - val_loss: 1.0763 - val_acc: 0.6650\n",
            "Epoch 48/80\n",
            "80/80 [==============================] - 91s 1s/step - loss: 0.6996 - acc: 0.7572 - val_loss: 1.1950 - val_acc: 0.6855\n",
            "Epoch 49/80\n",
            "80/80 [==============================] - 90s 1s/step - loss: 0.8247 - acc: 0.7291 - val_loss: 0.9793 - val_acc: 0.6182\n",
            "Epoch 50/80\n",
            "80/80 [==============================] - 90s 1s/step - loss: 0.9711 - acc: 0.6725 - val_loss: 1.2674 - val_acc: 0.6260\n",
            "Epoch 51/80\n",
            "80/80 [==============================] - 93s 1s/step - loss: 0.7677 - acc: 0.7337 - val_loss: 1.0258 - val_acc: 0.6660\n",
            "Epoch 52/80\n",
            "80/80 [==============================] - 90s 1s/step - loss: 0.6818 - acc: 0.7585 - val_loss: 0.9389 - val_acc: 0.6670\n",
            "Epoch 53/80\n",
            "80/80 [==============================] - 91s 1s/step - loss: 0.6650 - acc: 0.7722 - val_loss: 1.2785 - val_acc: 0.6611\n",
            "Epoch 54/80\n",
            "80/80 [==============================] - 90s 1s/step - loss: 0.6904 - acc: 0.7602 - val_loss: 0.9667 - val_acc: 0.6934\n",
            "Epoch 55/80\n",
            "80/80 [==============================] - 91s 1s/step - loss: 0.7041 - acc: 0.7626 - val_loss: 1.1012 - val_acc: 0.6484\n",
            "Epoch 56/80\n",
            "80/80 [==============================] - 90s 1s/step - loss: 0.6324 - acc: 0.7775 - val_loss: 1.1949 - val_acc: 0.6982\n",
            "Epoch 57/80\n",
            "80/80 [==============================] - 92s 1s/step - loss: 0.6190 - acc: 0.7840 - val_loss: 1.1696 - val_acc: 0.6670\n",
            "Epoch 58/80\n",
            "80/80 [==============================] - 90s 1s/step - loss: 0.6043 - acc: 0.7906 - val_loss: 0.8637 - val_acc: 0.7158\n",
            "Epoch 59/80\n",
            "80/80 [==============================] - 90s 1s/step - loss: 0.6088 - acc: 0.7871 - val_loss: 1.0911 - val_acc: 0.6689\n",
            "Epoch 60/80\n",
            "80/80 [==============================] - 89s 1s/step - loss: 0.8324 - acc: 0.7229 - val_loss: 1.1492 - val_acc: 0.6855\n",
            "Epoch 61/80\n",
            "80/80 [==============================] - 90s 1s/step - loss: 0.7022 - acc: 0.7580 - val_loss: 0.8872 - val_acc: 0.6768\n",
            "Epoch 62/80\n",
            "80/80 [==============================] - 90s 1s/step - loss: 0.6133 - acc: 0.7880 - val_loss: 1.1115 - val_acc: 0.6826\n",
            "Epoch 63/80\n",
            "80/80 [==============================] - 88s 1s/step - loss: 0.6102 - acc: 0.7851 - val_loss: 0.9344 - val_acc: 0.7148\n",
            "\n",
            "Epoch 00063: ReduceLROnPlateau reducing learning rate to 2.499999936844688e-05.\n",
            "Epoch 64/80\n",
            "80/80 [==============================] - 88s 1s/step - loss: 0.5679 - acc: 0.8017 - val_loss: 0.8875 - val_acc: 0.6748\n",
            "Epoch 65/80\n",
            "80/80 [==============================] - 89s 1s/step - loss: 0.5441 - acc: 0.8136 - val_loss: 1.1078 - val_acc: 0.6963\n",
            "Epoch 66/80\n",
            "80/80 [==============================] - 88s 1s/step - loss: 0.5534 - acc: 0.8056 - val_loss: 1.2876 - val_acc: 0.6836\n",
            "Epoch 67/80\n",
            "80/80 [==============================] - 91s 1s/step - loss: 0.5348 - acc: 0.8194 - val_loss: 0.8634 - val_acc: 0.7178\n",
            "Epoch 68/80\n",
            "80/80 [==============================] - 90s 1s/step - loss: 0.5144 - acc: 0.8184 - val_loss: 0.8158 - val_acc: 0.6846\n",
            "Epoch 69/80\n",
            "80/80 [==============================] - 89s 1s/step - loss: 0.5137 - acc: 0.8204 - val_loss: 1.1346 - val_acc: 0.7002\n",
            "Epoch 70/80\n",
            "80/80 [==============================] - 89s 1s/step - loss: 0.5435 - acc: 0.8127 - val_loss: 0.8265 - val_acc: 0.7109\n",
            "Epoch 71/80\n",
            "80/80 [==============================] - 90s 1s/step - loss: 0.4965 - acc: 0.8297 - val_loss: 1.1380 - val_acc: 0.7139\n",
            "Epoch 72/80\n",
            "80/80 [==============================] - 91s 1s/step - loss: 0.4978 - acc: 0.8266 - val_loss: 0.9371 - val_acc: 0.7051\n",
            "Epoch 73/80\n",
            "80/80 [==============================] - 88s 1s/step - loss: 0.4723 - acc: 0.8346 - val_loss: 1.0864 - val_acc: 0.7305\n",
            "Epoch 74/80\n",
            "80/80 [==============================] - 90s 1s/step - loss: 0.4779 - acc: 0.8326 - val_loss: 0.8824 - val_acc: 0.7158\n",
            "Epoch 75/80\n",
            "80/80 [==============================] - 89s 1s/step - loss: 0.5503 - acc: 0.8166 - val_loss: 1.1640 - val_acc: 0.6865\n",
            "Epoch 76/80\n",
            "80/80 [==============================] - 91s 1s/step - loss: 0.6372 - acc: 0.7837 - val_loss: 1.0575 - val_acc: 0.7178\n",
            "Epoch 77/80\n",
            "80/80 [==============================] - 91s 1s/step - loss: 0.6095 - acc: 0.7960 - val_loss: 1.0098 - val_acc: 0.6846\n",
            "Epoch 78/80\n",
            "80/80 [==============================] - 90s 1s/step - loss: 0.5094 - acc: 0.8246 - val_loss: 1.0381 - val_acc: 0.7266\n",
            "Epoch 79/80\n",
            "80/80 [==============================] - 91s 1s/step - loss: 0.4865 - acc: 0.8312 - val_loss: 1.0462 - val_acc: 0.7139\n",
            "\n",
            "Epoch 00079: ReduceLROnPlateau reducing learning rate to 1.249999968422344e-05.\n",
            "Epoch 80/80\n",
            "80/80 [==============================] - 89s 1s/step - loss: 0.4901 - acc: 0.8287 - val_loss: 0.9495 - val_acc: 0.7217\n"
          ],
          "name": "stdout"
        }
      ]
    },
    {
      "cell_type": "code",
      "metadata": {
        "id": "7wsq_24Io2v6",
        "colab_type": "code",
        "colab": {}
      },
      "source": [
        "import matplotlib.pyplot as plt\n",
        "plt.semilogx(history.history[\"lr\"], history.history[\"loss\"])\n",
        "plt.axis([1e-6, 1e-2, 1, 2.9])"
      ],
      "execution_count": null,
      "outputs": []
    },
    {
      "cell_type": "code",
      "metadata": {
        "id": "KHbVV6AMo5S1",
        "colab_type": "code",
        "colab": {
          "base_uri": "https://localhost:8080/",
          "height": 545
        },
        "outputId": "433dd1d9-7f39-47a8-de6f-99d6701b1e55"
      },
      "source": [
        "import matplotlib.pyplot as plt\n",
        "acc = history.history['acc']\n",
        "val_acc = history.history['val_acc']\n",
        "loss = history.history['loss']\n",
        "val_loss = history.history['val_loss']\n",
        "epochs = range(1, len(acc) + 1) \n",
        "plt.plot(epochs, acc, 'bo', label='Training acc')\n",
        "plt.plot(epochs, val_acc, 'b', label='Validation acc')\n",
        "plt.title('Training and validation accuracy')\n",
        "plt.legend()\n",
        "plt.figure()\n",
        "plt.plot(epochs, loss, 'bo', label='Training loss')\n",
        "plt.plot(epochs, val_loss, 'b', label='Validation loss')\n",
        "plt.title('Training and validation loss')\n",
        "plt.legend()\n",
        "plt.show()"
      ],
      "execution_count": null,
      "outputs": [
        {
          "output_type": "display_data",
          "data": {
            "image/png": "[encoded data removed]",
            "text/plain": [
              "<Figure size 432x288 with 1 Axes>"
            ]
          },
          "metadata": {
            "tags": [],
            "needs_background": "light"
          }
        },
        {
          "output_type": "display_data",
          "data": {
            "image/png": "[encoded data removed]",
            "text/plain": [
              "<Figure size 432x288 with 1 Axes>"
            ]
          },
          "metadata": {
            "tags": [],
            "needs_background": "light"
          }
        }
      ]
    },
    {
      "cell_type": "code",
      "metadata": {
        "id": "VK5eSkPyo-39",
        "colab_type": "code",
        "colab": {}
      },
      "source": [
        "model.save('10_Animals_ns.h5')"
      ],
      "execution_count": null,
      "outputs": []
    }
  ]
}