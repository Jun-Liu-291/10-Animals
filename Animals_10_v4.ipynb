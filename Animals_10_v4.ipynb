{
  "nbformat": 4,
  "nbformat_minor": 0,
  "metadata": {
    "colab": {
      "name": "Animals-10-v4.ipynb",
      "provenance": [],
      "collapsed_sections": [],
      "authorship_tag": "ABX9TyPxDVK1nOWEdIYhiAw72NHY",
      "include_colab_link": true
    },
    "kernelspec": {
      "name": "python3",
      "display_name": "Python 3"
    },
    "accelerator": "GPU"
  },
  "cells": [
    {
      "cell_type": "markdown",
      "metadata": {
        "id": "view-in-github",
        "colab_type": "text"
      },
      "source": [
        "<a href=\"https://colab.research.google.com/github/Jun-Liu-291/10-Animals/blob/master/Animals_10_v4.ipynb\" target=\"_parent\"><img src=\"https://colab.research.google.com/assets/colab-badge.svg\" alt=\"Open In Colab\"/></a>"
      ]
    },
    {
      "cell_type": "code",
      "metadata": {
        "id": "t-k7bwJ0cCBb",
        "colab_type": "code",
        "colab": {
          "base_uri": "https://localhost:8080/",
          "height": 122
        },
        "outputId": "500ba017-8665-4d20-96d5-60774507fef9"
      },
      "source": [
        "from google.colab import drive\n",
        "drive.mount('/content/drive/')"
      ],
      "execution_count": null,
      "outputs": [
        {
          "output_type": "stream",
          "text": [
            "Go to this URL in a browser: https://accounts.google.com/o/oauth2/auth?client_id=947318989803-6bn6qk8qdgf4n4g3pfee6491hc0brc4i.apps.googleusercontent.com&redirect_uri=urn%3aietf%3awg%3aoauth%3a2.0%3aoob&response_type=code&scope=email%20https%3a%2f%2fwww.googleapis.com%2fauth%2fdocs.test%20https%3a%2f%2fwww.googleapis.com%2fauth%2fdrive%20https%3a%2f%2fwww.googleapis.com%2fauth%2fdrive.photos.readonly%20https%3a%2f%2fwww.googleapis.com%2fauth%2fpeopleapi.readonly\n",
            "\n",
            "Enter your authorization code:\n",
            "··········\n",
            "Mounted at /content/drive/\n"
          ],
          "name": "stdout"
        }
      ]
    },
    {
      "cell_type": "code",
      "metadata": {
        "id": "JwAcA1IyN5GD",
        "colab_type": "code",
        "colab": {
          "base_uri": "https://localhost:8080/",
          "height": 51
        },
        "outputId": "f4ecc13e-b900-45d0-e0f0-c9e1a9a9c8c9"
      },
      "source": [
        "%cd /content/drive/My Drive/dataset/tenAnimals_big\n",
        "\n",
        "!pwd"
      ],
      "execution_count": null,
      "outputs": [
        {
          "output_type": "stream",
          "text": [
            "/content/drive/My Drive/dataset/tenAnimals_big\n",
            "/content/drive/My Drive/dataset/tenAnimals_big\n"
          ],
          "name": "stdout"
        }
      ]
    },
    {
      "cell_type": "code",
      "metadata": {
        "id": "YvsTSFPGcJyY",
        "colab_type": "code",
        "colab": {
          "base_uri": "https://localhost:8080/",
          "height": 34
        },
        "outputId": "e7bc9321-75e2-4491-b098-1ac59d2bc2b1"
      },
      "source": [
        "from keras.models import load_model\n",
        "\n",
        "model = load_model('/content/drive/My Drive/dataset/tenAnimals/model/10AnimalsPretrained.h5')"
      ],
      "execution_count": null,
      "outputs": [
        {
          "output_type": "stream",
          "text": [
            "Using TensorFlow backend.\n"
          ],
          "name": "stderr"
        }
      ]
    },
    {
      "cell_type": "code",
      "metadata": {
        "id": "flNITkc1c0J0",
        "colab_type": "code",
        "colab": {
          "base_uri": "https://localhost:8080/",
          "height": 901
        },
        "outputId": "bf7028cb-eda3-4ba6-fdad-30408a5a4986"
      },
      "source": [
        "model.summary()"
      ],
      "execution_count": null,
      "outputs": [
        {
          "output_type": "stream",
          "text": [
            "Model: \"sequential_6\"\n",
            "_________________________________________________________________\n",
            "Layer (type)                 Output Shape              Param #   \n",
            "=================================================================\n",
            "conv2d_61 (Conv2D)           (None, 128, 128, 64)      1792      \n",
            "_________________________________________________________________\n",
            "conv2d_62 (Conv2D)           (None, 128, 128, 64)      36928     \n",
            "_________________________________________________________________\n",
            "max_pooling2d_26 (MaxPooling (None, 64, 64, 64)        0         \n",
            "_________________________________________________________________\n",
            "conv2d_63 (Conv2D)           (None, 64, 64, 128)       73856     \n",
            "_________________________________________________________________\n",
            "conv2d_64 (Conv2D)           (None, 64, 64, 128)       147584    \n",
            "_________________________________________________________________\n",
            "max_pooling2d_27 (MaxPooling (None, 32, 32, 128)       0         \n",
            "_________________________________________________________________\n",
            "conv2d_65 (Conv2D)           (None, 32, 32, 256)       295168    \n",
            "_________________________________________________________________\n",
            "conv2d_66 (Conv2D)           (None, 32, 32, 256)       590080    \n",
            "_________________________________________________________________\n",
            "max_pooling2d_28 (MaxPooling (None, 16, 16, 256)       0         \n",
            "_________________________________________________________________\n",
            "conv2d_67 (Conv2D)           (None, 16, 16, 512)       1180160   \n",
            "_________________________________________________________________\n",
            "conv2d_68 (Conv2D)           (None, 16, 16, 512)       2359808   \n",
            "_________________________________________________________________\n",
            "conv2d_69 (Conv2D)           (None, 16, 16, 512)       2359808   \n",
            "_________________________________________________________________\n",
            "max_pooling2d_29 (MaxPooling (None, 8, 8, 512)         0         \n",
            "_________________________________________________________________\n",
            "conv2d_70 (Conv2D)           (None, 8, 8, 1024)        4719616   \n",
            "_________________________________________________________________\n",
            "conv2d_71 (Conv2D)           (None, 8, 8, 1024)        9438208   \n",
            "_________________________________________________________________\n",
            "conv2d_72 (Conv2D)           (None, 8, 8, 1024)        9438208   \n",
            "_________________________________________________________________\n",
            "max_pooling2d_30 (MaxPooling (None, 4, 4, 1024)        0         \n",
            "_________________________________________________________________\n",
            "flatten_6 (Flatten)          (None, 16384)             0         \n",
            "_________________________________________________________________\n",
            "dropout_6 (Dropout)          (None, 16384)             0         \n",
            "_________________________________________________________________\n",
            "dense_16 (Dense)             (None, 512)               8389120   \n",
            "_________________________________________________________________\n",
            "dense_17 (Dense)             (None, 512)               262656    \n",
            "_________________________________________________________________\n",
            "dense_18 (Dense)             (None, 10)                5130      \n",
            "=================================================================\n",
            "Total params: 39,298,122\n",
            "Trainable params: 39,298,122\n",
            "Non-trainable params: 0\n",
            "_________________________________________________________________\n"
          ],
          "name": "stdout"
        }
      ]
    },
    {
      "cell_type": "code",
      "metadata": {
        "id": "7W_Ro4mgdU9N",
        "colab_type": "code",
        "colab": {}
      },
      "source": [
        "import os\n",
        "\n",
        "BASE_PATH = '/content/drive/My Drive/dataset/tenAnimals_big'\n",
        "TRAIN_PATH = os.path.join(BASE_PATH, 'train')\n",
        "VAL_PATH = os.path.join(BASE_PATH, 'validation')\n",
        "TEST_PATH = os.path.join(BASE_PATH, 'test')\n",
        "\n",
        "batch_size = 128\n",
        "epochs = 100\n",
        "IMG_HEIGHT = 128\n",
        "IMG_WIDTH = 128"
      ],
      "execution_count": null,
      "outputs": []
    },
    {
      "cell_type": "code",
      "metadata": {
        "id": "hhBoPcvmdAdA",
        "colab_type": "code",
        "colab": {
          "base_uri": "https://localhost:8080/",
          "height": 34
        },
        "outputId": "ffc593ce-4dd9-4c2f-eded-a316696bde0f"
      },
      "source": [
        "from keras.preprocessing.image import ImageDataGenerator\n",
        "\n",
        "test_datagen = ImageDataGenerator(rescale=1./255)\n",
        "\n",
        "test_generator = test_datagen.flow_from_directory(\n",
        "    TEST_PATH,\n",
        "    target_size=(IMG_HEIGHT, IMG_WIDTH),\n",
        "    batch_size=128,\n",
        "    class_mode='categorical'\n",
        ")"
      ],
      "execution_count": null,
      "outputs": [
        {
          "output_type": "stream",
          "text": [
            "Found 2613 images belonging to 10 classes.\n"
          ],
          "name": "stdout"
        }
      ]
    },
    {
      "cell_type": "code",
      "metadata": {
        "id": "MSgWsn4Vc7cZ",
        "colab_type": "code",
        "colab": {
          "base_uri": "https://localhost:8080/",
          "height": 34
        },
        "outputId": "d88caff8-4efb-4ade-d6e8-986a0561c2e6"
      },
      "source": [
        "model.evaluate_generator(test_generator)"
      ],
      "execution_count": null,
      "outputs": [
        {
          "output_type": "execute_result",
          "data": {
            "text/plain": [
              "[0.8286430239677429, 0.8411787152290344]"
            ]
          },
          "metadata": {
            "tags": []
          },
          "execution_count": 7
        }
      ]
    },
    {
      "cell_type": "code",
      "metadata": {
        "id": "BOQKxHE9d1WQ",
        "colab_type": "code",
        "colab": {}
      },
      "source": [
        "from keras import optimizers\n",
        "\n",
        "model.compile(loss='binary_crossentropy',\n",
        "              optimizer=optimizers.Adam(learning_rate = 1e-4),\n",
        "              metrics=['acc'])"
      ],
      "execution_count": null,
      "outputs": []
    },
    {
      "cell_type": "code",
      "metadata": {
        "id": "saz85DfWePPC",
        "colab_type": "code",
        "colab": {}
      },
      "source": [
        "from keras.callbacks import ModelCheckpoint\n",
        "from keras.callbacks import ReduceLROnPlateau\n",
        "# change callback function\n",
        "# apply ReduceLRonPlateau for changing LR\n",
        "reduceLR = ReduceLROnPlateau(\n",
        "    monitor=\"loss\",\n",
        "    factor = 0.5,\n",
        "    patience = 5,\n",
        "    verbose = 1,\n",
        "    mode = 'min',\n",
        "    min_lr = 1e-6)\n",
        "\n",
        "# save whole model when get a better val accuracy\n",
        "checkpoint = ModelCheckpoint(\n",
        "    filepath = '/content/drive/My Drive/dataset/tenAnimals_big/model/10_Animals_f1.{epoch:02d}-{val_loss:.2f}.h5',\n",
        "    monitor='val_acc',\n",
        "    save_weights_only = False,\n",
        "    save_best_only = True\n",
        ")\n",
        "\n",
        "my_callbacks = [reduceLR, checkpoint]"
      ],
      "execution_count": null,
      "outputs": []
    },
    {
      "cell_type": "code",
      "metadata": {
        "id": "qyrYTBEkeQQE",
        "colab_type": "code",
        "colab": {
          "base_uri": "https://localhost:8080/",
          "height": 51
        },
        "outputId": "e8f20047-4b0e-4b83-a6c4-1b467bcaabb9"
      },
      "source": [
        "train_image_generator = ImageDataGenerator(\n",
        "    rescale = 1./ 255,\n",
        "    rotation_range = 45,\n",
        "    width_shift_range = .25,\n",
        "    height_shift_range = .25,\n",
        "    horizontal_flip = True,\n",
        "    shear_range=0.2,\n",
        "    zoom_range = 0.2,\n",
        "    fill_mode='nearest'\n",
        ")\n",
        "\n",
        "validation_image_generator = ImageDataGenerator(rescale=1./255)\n",
        "\n",
        "train_data_gen = train_image_generator.flow_from_directory(\n",
        "    batch_size = batch_size,\n",
        "    directory = TRAIN_PATH,\n",
        "    shuffle = True,\n",
        "    target_size = (IMG_HEIGHT, IMG_WIDTH),\n",
        "    class_mode = 'categorical'\n",
        ")\n",
        "\n",
        "validation_data_gen = validation_image_generator.flow_from_directory(\n",
        "    batch_size = batch_size,\n",
        "    directory = VAL_PATH,\n",
        "    shuffle = True,\n",
        "    target_size = (IMG_HEIGHT, IMG_WIDTH),\n",
        "    class_mode = 'categorical'\n",
        ")"
      ],
      "execution_count": null,
      "outputs": [
        {
          "output_type": "stream",
          "text": [
            "Found 20938 images belonging to 10 classes.\n",
            "Found 2613 images belonging to 10 classes.\n"
          ],
          "name": "stdout"
        }
      ]
    },
    {
      "cell_type": "code",
      "metadata": {
        "id": "HyG2oRUzeWKI",
        "colab_type": "code",
        "colab": {
          "base_uri": "https://localhost:8080/",
          "height": 1000
        },
        "outputId": "718b12fe-444b-4f54-ac63-3c4ed8dbb523"
      },
      "source": [
        "history = model.fit_generator(\n",
        "    train_data_gen,\n",
        "    steps_per_epoch=int(20938/batch_size),\n",
        "    epochs=epochs,\n",
        "    validation_data=validation_data_gen,\n",
        "    validation_steps=int(2613/batch_size),\n",
        "    callbacks = my_callbacks\n",
        ")"
      ],
      "execution_count": null,
      "outputs": [
        {
          "output_type": "stream",
          "text": [
            "Epoch 1/100\n"
          ],
          "name": "stdout"
        },
        {
          "output_type": "stream",
          "text": [
            "/usr/local/lib/python3.6/dist-packages/keras/utils/data_utils.py:616: UserWarning: The input 112 could not be retrieved. It could be because a worker has died.\n",
            "  UserWarning)\n"
          ],
          "name": "stderr"
        },
        {
          "output_type": "stream",
          "text": [
            "  2/163 [..............................] - ETA: 1:41:20 - loss: 0.1463 - acc: 0.9664"
          ],
          "name": "stdout"
        },
        {
          "output_type": "stream",
          "text": [
            "/usr/local/lib/python3.6/dist-packages/keras/utils/data_utils.py:616: UserWarning: The input 108 could not be retrieved. It could be because a worker has died.\n",
            "  UserWarning)\n"
          ],
          "name": "stderr"
        },
        {
          "output_type": "stream",
          "text": [
            "\b\b\b\b\b\b\b\b\b\b\b\b\b\b\b\b\b\b\b\b\b\b\b\b\b\b\b\b\b\b\b\b\b\b\b\b\b\b\b\b\b\b\b\b\b\b\b\b\b\b\b\b\b\b\b\b\b\b\b\b\b\b\b\b\b\b\b\b\b\b\b\b\b\b\b\b\b\b\b\b\b\b\b\b\r  3/163 [..............................] - ETA: 1:36:01 - loss: 0.1442 - acc: 0.9669"
          ],
          "name": "stdout"
        },
        {
          "output_type": "stream",
          "text": [
            "/usr/local/lib/python3.6/dist-packages/keras/utils/data_utils.py:616: UserWarning: The input 96 could not be retrieved. It could be because a worker has died.\n",
            "  UserWarning)\n"
          ],
          "name": "stderr"
        },
        {
          "output_type": "stream",
          "text": [
            "\b\b\b\b\b\b\b\b\b\b\b\b\b\b\b\b\b\b\b\b\b\b\b\b\b\b\b\b\b\b\b\b\b\b\b\b\b\b\b\b\b\b\b\b\b\b\b\b\b\b\b\b\b\b\b\b\b\b\b\b\b\b\b\b\b\b\b\b\b\b\b\b\b\b\b\b\b\b\b\b\b\b\b\b\r  4/163 [..............................] - ETA: 1:36:40 - loss: 0.1524 - acc: 0.9639"
          ],
          "name": "stdout"
        },
        {
          "output_type": "stream",
          "text": [
            "/usr/local/lib/python3.6/dist-packages/keras/utils/data_utils.py:616: UserWarning: The input 138 could not be retrieved. It could be because a worker has died.\n",
            "  UserWarning)\n"
          ],
          "name": "stderr"
        },
        {
          "output_type": "stream",
          "text": [
            "\b\b\b\b\b\b\b\b\b\b\b\b\b\b\b\b\b\b\b\b\b\b\b\b\b\b\b\b\b\b\b\b\b\b\b\b\b\b\b\b\b\b\b\b\b\b\b\b\b\b\b\b\b\b\b\b\b\b\b\b\b\b\b\b\b\b\b\b\b\b\b\b\b\b\b\b\b\b\b\b\b\b\b\b\r  5/163 [..............................] - ETA: 1:34:00 - loss: 0.1644 - acc: 0.9608"
          ],
          "name": "stdout"
        },
        {
          "output_type": "stream",
          "text": [
            "/usr/local/lib/python3.6/dist-packages/keras/utils/data_utils.py:616: UserWarning: The input 63 could not be retrieved. It could be because a worker has died.\n",
            "  UserWarning)\n"
          ],
          "name": "stderr"
        },
        {
          "output_type": "stream",
          "text": [
            "\b\b\b\b\b\b\b\b\b\b\b\b\b\b\b\b\b\b\b\b\b\b\b\b\b\b\b\b\b\b\b\b\b\b\b\b\b\b\b\b\b\b\b\b\b\b\b\b\b\b\b\b\b\b\b\b\b\b\b\b\b\b\b\b\b\b\b\b\b\b\b\b\b\b\b\b\b\b\b\b\b\b\b\b\r  6/163 [>.............................] - ETA: 1:32:29 - loss: 0.1643 - acc: 0.9598"
          ],
          "name": "stdout"
        },
        {
          "output_type": "stream",
          "text": [
            "/usr/local/lib/python3.6/dist-packages/keras/utils/data_utils.py:616: UserWarning: The input 34 could not be retrieved. It could be because a worker has died.\n",
            "  UserWarning)\n"
          ],
          "name": "stderr"
        },
        {
          "output_type": "stream",
          "text": [
            "\b\b\b\b\b\b\b\b\b\b\b\b\b\b\b\b\b\b\b\b\b\b\b\b\b\b\b\b\b\b\b\b\b\b\b\b\b\b\b\b\b\b\b\b\b\b\b\b\b\b\b\b\b\b\b\b\b\b\b\b\b\b\b\b\b\b\b\b\b\b\b\b\b\b\b\b\b\b\b\b\b\b\b\b\r  7/163 [>.............................] - ETA: 1:31:09 - loss: 0.1645 - acc: 0.9586"
          ],
          "name": "stdout"
        },
        {
          "output_type": "stream",
          "text": [
            "/usr/local/lib/python3.6/dist-packages/keras/utils/data_utils.py:616: UserWarning: The input 150 could not be retrieved. It could be because a worker has died.\n",
            "  UserWarning)\n"
          ],
          "name": "stderr"
        },
        {
          "output_type": "stream",
          "text": [
            "  9/163 [>.............................] - ETA: 1:28:04 - loss: 0.1591 - acc: 0.9579"
          ],
          "name": "stdout"
        },
        {
          "output_type": "stream",
          "text": [
            "/usr/local/lib/python3.6/dist-packages/keras/utils/data_utils.py:616: UserWarning: The input 74 could not be retrieved. It could be because a worker has died.\n",
            "  UserWarning)\n"
          ],
          "name": "stderr"
        },
        {
          "output_type": "stream",
          "text": [
            "\b\b\b\b\b\b\b\b\b\b\b\b\b\b\b\b\b\b\b\b\b\b\b\b\b\b\b\b\b\b\b\b\b\b\b\b\b\b\b\b\b\b\b\b\b\b\b\b\b\b\b\b\b\b\b\b\b\b\b\b\b\b\b\b\b\b\b\b\b\b\b\b\b\b\b\b\b\b\b\b\b\b\b\b\r 10/163 [>.............................] - ETA: 1:27:19 - loss: 0.1537 - acc: 0.9587"
          ],
          "name": "stdout"
        },
        {
          "output_type": "stream",
          "text": [
            "/usr/local/lib/python3.6/dist-packages/keras/utils/data_utils.py:616: UserWarning: The input 36 could not be retrieved. It could be because a worker has died.\n",
            "  UserWarning)\n"
          ],
          "name": "stderr"
        },
        {
          "output_type": "stream",
          "text": [
            "\b\b\b\b\b\b\b\b\b\b\b\b\b\b\b\b\b\b\b\b\b\b\b\b\b\b\b\b\b\b\b\b\b\b\b\b\b\b\b\b\b\b\b\b\b\b\b\b\b\b\b\b\b\b\b\b\b\b\b\b\b\b\b\b\b\b\b\b\b\b\b\b\b\b\b\b\b\b\b\b\b\b\b\b\r 11/163 [=>............................] - ETA: 1:26:27 - loss: 0.1493 - acc: 0.9594"
          ],
          "name": "stdout"
        },
        {
          "output_type": "stream",
          "text": [
            "/usr/local/lib/python3.6/dist-packages/keras/utils/data_utils.py:616: UserWarning: The input 21 could not be retrieved. It could be because a worker has died.\n",
            "  UserWarning)\n"
          ],
          "name": "stderr"
        },
        {
          "output_type": "stream",
          "text": [
            " 15/163 [=>............................] - ETA: 1:22:17 - loss: 0.1419 - acc: 0.9592"
          ],
          "name": "stdout"
        },
        {
          "output_type": "stream",
          "text": [
            "/usr/local/lib/python3.6/dist-packages/keras/utils/data_utils.py:616: UserWarning: The input 143 could not be retrieved. It could be because a worker has died.\n",
            "  UserWarning)\n"
          ],
          "name": "stderr"
        },
        {
          "output_type": "stream",
          "text": [
            "\b\b\b\b\b\b\b\b\b\b\b\b\b\b\b\b\b\b\b\b\b\b\b\b\b\b\b\b\b\b\b\b\b\b\b\b\b\b\b\b\b\b\b\b\b\b\b\b\b\b\b\b\b\b\b\b\b\b\b\b\b\b\b\b\b\b\b\b\b\b\b\b\b\b\b\b\b\b\b\b\b\b\b\b\r 16/163 [=>............................] - ETA: 1:21:33 - loss: 0.1398 - acc: 0.9591"
          ],
          "name": "stdout"
        },
        {
          "output_type": "stream",
          "text": [
            "/usr/local/lib/python3.6/dist-packages/keras/utils/data_utils.py:616: UserWarning: The input 139 could not be retrieved. It could be because a worker has died.\n",
            "  UserWarning)\n"
          ],
          "name": "stderr"
        },
        {
          "output_type": "stream",
          "text": [
            "\b\b\b\b\b\b\b\b\b\b\b\b\b\b\b\b\b\b\b\b\b\b\b\b\b\b\b\b\b\b\b\b\b\b\b\b\b\b\b\b\b\b\b\b\b\b\b\b\b\b\b\b\b\b\b\b\b\b\b\b\b\b\b\b\b\b\b\b\b\b\b\b\b\b\b\b\b\b\b\b\b\b\b\b\r 17/163 [==>...........................] - ETA: 1:21:13 - loss: 0.1388 - acc: 0.9588"
          ],
          "name": "stdout"
        },
        {
          "output_type": "stream",
          "text": [
            "/usr/local/lib/python3.6/dist-packages/keras/utils/data_utils.py:616: UserWarning: The input 22 could not be retrieved. It could be because a worker has died.\n",
            "  UserWarning)\n"
          ],
          "name": "stderr"
        },
        {
          "output_type": "stream",
          "text": [
            "\b\b\b\b\b\b\b\b\b\b\b\b\b\b\b\b\b\b\b\b\b\b\b\b\b\b\b\b\b\b\b\b\b\b\b\b\b\b\b\b\b\b\b\b\b\b\b\b\b\b\b\b\b\b\b\b\b\b\b\b\b\b\b\b\b\b\b\b\b\b\b\b\b\b\b\b\b\b\b\b\b\b\b\b\r 18/163 [==>...........................] - ETA: 1:20:40 - loss: 0.1369 - acc: 0.9591"
          ],
          "name": "stdout"
        },
        {
          "output_type": "stream",
          "text": [
            "/usr/local/lib/python3.6/dist-packages/keras/utils/data_utils.py:616: UserWarning: The input 156 could not be retrieved. It could be because a worker has died.\n",
            "  UserWarning)\n"
          ],
          "name": "stderr"
        },
        {
          "output_type": "stream",
          "text": [
            "\b\b\b\b\b\b\b\b\b\b\b\b\b\b\b\b\b\b\b\b\b\b\b\b\b\b\b\b\b\b\b\b\b\b\b\b\b\b\b\b\b\b\b\b\b\b\b\b\b\b\b\b\b\b\b\b\b\b\b\b\b\b\b\b\b\b\b\b\b\b\b\b\b\b\b\b\b\b\b\b\b\b\b\b\r 19/163 [==>...........................] - ETA: 1:19:57 - loss: 0.1346 - acc: 0.9596"
          ],
          "name": "stdout"
        },
        {
          "output_type": "stream",
          "text": [
            "/usr/local/lib/python3.6/dist-packages/keras/utils/data_utils.py:616: UserWarning: The input 29 could not be retrieved. It could be because a worker has died.\n",
            "  UserWarning)\n"
          ],
          "name": "stderr"
        },
        {
          "output_type": "stream",
          "text": [
            " 21/163 [==>...........................] - ETA: 1:18:58 - loss: 0.1317 - acc: 0.9598"
          ],
          "name": "stdout"
        },
        {
          "output_type": "stream",
          "text": [
            "/usr/local/lib/python3.6/dist-packages/keras/utils/data_utils.py:616: UserWarning: The input 149 could not be retrieved. It could be because a worker has died.\n",
            "  UserWarning)\n"
          ],
          "name": "stderr"
        },
        {
          "output_type": "stream",
          "text": [
            " 23/163 [===>..........................] - ETA: 1:17:35 - loss: 0.1296 - acc: 0.9602"
          ],
          "name": "stdout"
        },
        {
          "output_type": "stream",
          "text": [
            "/usr/local/lib/python3.6/dist-packages/keras/utils/data_utils.py:616: UserWarning: The input 75 could not be retrieved. It could be because a worker has died.\n",
            "  UserWarning)\n"
          ],
          "name": "stderr"
        },
        {
          "output_type": "stream",
          "text": [
            "\b\b\b\b\b\b\b\b\b\b\b\b\b\b\b\b\b\b\b\b\b\b\b\b\b\b\b\b\b\b\b\b\b\b\b\b\b\b\b\b\b\b\b\b\b\b\b\b\b\b\b\b\b\b\b\b\b\b\b\b\b\b\b\b\b\b\b\b\b\b\b\b\b\b\b\b\b\b\b\b\b\b\b\b\r 24/163 [===>..........................] - ETA: 1:17:09 - loss: 0.1286 - acc: 0.9603"
          ],
          "name": "stdout"
        },
        {
          "output_type": "stream",
          "text": [
            "/usr/local/lib/python3.6/dist-packages/keras/utils/data_utils.py:616: UserWarning: The input 67 could not be retrieved. It could be because a worker has died.\n",
            "  UserWarning)\n"
          ],
          "name": "stderr"
        },
        {
          "output_type": "stream",
          "text": [
            "\b\b\b\b\b\b\b\b\b\b\b\b\b\b\b\b\b\b\b\b\b\b\b\b\b\b\b\b\b\b\b\b\b\b\b\b\b\b\b\b\b\b\b\b\b\b\b\b\b\b\b\b\b\b\b\b\b\b\b\b\b\b\b\b\b\b\b\b\b\b\b\b\b\b\b\b\b\b\b\b\b\b\b\b\r 25/163 [===>..........................] - ETA: 1:16:32 - loss: 0.1289 - acc: 0.9599"
          ],
          "name": "stdout"
        },
        {
          "output_type": "stream",
          "text": [
            "/usr/local/lib/python3.6/dist-packages/keras/utils/data_utils.py:616: UserWarning: The input 1 could not be retrieved. It could be because a worker has died.\n",
            "  UserWarning)\n"
          ],
          "name": "stderr"
        },
        {
          "output_type": "stream",
          "text": [
            "\b\b\b\b\b\b\b\b\b\b\b\b\b\b\b\b\b\b\b\b\b\b\b\b\b\b\b\b\b\b\b\b\b\b\b\b\b\b\b\b\b\b\b\b\b\b\b\b\b\b\b\b\b\b\b\b\b\b\b\b\b\b\b\b\b\b\b\b\b\b\b\b\b\b\b\b\b\b\b\b\b\b\b\b\r 26/163 [===>..........................] - ETA: 1:16:04 - loss: 0.1277 - acc: 0.9600"
          ],
          "name": "stdout"
        },
        {
          "output_type": "stream",
          "text": [
            "/usr/local/lib/python3.6/dist-packages/keras/utils/data_utils.py:616: UserWarning: The input 132 could not be retrieved. It could be because a worker has died.\n",
            "  UserWarning)\n"
          ],
          "name": "stderr"
        },
        {
          "output_type": "stream",
          "text": [
            " 28/163 [====>.........................] - ETA: 1:14:43 - loss: 0.1256 - acc: 0.9602"
          ],
          "name": "stdout"
        },
        {
          "output_type": "stream",
          "text": [
            "/usr/local/lib/python3.6/dist-packages/keras/utils/data_utils.py:616: UserWarning: The input 92 could not be retrieved. It could be because a worker has died.\n",
            "  UserWarning)\n"
          ],
          "name": "stderr"
        },
        {
          "output_type": "stream",
          "text": [
            "\b\b\b\b\b\b\b\b\b\b\b\b\b\b\b\b\b\b\b\b\b\b\b\b\b\b\b\b\b\b\b\b\b\b\b\b\b\b\b\b\b\b\b\b\b\b\b\b\b\b\b\b\b\b\b\b\b\b\b\b\b\b\b\b\b\b\b\b\b\b\b\b\b\b\b\b\b\b\b\b\b\b\b\b\r 29/163 [====>.........................] - ETA: 1:14:12 - loss: 0.1240 - acc: 0.9607"
          ],
          "name": "stdout"
        },
        {
          "output_type": "stream",
          "text": [
            "/usr/local/lib/python3.6/dist-packages/keras/utils/data_utils.py:616: UserWarning: The input 26 could not be retrieved. It could be because a worker has died.\n",
            "  UserWarning)\n"
          ],
          "name": "stderr"
        },
        {
          "output_type": "stream",
          "text": [
            "\b\b\b\b\b\b\b\b\b\b\b\b\b\b\b\b\b\b\b\b\b\b\b\b\b\b\b\b\b\b\b\b\b\b\b\b\b\b\b\b\b\b\b\b\b\b\b\b\b\b\b\b\b\b\b\b\b\b\b\b\b\b\b\b\b\b\b\b\b\b\b\b\b\b\b\b\b\b\b\b\b\b\b\b\r 30/163 [====>.........................] - ETA: 1:14:05 - loss: 0.1236 - acc: 0.9605"
          ],
          "name": "stdout"
        },
        {
          "output_type": "stream",
          "text": [
            "/usr/local/lib/python3.6/dist-packages/keras/utils/data_utils.py:616: UserWarning: The input 106 could not be retrieved. It could be because a worker has died.\n",
            "  UserWarning)\n"
          ],
          "name": "stderr"
        },
        {
          "output_type": "stream",
          "text": [
            "\b\b\b\b\b\b\b\b\b\b\b\b\b\b\b\b\b\b\b\b\b\b\b\b\b\b\b\b\b\b\b\b\b\b\b\b\b\b\b\b\b\b\b\b\b\b\b\b\b\b\b\b\b\b\b\b\b\b\b\b\b\b\b\b\b\b\b\b\b\b\b\b\b\b\b\b\b\b\b\b\b\b\b\b\r 31/163 [====>.........................] - ETA: 1:13:54 - loss: 0.1226 - acc: 0.9607"
          ],
          "name": "stdout"
        },
        {
          "output_type": "stream",
          "text": [
            "/usr/local/lib/python3.6/dist-packages/keras/utils/data_utils.py:616: UserWarning: The input 102 could not be retrieved. It could be because a worker has died.\n",
            "  UserWarning)\n"
          ],
          "name": "stderr"
        },
        {
          "output_type": "stream",
          "text": [
            " 37/163 [=====>........................] - ETA: 1:09:32 - loss: 0.1175 - acc: 0.9620"
          ],
          "name": "stdout"
        },
        {
          "output_type": "stream",
          "text": [
            "/usr/local/lib/python3.6/dist-packages/keras/utils/data_utils.py:616: UserWarning: The input 39 could not be retrieved. It could be because a worker has died.\n",
            "  UserWarning)\n"
          ],
          "name": "stderr"
        },
        {
          "output_type": "stream",
          "text": [
            "\b\b\b\b\b\b\b\b\b\b\b\b\b\b\b\b\b\b\b\b\b\b\b\b\b\b\b\b\b\b\b\b\b\b\b\b\b\b\b\b\b\b\b\b\b\b\b\b\b\b\b\b\b\b\b\b\b\b\b\b\b\b\b\b\b\b\b\b\b\b\b\b\b\b\b\b\b\b\b\b\b\b\b\b\r 38/163 [=====>........................] - ETA: 1:09:29 - loss: 0.1162 - acc: 0.9623"
          ],
          "name": "stdout"
        },
        {
          "output_type": "stream",
          "text": [
            "/usr/local/lib/python3.6/dist-packages/keras/utils/data_utils.py:616: UserWarning: The input 127 could not be retrieved. It could be because a worker has died.\n",
            "  UserWarning)\n"
          ],
          "name": "stderr"
        },
        {
          "output_type": "stream",
          "text": [
            "\b\b\b\b\b\b\b\b\b\b\b\b\b\b\b\b\b\b\b\b\b\b\b\b\b\b\b\b\b\b\b\b\b\b\b\b\b\b\b\b\b\b\b\b\b\b\b\b\b\b\b\b\b\b\b\b\b\b\b\b\b\b\b\b\b\b\b\b\b\b\b\b\b\b\b\b\b\b\b\b\b\b\b\b\r 39/163 [======>.......................] - ETA: 1:09:08 - loss: 0.1158 - acc: 0.9622"
          ],
          "name": "stdout"
        },
        {
          "output_type": "stream",
          "text": [
            "/usr/local/lib/python3.6/dist-packages/keras/utils/data_utils.py:616: UserWarning: The input 104 could not be retrieved. It could be because a worker has died.\n",
            "  UserWarning)\n"
          ],
          "name": "stderr"
        },
        {
          "output_type": "stream",
          "text": [
            "\b\b\b\b\b\b\b\b\b\b\b\b\b\b\b\b\b\b\b\b\b\b\b\b\b\b\b\b\b\b\b\b\b\b\b\b\b\b\b\b\b\b\b\b\b\b\b\b\b\b\b\b\b\b\b\b\b\b\b\b\b\b\b\b\b\b\b\b\b\b\b\b\b\b\b\b\b\b\b\b\b\b\b\b\r 40/163 [======>.......................] - ETA: 1:09:39 - loss: 0.1154 - acc: 0.9621"
          ],
          "name": "stdout"
        },
        {
          "output_type": "stream",
          "text": [
            "/usr/local/lib/python3.6/dist-packages/keras/utils/data_utils.py:616: UserWarning: The input 79 could not be retrieved. It could be because a worker has died.\n",
            "  UserWarning)\n"
          ],
          "name": "stderr"
        },
        {
          "output_type": "stream",
          "text": [
            "\b\b\b\b\b\b\b\b\b\b\b\b\b\b\b\b\b\b\b\b\b\b\b\b\b\b\b\b\b\b\b\b\b\b\b\b\b\b\b\b\b\b\b\b\b\b\b\b\b\b\b\b\b\b\b\b\b\b\b\b\b\b\b\b\b\b\b\b\b\b\b\b\b\b\b\b\b\b\b\b\b\b\b\b\r 41/163 [======>.......................] - ETA: 1:09:00 - loss: 0.1141 - acc: 0.9625"
          ],
          "name": "stdout"
        },
        {
          "output_type": "stream",
          "text": [
            "/usr/local/lib/python3.6/dist-packages/keras/utils/data_utils.py:616: UserWarning: The input 154 could not be retrieved. It could be because a worker has died.\n",
            "  UserWarning)\n"
          ],
          "name": "stderr"
        },
        {
          "output_type": "stream",
          "text": [
            "\b\b\b\b\b\b\b\b\b\b\b\b\b\b\b\b\b\b\b\b\b\b\b\b\b\b\b\b\b\b\b\b\b\b\b\b\b\b\b\b\b\b\b\b\b\b\b\b\b\b\b\b\b\b\b\b\b\b\b\b\b\b\b\b\b\b\b\b\b\b\b\b\b\b\b\b\b\b\b\b\b\b\b\b\r 42/163 [======>.......................] - ETA: 1:08:24 - loss: 0.1136 - acc: 0.9625"
          ],
          "name": "stdout"
        },
        {
          "output_type": "stream",
          "text": [
            "/usr/local/lib/python3.6/dist-packages/keras/utils/data_utils.py:616: UserWarning: The input 25 could not be retrieved. It could be because a worker has died.\n",
            "  UserWarning)\n"
          ],
          "name": "stderr"
        },
        {
          "output_type": "stream",
          "text": [
            " 44/163 [=======>......................] - ETA: 1:07:13 - loss: 0.1127 - acc: 0.9625"
          ],
          "name": "stdout"
        },
        {
          "output_type": "stream",
          "text": [
            "/usr/local/lib/python3.6/dist-packages/keras/utils/data_utils.py:616: UserWarning: The input 85 could not be retrieved. It could be because a worker has died.\n",
            "  UserWarning)\n"
          ],
          "name": "stderr"
        },
        {
          "output_type": "stream",
          "text": [
            " 46/163 [=======>......................] - ETA: 1:05:52 - loss: 0.1111 - acc: 0.9630"
          ],
          "name": "stdout"
        },
        {
          "output_type": "stream",
          "text": [
            "/usr/local/lib/python3.6/dist-packages/keras/utils/data_utils.py:616: UserWarning: The input 30 could not be retrieved. It could be because a worker has died.\n",
            "  UserWarning)\n"
          ],
          "name": "stderr"
        },
        {
          "output_type": "stream",
          "text": [
            " 50/163 [========>.....................] - ETA: 1:03:13 - loss: 0.1091 - acc: 0.9637"
          ],
          "name": "stdout"
        },
        {
          "output_type": "stream",
          "text": [
            "/usr/local/lib/python3.6/dist-packages/keras/utils/data_utils.py:616: UserWarning: The input 141 could not be retrieved. It could be because a worker has died.\n",
            "  UserWarning)\n"
          ],
          "name": "stderr"
        },
        {
          "output_type": "stream",
          "text": [
            " 52/163 [========>.....................] - ETA: 1:01:54 - loss: 0.1085 - acc: 0.9638"
          ],
          "name": "stdout"
        },
        {
          "output_type": "stream",
          "text": [
            "/usr/local/lib/python3.6/dist-packages/keras/utils/data_utils.py:616: UserWarning: The input 24 could not be retrieved. It could be because a worker has died.\n",
            "  UserWarning)\n"
          ],
          "name": "stderr"
        },
        {
          "output_type": "stream",
          "text": [
            "\b\b\b\b\b\b\b\b\b\b\b\b\b\b\b\b\b\b\b\b\b\b\b\b\b\b\b\b\b\b\b\b\b\b\b\b\b\b\b\b\b\b\b\b\b\b\b\b\b\b\b\b\b\b\b\b\b\b\b\b\b\b\b\b\b\b\b\b\b\b\b\b\b\b\b\b\b\b\b\b\b\b\b\b\r 53/163 [========>.....................] - ETA: 1:01:18 - loss: 0.1082 - acc: 0.9639"
          ],
          "name": "stdout"
        },
        {
          "output_type": "stream",
          "text": [
            "/usr/local/lib/python3.6/dist-packages/keras/utils/data_utils.py:616: UserWarning: The input 46 could not be retrieved. It could be because a worker has died.\n",
            "  UserWarning)\n"
          ],
          "name": "stderr"
        },
        {
          "output_type": "stream",
          "text": [
            " 57/163 [=========>....................] - ETA: 59:03 - loss: 0.1069 - acc: 0.9640"
          ],
          "name": "stdout"
        },
        {
          "output_type": "stream",
          "text": [
            "/usr/local/lib/python3.6/dist-packages/keras/utils/data_utils.py:616: UserWarning: The input 103 could not be retrieved. It could be because a worker has died.\n",
            "  UserWarning)\n"
          ],
          "name": "stderr"
        },
        {
          "output_type": "stream",
          "text": [
            " 62/163 [==========>...................] - ETA: 55:52 - loss: 0.1053 - acc: 0.9645"
          ],
          "name": "stdout"
        },
        {
          "output_type": "stream",
          "text": [
            "/usr/local/lib/python3.6/dist-packages/keras/utils/data_utils.py:616: UserWarning: The input 48 could not be retrieved. It could be because a worker has died.\n",
            "  UserWarning)\n"
          ],
          "name": "stderr"
        },
        {
          "output_type": "stream",
          "text": [
            "\b\b\b\b\b\b\b\b\b\b\b\b\b\b\b\b\b\b\b\b\b\b\b\b\b\b\b\b\b\b\b\b\b\b\b\b\b\b\b\b\b\b\b\b\b\b\b\b\b\b\b\b\b\b\b\b\b\b\b\b\b\b\b\b\b\b\b\b\b\b\b\b\b\b\b\b\b\b\b\b\b\b\r 63/163 [==========>...................] - ETA: 55:17 - loss: 0.1049 - acc: 0.9646"
          ],
          "name": "stdout"
        },
        {
          "output_type": "stream",
          "text": [
            "/usr/local/lib/python3.6/dist-packages/keras/utils/data_utils.py:616: UserWarning: The input 136 could not be retrieved. It could be because a worker has died.\n",
            "  UserWarning)\n"
          ],
          "name": "stderr"
        },
        {
          "output_type": "stream",
          "text": [
            " 65/163 [==========>...................] - ETA: 54:08 - loss: 0.1042 - acc: 0.9648"
          ],
          "name": "stdout"
        },
        {
          "output_type": "stream",
          "text": [
            "/usr/local/lib/python3.6/dist-packages/keras/utils/data_utils.py:616: UserWarning: The input 38 could not be retrieved. It could be because a worker has died.\n",
            "  UserWarning)\n"
          ],
          "name": "stderr"
        },
        {
          "output_type": "stream",
          "text": [
            " 73/163 [============>.................] - ETA: 49:10 - loss: 0.1027 - acc: 0.9651"
          ],
          "name": "stdout"
        },
        {
          "output_type": "stream",
          "text": [
            "/usr/local/lib/python3.6/dist-packages/keras/utils/data_utils.py:616: UserWarning: The input 31 could not be retrieved. It could be because a worker has died.\n",
            "  UserWarning)\n"
          ],
          "name": "stderr"
        },
        {
          "output_type": "stream",
          "text": [
            " 75/163 [============>.................] - ETA: 48:01 - loss: 0.1020 - acc: 0.9652"
          ],
          "name": "stdout"
        },
        {
          "output_type": "stream",
          "text": [
            "/usr/local/lib/python3.6/dist-packages/keras/utils/data_utils.py:616: UserWarning: The input 84 could not be retrieved. It could be because a worker has died.\n",
            "  UserWarning)\n"
          ],
          "name": "stderr"
        },
        {
          "output_type": "stream",
          "text": [
            " 77/163 [=============>................] - ETA: 47:00 - loss: 0.1014 - acc: 0.9654"
          ],
          "name": "stdout"
        },
        {
          "output_type": "stream",
          "text": [
            "/usr/local/lib/python3.6/dist-packages/keras/utils/data_utils.py:616: UserWarning: The input 4 could not be retrieved. It could be because a worker has died.\n",
            "  UserWarning)\n"
          ],
          "name": "stderr"
        },
        {
          "output_type": "stream",
          "text": [
            "\b\b\b\b\b\b\b\b\b\b\b\b\b\b\b\b\b\b\b\b\b\b\b\b\b\b\b\b\b\b\b\b\b\b\b\b\b\b\b\b\b\b\b\b\b\b\b\b\b\b\b\b\b\b\b\b\b\b\b\b\b\b\b\b\b\b\b\b\b\b\b\b\b\b\b\b\b\b\b\b\b\b\r 78/163 [=============>................] - ETA: 46:40 - loss: 0.1011 - acc: 0.9655"
          ],
          "name": "stdout"
        },
        {
          "output_type": "stream",
          "text": [
            "/usr/local/lib/python3.6/dist-packages/keras/utils/data_utils.py:616: UserWarning: The input 162 could not be retrieved. It could be because a worker has died.\n",
            "  UserWarning)\n"
          ],
          "name": "stderr"
        },
        {
          "output_type": "stream",
          "text": [
            " 80/163 [=============>................] - ETA: 45:39 - loss: 0.1008 - acc: 0.9656"
          ],
          "name": "stdout"
        },
        {
          "output_type": "stream",
          "text": [
            "/usr/local/lib/python3.6/dist-packages/keras/utils/data_utils.py:616: UserWarning: The input 55 could not be retrieved. It could be because a worker has died.\n",
            "  UserWarning)\n"
          ],
          "name": "stderr"
        },
        {
          "output_type": "stream",
          "text": [
            "\b\b\b\b\b\b\b\b\b\b\b\b\b\b\b\b\b\b\b\b\b\b\b\b\b\b\b\b\b\b\b\b\b\b\b\b\b\b\b\b\b\b\b\b\b\b\b\b\b\b\b\b\b\b\b\b\b\b\b\b\b\b\b\b\b\b\b\b\b\b\b\b\b\b\b\b\b\b\b\b\b\b\r 81/163 [=============>................] - ETA: 45:12 - loss: 0.1006 - acc: 0.9656"
          ],
          "name": "stdout"
        },
        {
          "output_type": "stream",
          "text": [
            "/usr/local/lib/python3.6/dist-packages/keras/utils/data_utils.py:616: UserWarning: The input 142 could not be retrieved. It could be because a worker has died.\n",
            "  UserWarning)\n"
          ],
          "name": "stderr"
        },
        {
          "output_type": "stream",
          "text": [
            "\b\b\b\b\b\b\b\b\b\b\b\b\b\b\b\b\b\b\b\b\b\b\b\b\b\b\b\b\b\b\b\b\b\b\b\b\b\b\b\b\b\b\b\b\b\b\b\b\b\b\b\b\b\b\b\b\b\b\b\b\b\b\b\b\b\b\b\b\b\b\b\b\b\b\b\b\b\b\b\b\b\b\r 82/163 [==============>...............] - ETA: 44:38 - loss: 0.1007 - acc: 0.9655"
          ],
          "name": "stdout"
        },
        {
          "output_type": "stream",
          "text": [
            "/usr/local/lib/python3.6/dist-packages/keras/utils/data_utils.py:616: UserWarning: The input 124 could not be retrieved. It could be because a worker has died.\n",
            "  UserWarning)\n"
          ],
          "name": "stderr"
        },
        {
          "output_type": "stream",
          "text": [
            " 86/163 [==============>...............] - ETA: 42:15 - loss: 0.0996 - acc: 0.9659"
          ],
          "name": "stdout"
        },
        {
          "output_type": "stream",
          "text": [
            "/usr/local/lib/python3.6/dist-packages/keras/utils/data_utils.py:616: UserWarning: The input 23 could not be retrieved. It could be because a worker has died.\n",
            "  UserWarning)\n"
          ],
          "name": "stderr"
        },
        {
          "output_type": "stream",
          "text": [
            "\b\b\b\b\b\b\b\b\b\b\b\b\b\b\b\b\b\b\b\b\b\b\b\b\b\b\b\b\b\b\b\b\b\b\b\b\b\b\b\b\b\b\b\b\b\b\b\b\b\b\b\b\b\b\b\b\b\b\b\b\b\b\b\b\b\b\b\b\b\b\b\b\b\b\b\b\b\b\b\b\b\b\r 87/163 [===============>..............] - ETA: 41:43 - loss: 0.0994 - acc: 0.9659"
          ],
          "name": "stdout"
        },
        {
          "output_type": "stream",
          "text": [
            "/usr/local/lib/python3.6/dist-packages/keras/utils/data_utils.py:616: UserWarning: The input 77 could not be retrieved. It could be because a worker has died.\n",
            "  UserWarning)\n"
          ],
          "name": "stderr"
        },
        {
          "output_type": "stream",
          "text": [
            "\b\b\b\b\b\b\b\b\b\b\b\b\b\b\b\b\b\b\b\b\b\b\b\b\b\b\b\b\b\b\b\b\b\b\b\b\b\b\b\b\b\b\b\b\b\b\b\b\b\b\b\b\b\b\b\b\b\b\b\b\b\b\b\b\b\b\b\b\b\b\b\b\b\b\b\b\b\b\b\b\b\b\r 88/163 [===============>..............] - ETA: 41:15 - loss: 0.0990 - acc: 0.9660"
          ],
          "name": "stdout"
        },
        {
          "output_type": "stream",
          "text": [
            "/usr/local/lib/python3.6/dist-packages/keras/utils/data_utils.py:616: UserWarning: The input 3 could not be retrieved. It could be because a worker has died.\n",
            "  UserWarning)\n"
          ],
          "name": "stderr"
        },
        {
          "output_type": "stream",
          "text": [
            "\b\b\b\b\b\b\b\b\b\b\b\b\b\b\b\b\b\b\b\b\b\b\b\b\b\b\b\b\b\b\b\b\b\b\b\b\b\b\b\b\b\b\b\b\b\b\b\b\b\b\b\b\b\b\b\b\b\b\b\b\b\b\b\b\b\b\b\b\b\b\b\b\b\b\b\b\b\b\b\b\b\b\r 89/163 [===============>..............] - ETA: 40:44 - loss: 0.0987 - acc: 0.9661"
          ],
          "name": "stdout"
        },
        {
          "output_type": "stream",
          "text": [
            "/usr/local/lib/python3.6/dist-packages/keras/utils/data_utils.py:616: UserWarning: The input 0 could not be retrieved. It could be because a worker has died.\n",
            "  UserWarning)\n"
          ],
          "name": "stderr"
        },
        {
          "output_type": "stream",
          "text": [
            "\b\b\b\b\b\b\b\b\b\b\b\b\b\b\b\b\b\b\b\b\b\b\b\b\b\b\b\b\b\b\b\b\b\b\b\b\b\b\b\b\b\b\b\b\b\b\b\b\b\b\b\b\b\b\b\b\b\b\b\b\b\b\b\b\b\b\b\b\b\b\b\b\b\b\b\b\b\b\b\b\b\b\r 90/163 [===============>..............] - ETA: 40:12 - loss: 0.0985 - acc: 0.9661"
          ],
          "name": "stdout"
        },
        {
          "output_type": "stream",
          "text": [
            "/usr/local/lib/python3.6/dist-packages/keras/utils/data_utils.py:616: UserWarning: The input 7 could not be retrieved. It could be because a worker has died.\n",
            "  UserWarning)\n"
          ],
          "name": "stderr"
        },
        {
          "output_type": "stream",
          "text": [
            "\b\b\b\b\b\b\b\b\b\b\b\b\b\b\b\b\b\b\b\b\b\b\b\b\b\b\b\b\b\b\b\b\b\b\b\b\b\b\b\b\b\b\b\b\b\b\b\b\b\b\b\b\b\b\b\b\b\b\b\b\b\b\b\b\b\b\b\b\b\b\b\b\b\b\b\b\b\b\b\b\b\b\r 91/163 [===============>..............] - ETA: 39:42 - loss: 0.0985 - acc: 0.9661"
          ],
          "name": "stdout"
        },
        {
          "output_type": "stream",
          "text": [
            "/usr/local/lib/python3.6/dist-packages/keras/utils/data_utils.py:616: UserWarning: The input 145 could not be retrieved. It could be because a worker has died.\n",
            "  UserWarning)\n"
          ],
          "name": "stderr"
        },
        {
          "output_type": "stream",
          "text": [
            "\b\b\b\b\b\b\b\b\b\b\b\b\b\b\b\b\b\b\b\b\b\b\b\b\b\b\b\b\b\b\b\b\b\b\b\b\b\b\b\b\b\b\b\b\b\b\b\b\b\b\b\b\b\b\b\b\b\b\b\b\b\b\b\b\b\b\b\b\b\b\b\b\b\b\b\b\b\b\b\b\b\b\r 92/163 [===============>..............] - ETA: 39:08 - loss: 0.0981 - acc: 0.9662"
          ],
          "name": "stdout"
        },
        {
          "output_type": "stream",
          "text": [
            "/usr/local/lib/python3.6/dist-packages/keras/utils/data_utils.py:616: UserWarning: The input 135 could not be retrieved. It could be because a worker has died.\n",
            "  UserWarning)\n"
          ],
          "name": "stderr"
        },
        {
          "output_type": "stream",
          "text": [
            "\b\b\b\b\b\b\b\b\b\b\b\b\b\b\b\b\b\b\b\b\b\b\b\b\b\b\b\b\b\b\b\b\b\b\b\b\b\b\b\b\b\b\b\b\b\b\b\b\b\b\b\b\b\b\b\b\b\b\b\b\b\b\b\b\b\b\b\b\b\b\b\b\b\b\b\b\b\b\b\b\b\b\r 93/163 [================>.............] - ETA: 38:34 - loss: 0.0980 - acc: 0.9662"
          ],
          "name": "stdout"
        },
        {
          "output_type": "stream",
          "text": [
            "/usr/local/lib/python3.6/dist-packages/keras/utils/data_utils.py:616: UserWarning: The input 126 could not be retrieved. It could be because a worker has died.\n",
            "  UserWarning)\n"
          ],
          "name": "stderr"
        },
        {
          "output_type": "stream",
          "text": [
            "\b\b\b\b\b\b\b\b\b\b\b\b\b\b\b\b\b\b\b\b\b\b\b\b\b\b\b\b\b\b\b\b\b\b\b\b\b\b\b\b\b\b\b\b\b\b\b\b\b\b\b\b\b\b\b\b\b\b\b\b\b\b\b\b\b\b\b\b\b\b\b\b\b\b\b\b\b\b\b\b\b\b\r 94/163 [================>.............] - ETA: 38:02 - loss: 0.0977 - acc: 0.9663"
          ],
          "name": "stdout"
        },
        {
          "output_type": "stream",
          "text": [
            "/usr/local/lib/python3.6/dist-packages/keras/utils/data_utils.py:616: UserWarning: The input 105 could not be retrieved. It could be because a worker has died.\n",
            "  UserWarning)\n"
          ],
          "name": "stderr"
        },
        {
          "output_type": "stream",
          "text": [
            "\b\b\b\b\b\b\b\b\b\b\b\b\b\b\b\b\b\b\b\b\b\b\b\b\b\b\b\b\b\b\b\b\b\b\b\b\b\b\b\b\b\b\b\b\b\b\b\b\b\b\b\b\b\b\b\b\b\b\b\b\b\b\b\b\b\b\b\b\b\b\b\b\b\b\b\b\b\b\b\b\b\b\r 95/163 [================>.............] - ETA: 37:29 - loss: 0.0976 - acc: 0.9664"
          ],
          "name": "stdout"
        },
        {
          "output_type": "stream",
          "text": [
            "/usr/local/lib/python3.6/dist-packages/keras/utils/data_utils.py:616: UserWarning: The input 62 could not be retrieved. It could be because a worker has died.\n",
            "  UserWarning)\n"
          ],
          "name": "stderr"
        },
        {
          "output_type": "stream",
          "text": [
            "\b\b\b\b\b\b\b\b\b\b\b\b\b\b\b\b\b\b\b\b\b\b\b\b\b\b\b\b\b\b\b\b\b\b\b\b\b\b\b\b\b\b\b\b\b\b\b\b\b\b\b\b\b\b\b\b\b\b\b\b\b\b\b\b\b\b\b\b\b\b\b\b\b\b\b\b\b\b\b\b\b\b\r 96/163 [================>.............] - ETA: 36:58 - loss: 0.0972 - acc: 0.9665"
          ],
          "name": "stdout"
        },
        {
          "output_type": "stream",
          "text": [
            "/usr/local/lib/python3.6/dist-packages/keras/utils/data_utils.py:616: UserWarning: The input 5 could not be retrieved. It could be because a worker has died.\n",
            "  UserWarning)\n"
          ],
          "name": "stderr"
        },
        {
          "output_type": "stream",
          "text": [
            "\b\b\b\b\b\b\b\b\b\b\b\b\b\b\b\b\b\b\b\b\b\b\b\b\b\b\b\b\b\b\b\b\b\b\b\b\b\b\b\b\b\b\b\b\b\b\b\b\b\b\b\b\b\b\b\b\b\b\b\b\b\b\b\b\b\b\b\b\b\b\b\b\b\b\b\b\b\b\b\b\b\b\r 97/163 [================>.............] - ETA: 36:24 - loss: 0.0973 - acc: 0.9665"
          ],
          "name": "stdout"
        },
        {
          "output_type": "stream",
          "text": [
            "/usr/local/lib/python3.6/dist-packages/keras/utils/data_utils.py:616: UserWarning: The input 16 could not be retrieved. It could be because a worker has died.\n",
            "  UserWarning)\n"
          ],
          "name": "stderr"
        },
        {
          "output_type": "stream",
          "text": [
            "\b\b\b\b\b\b\b\b\b\b\b\b\b\b\b\b\b\b\b\b\b\b\b\b\b\b\b\b\b\b\b\b\b\b\b\b\b\b\b\b\b\b\b\b\b\b\b\b\b\b\b\b\b\b\b\b\b\b\b\b\b\b\b\b\b\b\b\b\b\b\b\b\b\b\b\b\b\b\b\b\b\b\r 98/163 [=================>............] - ETA: 35:50 - loss: 0.0969 - acc: 0.9666"
          ],
          "name": "stdout"
        },
        {
          "output_type": "stream",
          "text": [
            "/usr/local/lib/python3.6/dist-packages/keras/utils/data_utils.py:616: UserWarning: The input 100 could not be retrieved. It could be because a worker has died.\n",
            "  UserWarning)\n"
          ],
          "name": "stderr"
        },
        {
          "output_type": "stream",
          "text": [
            "\b\b\b\b\b\b\b\b\b\b\b\b\b\b\b\b\b\b\b\b\b\b\b\b\b\b\b\b\b\b\b\b\b\b\b\b\b\b\b\b\b\b\b\b\b\b\b\b\b\b\b\b\b\b\b\b\b\b\b\b\b\b\b\b\b\b\b\b\b\b\b\b\b\b\b\b\b\b\b\b\b\b\r 99/163 [=================>............] - ETA: 35:17 - loss: 0.0967 - acc: 0.9666"
          ],
          "name": "stdout"
        },
        {
          "output_type": "stream",
          "text": [
            "/usr/local/lib/python3.6/dist-packages/keras/utils/data_utils.py:616: UserWarning: The input 128 could not be retrieved. It could be because a worker has died.\n",
            "  UserWarning)\n"
          ],
          "name": "stderr"
        },
        {
          "output_type": "stream",
          "text": [
            "\b\b\b\b\b\b\b\b\b\b\b\b\b\b\b\b\b\b\b\b\b\b\b\b\b\b\b\b\b\b\b\b\b\b\b\b\b\b\b\b\b\b\b\b\b\b\b\b\b\b\b\b\b\b\b\b\b\b\b\b\b\b\b\b\b\b\b\b\b\b\b\b\b\b\b\b\b\b\b\b\b\b\r100/163 [=================>............] - ETA: 34:55 - loss: 0.0965 - acc: 0.9666"
          ],
          "name": "stdout"
        },
        {
          "output_type": "stream",
          "text": [
            "/usr/local/lib/python3.6/dist-packages/keras/utils/data_utils.py:616: UserWarning: The input 20 could not be retrieved. It could be because a worker has died.\n",
            "  UserWarning)\n"
          ],
          "name": "stderr"
        },
        {
          "output_type": "stream",
          "text": [
            "102/163 [=================>............] - ETA: 33:48 - loss: 0.0961 - acc: 0.9667"
          ],
          "name": "stdout"
        },
        {
          "output_type": "stream",
          "text": [
            "/usr/local/lib/python3.6/dist-packages/keras/utils/data_utils.py:616: UserWarning: The input 144 could not be retrieved. It could be because a worker has died.\n",
            "  UserWarning)\n"
          ],
          "name": "stderr"
        },
        {
          "output_type": "stream",
          "text": [
            "104/163 [==================>...........] - ETA: 32:44 - loss: 0.0961 - acc: 0.9667"
          ],
          "name": "stdout"
        },
        {
          "output_type": "stream",
          "text": [
            "/usr/local/lib/python3.6/dist-packages/keras/utils/data_utils.py:616: UserWarning: The input 88 could not be retrieved. It could be because a worker has died.\n",
            "  UserWarning)\n"
          ],
          "name": "stderr"
        },
        {
          "output_type": "stream",
          "text": [
            "106/163 [==================>...........] - ETA: 31:36 - loss: 0.0957 - acc: 0.9668"
          ],
          "name": "stdout"
        },
        {
          "output_type": "stream",
          "text": [
            "/usr/local/lib/python3.6/dist-packages/keras/utils/data_utils.py:616: UserWarning: The input 82 could not be retrieved. It could be because a worker has died.\n",
            "  UserWarning)\n"
          ],
          "name": "stderr"
        },
        {
          "output_type": "stream",
          "text": [
            "\b\b\b\b\b\b\b\b\b\b\b\b\b\b\b\b\b\b\b\b\b\b\b\b\b\b\b\b\b\b\b\b\b\b\b\b\b\b\b\b\b\b\b\b\b\b\b\b\b\b\b\b\b\b\b\b\b\b\b\b\b\b\b\b\b\b\b\b\b\b\b\b\b\b\b\b\b\b\b\b\b\b\r107/163 [==================>...........] - ETA: 31:02 - loss: 0.0957 - acc: 0.9668"
          ],
          "name": "stdout"
        },
        {
          "output_type": "stream",
          "text": [
            "/usr/local/lib/python3.6/dist-packages/keras/utils/data_utils.py:616: UserWarning: The input 42 could not be retrieved. It could be because a worker has died.\n",
            "  UserWarning)\n"
          ],
          "name": "stderr"
        },
        {
          "output_type": "stream",
          "text": [
            "\b\b\b\b\b\b\b\b\b\b\b\b\b\b\b\b\b\b\b\b\b\b\b\b\b\b\b\b\b\b\b\b\b\b\b\b\b\b\b\b\b\b\b\b\b\b\b\b\b\b\b\b\b\b\b\b\b\b\b\b\b\b\b\b\b\b\b\b\b\b\b\b\b\b\b\b\b\b\b\b\b\b\r108/163 [==================>...........] - ETA: 30:29 - loss: 0.0956 - acc: 0.9668"
          ],
          "name": "stdout"
        },
        {
          "output_type": "stream",
          "text": [
            "/usr/local/lib/python3.6/dist-packages/keras/utils/data_utils.py:616: UserWarning: The input 43 could not be retrieved. It could be because a worker has died.\n",
            "  UserWarning)\n"
          ],
          "name": "stderr"
        },
        {
          "output_type": "stream",
          "text": [
            "\b\b\b\b\b\b\b\b\b\b\b\b\b\b\b\b\b\b\b\b\b\b\b\b\b\b\b\b\b\b\b\b\b\b\b\b\b\b\b\b\b\b\b\b\b\b\b\b\b\b\b\b\b\b\b\b\b\b\b\b\b\b\b\b\b\b\b\b\b\b\b\b\b\b\b\b\b\b\b\b\b\b\r109/163 [===================>..........] - ETA: 29:56 - loss: 0.0954 - acc: 0.9668"
          ],
          "name": "stdout"
        },
        {
          "output_type": "stream",
          "text": [
            "/usr/local/lib/python3.6/dist-packages/keras/utils/data_utils.py:616: UserWarning: The input 71 could not be retrieved. It could be because a worker has died.\n",
            "  UserWarning)\n"
          ],
          "name": "stderr"
        },
        {
          "output_type": "stream",
          "text": [
            "\b\b\b\b\b\b\b\b\b\b\b\b\b\b\b\b\b\b\b\b\b\b\b\b\b\b\b\b\b\b\b\b\b\b\b\b\b\b\b\b\b\b\b\b\b\b\b\b\b\b\b\b\b\b\b\b\b\b\b\b\b\b\b\b\b\b\b\b\b\b\b\b\b\b\b\b\b\b\b\b\b\b\r110/163 [===================>..........] - ETA: 29:24 - loss: 0.0953 - acc: 0.9668"
          ],
          "name": "stdout"
        },
        {
          "output_type": "stream",
          "text": [
            "/usr/local/lib/python3.6/dist-packages/keras/utils/data_utils.py:616: UserWarning: The input 52 could not be retrieved. It could be because a worker has died.\n",
            "  UserWarning)\n"
          ],
          "name": "stderr"
        },
        {
          "output_type": "stream",
          "text": [
            "\b\b\b\b\b\b\b\b\b\b\b\b\b\b\b\b\b\b\b\b\b\b\b\b\b\b\b\b\b\b\b\b\b\b\b\b\b\b\b\b\b\b\b\b\b\b\b\b\b\b\b\b\b\b\b\b\b\b\b\b\b\b\b\b\b\b\b\b\b\b\b\b\b\b\b\b\b\b\b\b\b\b\r111/163 [===================>..........] - ETA: 28:53 - loss: 0.0954 - acc: 0.9668"
          ],
          "name": "stdout"
        },
        {
          "output_type": "stream",
          "text": [
            "/usr/local/lib/python3.6/dist-packages/keras/utils/data_utils.py:616: UserWarning: The input 68 could not be retrieved. It could be because a worker has died.\n",
            "  UserWarning)\n"
          ],
          "name": "stderr"
        },
        {
          "output_type": "stream",
          "text": [
            "\b\b\b\b\b\b\b\b\b\b\b\b\b\b\b\b\b\b\b\b\b\b\b\b\b\b\b\b\b\b\b\b\b\b\b\b\b\b\b\b\b\b\b\b\b\b\b\b\b\b\b\b\b\b\b\b\b\b\b\b\b\b\b\b\b\b\b\b\b\b\b\b\b\b\b\b\b\b\b\b\b\b\r112/163 [===================>..........] - ETA: 28:21 - loss: 0.0951 - acc: 0.9669"
          ],
          "name": "stdout"
        },
        {
          "output_type": "stream",
          "text": [
            "/usr/local/lib/python3.6/dist-packages/keras/utils/data_utils.py:616: UserWarning: The input 12 could not be retrieved. It could be because a worker has died.\n",
            "  UserWarning)\n"
          ],
          "name": "stderr"
        },
        {
          "output_type": "stream",
          "text": [
            "\b\b\b\b\b\b\b\b\b\b\b\b\b\b\b\b\b\b\b\b\b\b\b\b\b\b\b\b\b\b\b\b\b\b\b\b\b\b\b\b\b\b\b\b\b\b\b\b\b\b\b\b\b\b\b\b\b\b\b\b\b\b\b\b\b\b\b\b\b\b\b\b\b\b\b\b\b\b\b\b\b\b\r113/163 [===================>..........] - ETA: 27:48 - loss: 0.0951 - acc: 0.9669"
          ],
          "name": "stdout"
        },
        {
          "output_type": "stream",
          "text": [
            "/usr/local/lib/python3.6/dist-packages/keras/utils/data_utils.py:616: UserWarning: The input 81 could not be retrieved. It could be because a worker has died.\n",
            "  UserWarning)\n"
          ],
          "name": "stderr"
        },
        {
          "output_type": "stream",
          "text": [
            "116/163 [====================>.........] - ETA: 26:00 - loss: 0.0946 - acc: 0.9669"
          ],
          "name": "stdout"
        },
        {
          "output_type": "stream",
          "text": [
            "/usr/local/lib/python3.6/dist-packages/keras/utils/data_utils.py:616: UserWarning: The input 119 could not be retrieved. It could be because a worker has died.\n",
            "  UserWarning)\n"
          ],
          "name": "stderr"
        },
        {
          "output_type": "stream",
          "text": [
            "\b\b\b\b\b\b\b\b\b\b\b\b\b\b\b\b\b\b\b\b\b\b\b\b\b\b\b\b\b\b\b\b\b\b\b\b\b\b\b\b\b\b\b\b\b\b\b\b\b\b\b\b\b\b\b\b\b\b\b\b\b\b\b\b\b\b\b\b\b\b\b\b\b\b\b\b\b\b\b\b\b\b\r117/163 [====================>.........] - ETA: 25:28 - loss: 0.0945 - acc: 0.9669"
          ],
          "name": "stdout"
        },
        {
          "output_type": "stream",
          "text": [
            "/usr/local/lib/python3.6/dist-packages/keras/utils/data_utils.py:616: UserWarning: The input 37 could not be retrieved. It could be because a worker has died.\n",
            "  UserWarning)\n"
          ],
          "name": "stderr"
        },
        {
          "output_type": "stream",
          "text": [
            "119/163 [====================>.........] - ETA: 24:20 - loss: 0.0945 - acc: 0.9669"
          ],
          "name": "stdout"
        },
        {
          "output_type": "stream",
          "text": [
            "/usr/local/lib/python3.6/dist-packages/keras/utils/data_utils.py:616: UserWarning: The input 61 could not be retrieved. It could be because a worker has died.\n",
            "  UserWarning)\n"
          ],
          "name": "stderr"
        },
        {
          "output_type": "stream",
          "text": [
            "\b\b\b\b\b\b\b\b\b\b\b\b\b\b\b\b\b\b\b\b\b\b\b\b\b\b\b\b\b\b\b\b\b\b\b\b\b\b\b\b\b\b\b\b\b\b\b\b\b\b\b\b\b\b\b\b\b\b\b\b\b\b\b\b\b\b\b\b\b\b\b\b\b\b\b\b\b\b\b\b\b\b\r120/163 [=====================>........] - ETA: 23:47 - loss: 0.0944 - acc: 0.9670"
          ],
          "name": "stdout"
        },
        {
          "output_type": "stream",
          "text": [
            "/usr/local/lib/python3.6/dist-packages/keras/utils/data_utils.py:616: UserWarning: The input 137 could not be retrieved. It could be because a worker has died.\n",
            "  UserWarning)\n"
          ],
          "name": "stderr"
        },
        {
          "output_type": "stream",
          "text": [
            "\b\b\b\b\b\b\b\b\b\b\b\b\b\b\b\b\b\b\b\b\b\b\b\b\b\b\b\b\b\b\b\b\b\b\b\b\b\b\b\b\b\b\b\b\b\b\b\b\b\b\b\b\b\b\b\b\b\b\b\b\b\b\b\b\b\b\b\b\b\b\b\b\b\b\b\b\b\b\b\b\b\b\r121/163 [=====================>........] - ETA: 23:14 - loss: 0.0945 - acc: 0.9669"
          ],
          "name": "stdout"
        },
        {
          "output_type": "stream",
          "text": [
            "/usr/local/lib/python3.6/dist-packages/keras/utils/data_utils.py:616: UserWarning: The input 41 could not be retrieved. It could be because a worker has died.\n",
            "  UserWarning)\n"
          ],
          "name": "stderr"
        },
        {
          "output_type": "stream",
          "text": [
            "123/163 [=====================>........] - ETA: 22:07 - loss: 0.0942 - acc: 0.9670"
          ],
          "name": "stdout"
        },
        {
          "output_type": "stream",
          "text": [
            "/usr/local/lib/python3.6/dist-packages/keras/utils/data_utils.py:616: UserWarning: The input 107 could not be retrieved. It could be because a worker has died.\n",
            "  UserWarning)\n"
          ],
          "name": "stderr"
        },
        {
          "output_type": "stream",
          "text": [
            "133/163 [=======================>......] - ETA: 16:28 - loss: 0.0935 - acc: 0.9671"
          ],
          "name": "stdout"
        },
        {
          "output_type": "stream",
          "text": [
            "/usr/local/lib/python3.6/dist-packages/keras/utils/data_utils.py:616: UserWarning: The input 151 could not be retrieved. It could be because a worker has died.\n",
            "  UserWarning)\n"
          ],
          "name": "stderr"
        },
        {
          "output_type": "stream",
          "text": [
            "\b\b\b\b\b\b\b\b\b\b\b\b\b\b\b\b\b\b\b\b\b\b\b\b\b\b\b\b\b\b\b\b\b\b\b\b\b\b\b\b\b\b\b\b\b\b\b\b\b\b\b\b\b\b\b\b\b\b\b\b\b\b\b\b\b\b\b\b\b\b\b\b\b\b\b\b\b\b\b\b\b\b\r134/163 [=======================>......] - ETA: 15:55 - loss: 0.0934 - acc: 0.9671"
          ],
          "name": "stdout"
        },
        {
          "output_type": "stream",
          "text": [
            "/usr/local/lib/python3.6/dist-packages/keras/utils/data_utils.py:616: UserWarning: The input 51 could not be retrieved. It could be because a worker has died.\n",
            "  UserWarning)\n"
          ],
          "name": "stderr"
        },
        {
          "output_type": "stream",
          "text": [
            "137/163 [========================>.....] - ETA: 14:15 - loss: 0.0935 - acc: 0.9670"
          ],
          "name": "stdout"
        },
        {
          "output_type": "stream",
          "text": [
            "/usr/local/lib/python3.6/dist-packages/keras/utils/data_utils.py:616: UserWarning: The input 94 could not be retrieved. It could be because a worker has died.\n",
            "  UserWarning)\n"
          ],
          "name": "stderr"
        },
        {
          "output_type": "stream",
          "text": [
            "\b\b\b\b\b\b\b\b\b\b\b\b\b\b\b\b\b\b\b\b\b\b\b\b\b\b\b\b\b\b\b\b\b\b\b\b\b\b\b\b\b\b\b\b\b\b\b\b\b\b\b\b\b\b\b\b\b\b\b\b\b\b\b\b\b\b\b\b\b\b\b\b\b\b\b\b\b\b\b\b\b\b\r138/163 [========================>.....] - ETA: 13:42 - loss: 0.0933 - acc: 0.9671"
          ],
          "name": "stdout"
        },
        {
          "output_type": "stream",
          "text": [
            "/usr/local/lib/python3.6/dist-packages/keras/utils/data_utils.py:616: UserWarning: The input 130 could not be retrieved. It could be because a worker has died.\n",
            "  UserWarning)\n"
          ],
          "name": "stderr"
        },
        {
          "output_type": "stream",
          "text": [
            "140/163 [========================>.....] - ETA: 12:36 - loss: 0.0931 - acc: 0.9672"
          ],
          "name": "stdout"
        },
        {
          "output_type": "stream",
          "text": [
            "/usr/local/lib/python3.6/dist-packages/keras/utils/data_utils.py:616: UserWarning: The input 99 could not be retrieved. It could be because a worker has died.\n",
            "  UserWarning)\n"
          ],
          "name": "stderr"
        },
        {
          "output_type": "stream",
          "text": [
            "\b\b\b\b\b\b\b\b\b\b\b\b\b\b\b\b\b\b\b\b\b\b\b\b\b\b\b\b\b\b\b\b\b\b\b\b\b\b\b\b\b\b\b\b\b\b\b\b\b\b\b\b\b\b\b\b\b\b\b\b\b\b\b\b\b\b\b\b\b\b\b\b\b\b\b\b\b\b\b\b\b\b\r141/163 [========================>.....] - ETA: 12:03 - loss: 0.0929 - acc: 0.9672"
          ],
          "name": "stdout"
        },
        {
          "output_type": "stream",
          "text": [
            "/usr/local/lib/python3.6/dist-packages/keras/utils/data_utils.py:616: UserWarning: The input 160 could not be retrieved. It could be because a worker has died.\n",
            "  UserWarning)\n"
          ],
          "name": "stderr"
        },
        {
          "output_type": "stream",
          "text": [
            "\b\b\b\b\b\b\b\b\b\b\b\b\b\b\b\b\b\b\b\b\b\b\b\b\b\b\b\b\b\b\b\b\b\b\b\b\b\b\b\b\b\b\b\b\b\b\b\b\b\b\b\b\b\b\b\b\b\b\b\b\b\b\b\b\b\b\b\b\b\b\b\b\b\b\b\b\b\b\b\b\b\b\r142/163 [=========================>....] - ETA: 11:30 - loss: 0.0929 - acc: 0.9672"
          ],
          "name": "stdout"
        },
        {
          "output_type": "stream",
          "text": [
            "/usr/local/lib/python3.6/dist-packages/keras/utils/data_utils.py:616: UserWarning: The input 111 could not be retrieved. It could be because a worker has died.\n",
            "  UserWarning)\n"
          ],
          "name": "stderr"
        },
        {
          "output_type": "stream",
          "text": [
            "146/163 [=========================>....] - ETA: 9:17 - loss: 0.0925 - acc: 0.9673"
          ],
          "name": "stdout"
        },
        {
          "output_type": "stream",
          "text": [
            "/usr/local/lib/python3.6/dist-packages/keras/utils/data_utils.py:616: UserWarning: The input 89 could not be retrieved. It could be because a worker has died.\n",
            "  UserWarning)\n"
          ],
          "name": "stderr"
        },
        {
          "output_type": "stream",
          "text": [
            "\b\b\b\b\b\b\b\b\b\b\b\b\b\b\b\b\b\b\b\b\b\b\b\b\b\b\b\b\b\b\b\b\b\b\b\b\b\b\b\b\b\b\b\b\b\b\b\b\b\b\b\b\b\b\b\b\b\b\b\b\b\b\b\b\b\b\b\b\b\b\b\b\b\b\b\b\b\b\b\b\b\r147/163 [==========================>...] - ETA: 8:44 - loss: 0.0924 - acc: 0.9674"
          ],
          "name": "stdout"
        },
        {
          "output_type": "stream",
          "text": [
            "/usr/local/lib/python3.6/dist-packages/keras/utils/data_utils.py:616: UserWarning: The input 9 could not be retrieved. It could be because a worker has died.\n",
            "  UserWarning)\n"
          ],
          "name": "stderr"
        },
        {
          "output_type": "stream",
          "text": [
            "\b\b\b\b\b\b\b\b\b\b\b\b\b\b\b\b\b\b\b\b\b\b\b\b\b\b\b\b\b\b\b\b\b\b\b\b\b\b\b\b\b\b\b\b\b\b\b\b\b\b\b\b\b\b\b\b\b\b\b\b\b\b\b\b\b\b\b\b\b\b\b\b\b\b\b\b\b\b\b\b\b\r148/163 [==========================>...] - ETA: 8:12 - loss: 0.0924 - acc: 0.9674"
          ],
          "name": "stdout"
        },
        {
          "output_type": "stream",
          "text": [
            "/usr/local/lib/python3.6/dist-packages/keras/utils/data_utils.py:616: UserWarning: The input 56 could not be retrieved. It could be because a worker has died.\n",
            "  UserWarning)\n"
          ],
          "name": "stderr"
        },
        {
          "output_type": "stream",
          "text": [
            "\b\b\b\b\b\b\b\b\b\b\b\b\b\b\b\b\b\b\b\b\b\b\b\b\b\b\b\b\b\b\b\b\b\b\b\b\b\b\b\b\b\b\b\b\b\b\b\b\b\b\b\b\b\b\b\b\b\b\b\b\b\b\b\b\b\b\b\b\b\b\b\b\b\b\b\b\b\b\b\b\b\r149/163 [==========================>...] - ETA: 7:40 - loss: 0.0924 - acc: 0.9673"
          ],
          "name": "stdout"
        },
        {
          "output_type": "stream",
          "text": [
            "/usr/local/lib/python3.6/dist-packages/keras/utils/data_utils.py:616: UserWarning: The input 58 could not be retrieved. It could be because a worker has died.\n",
            "  UserWarning)\n"
          ],
          "name": "stderr"
        },
        {
          "output_type": "stream",
          "text": [
            "151/163 [==========================>...] - ETA: 6:34 - loss: 0.0925 - acc: 0.9673"
          ],
          "name": "stdout"
        },
        {
          "output_type": "stream",
          "text": [
            "/usr/local/lib/python3.6/dist-packages/keras/utils/data_utils.py:616: UserWarning: The input 59 could not be retrieved. It could be because a worker has died.\n",
            "  UserWarning)\n"
          ],
          "name": "stderr"
        },
        {
          "output_type": "stream",
          "text": [
            "154/163 [===========================>..] - ETA: 4:54 - loss: 0.0922 - acc: 0.9673"
          ],
          "name": "stdout"
        },
        {
          "output_type": "stream",
          "text": [
            "/usr/local/lib/python3.6/dist-packages/keras/utils/data_utils.py:616: UserWarning: The input 80 could not be retrieved. It could be because a worker has died.\n",
            "  UserWarning)\n"
          ],
          "name": "stderr"
        },
        {
          "output_type": "stream",
          "text": [
            "\b\b\b\b\b\b\b\b\b\b\b\b\b\b\b\b\b\b\b\b\b\b\b\b\b\b\b\b\b\b\b\b\b\b\b\b\b\b\b\b\b\b\b\b\b\b\b\b\b\b\b\b\b\b\b\b\b\b\b\b\b\b\b\b\b\b\b\b\b\b\b\b\b\b\b\b\b\b\b\b\b\r155/163 [===========================>..] - ETA: 4:22 - loss: 0.0921 - acc: 0.9674"
          ],
          "name": "stdout"
        },
        {
          "output_type": "stream",
          "text": [
            "/usr/local/lib/python3.6/dist-packages/keras/utils/data_utils.py:616: UserWarning: The input 95 could not be retrieved. It could be because a worker has died.\n",
            "  UserWarning)\n"
          ],
          "name": "stderr"
        },
        {
          "output_type": "stream",
          "text": [
            "157/163 [===========================>..] - ETA: 3:16 - loss: 0.0919 - acc: 0.9674"
          ],
          "name": "stdout"
        },
        {
          "output_type": "stream",
          "text": [
            "/usr/local/lib/python3.6/dist-packages/keras/utils/data_utils.py:616: UserWarning: The input 18 could not be retrieved. It could be because a worker has died.\n",
            "  UserWarning)\n"
          ],
          "name": "stderr"
        },
        {
          "output_type": "stream",
          "text": [
            "\b\b\b\b\b\b\b\b\b\b\b\b\b\b\b\b\b\b\b\b\b\b\b\b\b\b\b\b\b\b\b\b\b\b\b\b\b\b\b\b\b\b\b\b\b\b\b\b\b\b\b\b\b\b\b\b\b\b\b\b\b\b\b\b\b\b\b\b\b\b\b\b\b\b\b\b\b\b\b\b\b\r158/163 [============================>.] - ETA: 2:43 - loss: 0.0917 - acc: 0.9675"
          ],
          "name": "stdout"
        },
        {
          "output_type": "stream",
          "text": [
            "/usr/local/lib/python3.6/dist-packages/keras/utils/data_utils.py:616: UserWarning: The input 131 could not be retrieved. It could be because a worker has died.\n",
            "  UserWarning)\n"
          ],
          "name": "stderr"
        },
        {
          "output_type": "stream",
          "text": [
            "161/163 [============================>.] - ETA: 1:05 - loss: 0.0914 - acc: 0.9676"
          ],
          "name": "stdout"
        },
        {
          "output_type": "stream",
          "text": [
            "/usr/local/lib/python3.6/dist-packages/keras/utils/data_utils.py:616: UserWarning: The input 64 could not be retrieved. It could be because a worker has died.\n",
            "  UserWarning)\n"
          ],
          "name": "stderr"
        },
        {
          "output_type": "stream",
          "text": [
            "\b\b\b\b\b\b\b\b\b\b\b\b\b\b\b\b\b\b\b\b\b\b\b\b\b\b\b\b\b\b\b\b\b\b\b\b\b\b\b\b\b\b\b\b\b\b\b\b\b\b\b\b\b\b\b\b\b\b\b\b\b\b\b\b\b\b\b\b\b\b\b\b\b\b\b\b\b\b\b\b\b\r162/163 [============================>.] - ETA: 32s - loss: 0.0913 - acc: 0.9676 "
          ],
          "name": "stdout"
        },
        {
          "output_type": "stream",
          "text": [
            "/usr/local/lib/python3.6/dist-packages/keras/utils/data_utils.py:616: UserWarning: The input 13 could not be retrieved. It could be because a worker has died.\n",
            "  UserWarning)\n",
            "/usr/local/lib/python3.6/dist-packages/keras/utils/data_utils.py:616: UserWarning: The input 14 could not be retrieved. It could be because a worker has died.\n",
            "  UserWarning)\n",
            "/usr/local/lib/python3.6/dist-packages/keras/utils/data_utils.py:616: UserWarning: The input 17 could not be retrieved. It could be because a worker has died.\n",
            "  UserWarning)\n",
            "/usr/local/lib/python3.6/dist-packages/keras/utils/data_utils.py:616: UserWarning: The input 19 could not be retrieved. It could be because a worker has died.\n",
            "  UserWarning)\n"
          ],
          "name": "stderr"
        },
        {
          "output_type": "stream",
          "text": [
            "\b\b\b\b\b\b\b\b\b\b\b\b\b\b\b\b\b\b\b\b\b\b\b\b\b\b\b\b\b\b\b\b\b\b\b\b\b\b\b\b\b\b\b\b\b\b\b\b\b\b\b\b\b\b\b\b\b\b\b\b\b\b\b\b\b\b\b\b\b\b\b\b\b\b\b\b\b\b\b\b\r163/163 [==============================] - 5637s 35s/step - loss: 0.0912 - acc: 0.9677 - val_loss: 0.1281 - val_acc: 0.9677\n",
            "Epoch 2/100\n",
            "163/163 [==============================] - 234s 1s/step - loss: 0.0792 - acc: 0.9711 - val_loss: 0.0621 - val_acc: 0.9722\n",
            "Epoch 3/100\n",
            "163/163 [==============================] - 239s 1s/step - loss: 0.0757 - acc: 0.9722 - val_loss: 0.0612 - val_acc: 0.9724\n",
            "Epoch 4/100\n",
            "163/163 [==============================] - 233s 1s/step - loss: 0.0706 - acc: 0.9741 - val_loss: 0.1065 - val_acc: 0.9686\n",
            "Epoch 5/100\n",
            "163/163 [==============================] - 229s 1s/step - loss: 0.0684 - acc: 0.9751 - val_loss: 0.0702 - val_acc: 0.9680\n",
            "Epoch 6/100\n",
            "163/163 [==============================] - 231s 1s/step - loss: 0.0642 - acc: 0.9760 - val_loss: 0.0652 - val_acc: 0.9748\n",
            "Epoch 7/100\n",
            "163/163 [==============================] - 234s 1s/step - loss: 0.0620 - acc: 0.9773 - val_loss: 0.1017 - val_acc: 0.9711\n",
            "Epoch 8/100\n",
            "163/163 [==============================] - 236s 1s/step - loss: 0.0614 - acc: 0.9774 - val_loss: 0.1255 - val_acc: 0.9680\n",
            "Epoch 9/100\n",
            "163/163 [==============================] - 222s 1s/step - loss: 0.0570 - acc: 0.9794 - val_loss: 0.0884 - val_acc: 0.9719\n",
            "Epoch 10/100\n",
            "163/163 [==============================] - 215s 1s/step - loss: 0.0581 - acc: 0.9789 - val_loss: 0.0540 - val_acc: 0.9676\n",
            "Epoch 11/100\n",
            "163/163 [==============================] - 213s 1s/step - loss: 0.0539 - acc: 0.9801 - val_loss: 0.0901 - val_acc: 0.9661\n",
            "Epoch 12/100\n",
            "163/163 [==============================] - 211s 1s/step - loss: 0.0518 - acc: 0.9811 - val_loss: 0.0746 - val_acc: 0.9705\n",
            "Epoch 13/100\n",
            "163/163 [==============================] - 209s 1s/step - loss: 0.0492 - acc: 0.9821 - val_loss: 0.0865 - val_acc: 0.9753\n",
            "Epoch 14/100\n",
            "163/163 [==============================] - 209s 1s/step - loss: 0.0481 - acc: 0.9824 - val_loss: 0.1035 - val_acc: 0.9705\n",
            "Epoch 15/100\n",
            "163/163 [==============================] - 206s 1s/step - loss: 0.0479 - acc: 0.9828 - val_loss: 0.1025 - val_acc: 0.9728\n",
            "Epoch 16/100\n",
            "163/163 [==============================] - 205s 1s/step - loss: 0.0463 - acc: 0.9826 - val_loss: 0.1149 - val_acc: 0.9664\n",
            "Epoch 17/100\n",
            "163/163 [==============================] - 212s 1s/step - loss: 0.0431 - acc: 0.9839 - val_loss: 0.0792 - val_acc: 0.9696\n",
            "Epoch 18/100\n",
            "163/163 [==============================] - 206s 1s/step - loss: 0.0425 - acc: 0.9841 - val_loss: 0.0696 - val_acc: 0.9656\n",
            "Epoch 19/100\n",
            "163/163 [==============================] - 205s 1s/step - loss: 0.0427 - acc: 0.9846 - val_loss: 0.0548 - val_acc: 0.9740\n",
            "Epoch 20/100\n",
            "163/163 [==============================] - 208s 1s/step - loss: 0.0402 - acc: 0.9854 - val_loss: 0.0844 - val_acc: 0.9718\n",
            "Epoch 21/100\n",
            "163/163 [==============================] - 209s 1s/step - loss: 0.0386 - acc: 0.9854 - val_loss: 0.1634 - val_acc: 0.9693\n",
            "Epoch 22/100\n",
            "163/163 [==============================] - 211s 1s/step - loss: 0.0390 - acc: 0.9857 - val_loss: 0.0756 - val_acc: 0.9744\n",
            "Epoch 23/100\n",
            "163/163 [==============================] - 212s 1s/step - loss: 0.0372 - acc: 0.9864 - val_loss: 0.1195 - val_acc: 0.9668\n",
            "Epoch 24/100\n",
            "163/163 [==============================] - 209s 1s/step - loss: 0.0359 - acc: 0.9867 - val_loss: 0.1133 - val_acc: 0.9702\n",
            "Epoch 25/100\n",
            "163/163 [==============================] - 208s 1s/step - loss: 0.0345 - acc: 0.9872 - val_loss: 0.0937 - val_acc: 0.9725\n",
            "Epoch 26/100\n",
            "163/163 [==============================] - 209s 1s/step - loss: 0.0339 - acc: 0.9878 - val_loss: 0.0704 - val_acc: 0.9698\n",
            "Epoch 27/100\n",
            "163/163 [==============================] - 209s 1s/step - loss: 0.0332 - acc: 0.9878 - val_loss: 0.1027 - val_acc: 0.9690\n",
            "Epoch 28/100\n",
            "163/163 [==============================] - 208s 1s/step - loss: 0.0323 - acc: 0.9881 - val_loss: 0.0923 - val_acc: 0.9711\n",
            "Epoch 29/100\n",
            "163/163 [==============================] - 208s 1s/step - loss: 0.0313 - acc: 0.9885 - val_loss: 0.0624 - val_acc: 0.9716\n",
            "Epoch 30/100\n",
            "163/163 [==============================] - 205s 1s/step - loss: 0.0303 - acc: 0.9893 - val_loss: 0.0928 - val_acc: 0.9689\n",
            "Epoch 31/100\n",
            "163/163 [==============================] - 208s 1s/step - loss: 0.0292 - acc: 0.9894 - val_loss: 0.0850 - val_acc: 0.9658\n",
            "Epoch 32/100\n",
            "163/163 [==============================] - 206s 1s/step - loss: 0.0283 - acc: 0.9897 - val_loss: 0.0956 - val_acc: 0.9724\n",
            "Epoch 33/100\n",
            "163/163 [==============================] - 206s 1s/step - loss: 0.0289 - acc: 0.9896 - val_loss: 0.0740 - val_acc: 0.9745\n",
            "Epoch 34/100\n",
            "163/163 [==============================] - 208s 1s/step - loss: 0.0269 - acc: 0.9902 - val_loss: 0.1280 - val_acc: 0.9734\n",
            "Epoch 35/100\n",
            "163/163 [==============================] - 209s 1s/step - loss: 0.0275 - acc: 0.9902 - val_loss: 0.0625 - val_acc: 0.9718\n",
            "Epoch 36/100\n",
            "163/163 [==============================] - 210s 1s/step - loss: 0.0263 - acc: 0.9904 - val_loss: 0.0713 - val_acc: 0.9685\n",
            "Epoch 37/100\n",
            "163/163 [==============================] - 208s 1s/step - loss: 0.0250 - acc: 0.9909 - val_loss: 0.0885 - val_acc: 0.9695\n",
            "Epoch 38/100\n",
            "163/163 [==============================] - 213s 1s/step - loss: 0.0261 - acc: 0.9902 - val_loss: 0.1031 - val_acc: 0.9716\n",
            "Epoch 39/100\n",
            "163/163 [==============================] - 213s 1s/step - loss: 0.0248 - acc: 0.9911 - val_loss: 0.0903 - val_acc: 0.9705\n",
            "Epoch 40/100\n",
            "163/163 [==============================] - 212s 1s/step - loss: 0.0244 - acc: 0.9911 - val_loss: 0.1258 - val_acc: 0.9683\n",
            "Epoch 41/100\n",
            "163/163 [==============================] - 209s 1s/step - loss: 0.0211 - acc: 0.9926 - val_loss: 0.1232 - val_acc: 0.9694\n",
            "Epoch 42/100\n",
            "163/163 [==============================] - 206s 1s/step - loss: 0.0233 - acc: 0.9917 - val_loss: 0.1439 - val_acc: 0.9649\n",
            "Epoch 43/100\n",
            "163/163 [==============================] - 210s 1s/step - loss: 0.0229 - acc: 0.9919 - val_loss: 0.1004 - val_acc: 0.9714\n",
            "Epoch 44/100\n",
            "163/163 [==============================] - 217s 1s/step - loss: 0.0220 - acc: 0.9919 - val_loss: 0.1251 - val_acc: 0.9616\n",
            "Epoch 45/100\n",
            "163/163 [==============================] - 209s 1s/step - loss: 0.0214 - acc: 0.9922 - val_loss: 0.0734 - val_acc: 0.9677\n",
            "Epoch 46/100\n",
            "163/163 [==============================] - 210s 1s/step - loss: 0.0201 - acc: 0.9928 - val_loss: 0.0667 - val_acc: 0.9749\n",
            "Epoch 47/100\n",
            "163/163 [==============================] - 209s 1s/step - loss: 0.0192 - acc: 0.9931 - val_loss: 0.1268 - val_acc: 0.9662\n",
            "Epoch 48/100\n",
            "163/163 [==============================] - 208s 1s/step - loss: 0.0216 - acc: 0.9923 - val_loss: 0.2007 - val_acc: 0.9646\n",
            "Epoch 49/100\n",
            "163/163 [==============================] - 209s 1s/step - loss: 0.0215 - acc: 0.9922 - val_loss: 0.0704 - val_acc: 0.9694\n",
            "Epoch 50/100\n",
            "163/163 [==============================] - 209s 1s/step - loss: 0.0194 - acc: 0.9928 - val_loss: 0.0824 - val_acc: 0.9685\n",
            "Epoch 51/100\n",
            "163/163 [==============================] - 221s 1s/step - loss: 0.0186 - acc: 0.9933 - val_loss: 0.1048 - val_acc: 0.9669\n",
            "Epoch 52/100\n",
            "163/163 [==============================] - 228s 1s/step - loss: 0.0191 - acc: 0.9929 - val_loss: 0.2029 - val_acc: 0.9605\n",
            "Epoch 53/100\n",
            "163/163 [==============================] - 234s 1s/step - loss: 0.0211 - acc: 0.9924 - val_loss: 0.1108 - val_acc: 0.9645\n",
            "Epoch 54/100\n",
            "163/163 [==============================] - 231s 1s/step - loss: 0.0180 - acc: 0.9934 - val_loss: 0.1463 - val_acc: 0.9695\n",
            "Epoch 55/100\n",
            "163/163 [==============================] - 235s 1s/step - loss: 0.0177 - acc: 0.9936 - val_loss: 0.0885 - val_acc: 0.9670\n",
            "Epoch 56/100\n",
            "163/163 [==============================] - 235s 1s/step - loss: 0.0178 - acc: 0.9936 - val_loss: 0.1095 - val_acc: 0.9675\n",
            "Epoch 57/100\n",
            "163/163 [==============================] - 234s 1s/step - loss: 0.0178 - acc: 0.9936 - val_loss: 0.1001 - val_acc: 0.9696\n",
            "Epoch 58/100\n",
            "163/163 [==============================] - 237s 1s/step - loss: 0.0171 - acc: 0.9938 - val_loss: 0.1925 - val_acc: 0.9677\n",
            "Epoch 59/100\n",
            "163/163 [==============================] - 233s 1s/step - loss: 0.0173 - acc: 0.9939 - val_loss: 0.1031 - val_acc: 0.9691\n",
            "Epoch 60/100\n",
            "163/163 [==============================] - 233s 1s/step - loss: 0.0160 - acc: 0.9944 - val_loss: 0.1469 - val_acc: 0.9656\n",
            "Epoch 61/100\n",
            "163/163 [==============================] - 233s 1s/step - loss: 0.0167 - acc: 0.9942 - val_loss: 0.0555 - val_acc: 0.9743\n",
            "Epoch 62/100\n",
            "163/163 [==============================] - 235s 1s/step - loss: 0.0175 - acc: 0.9937 - val_loss: 0.1709 - val_acc: 0.9674\n",
            "Epoch 63/100\n",
            "163/163 [==============================] - 234s 1s/step - loss: 0.0168 - acc: 0.9940 - val_loss: 0.0548 - val_acc: 0.9737\n",
            "Epoch 64/100\n",
            "163/163 [==============================] - 236s 1s/step - loss: 0.0165 - acc: 0.9942 - val_loss: 0.1052 - val_acc: 0.9752\n",
            "Epoch 65/100\n",
            "163/163 [==============================] - 242s 1s/step - loss: 0.0159 - acc: 0.9946 - val_loss: 0.0950 - val_acc: 0.9660\n",
            "\n",
            "Epoch 00065: ReduceLROnPlateau reducing learning rate to 4.999999873689376e-05.\n",
            "Epoch 66/100\n",
            "163/163 [==============================] - 235s 1s/step - loss: 0.0091 - acc: 0.9967 - val_loss: 0.0722 - val_acc: 0.9701\n",
            "Epoch 67/100\n",
            "163/163 [==============================] - 237s 1s/step - loss: 0.0076 - acc: 0.9973 - val_loss: 0.0944 - val_acc: 0.9707\n",
            "Epoch 68/100\n",
            "163/163 [==============================] - 234s 1s/step - loss: 0.0071 - acc: 0.9975 - val_loss: 0.1789 - val_acc: 0.9695\n",
            "Epoch 69/100\n",
            "163/163 [==============================] - 235s 1s/step - loss: 0.0075 - acc: 0.9974 - val_loss: 0.1554 - val_acc: 0.9665\n",
            "Epoch 70/100\n",
            "163/163 [==============================] - 236s 1s/step - loss: 0.0064 - acc: 0.9978 - val_loss: 0.1701 - val_acc: 0.9693\n",
            "Epoch 71/100\n",
            "163/163 [==============================] - 234s 1s/step - loss: 0.0077 - acc: 0.9973 - val_loss: 0.1150 - val_acc: 0.9736\n",
            "Epoch 72/100\n",
            "163/163 [==============================] - 237s 1s/step - loss: 0.0074 - acc: 0.9975 - val_loss: 0.0729 - val_acc: 0.9726\n",
            "Epoch 73/100\n",
            "163/163 [==============================] - 234s 1s/step - loss: 0.0071 - acc: 0.9974 - val_loss: 0.1863 - val_acc: 0.9662\n",
            "Epoch 74/100\n",
            "163/163 [==============================] - 232s 1s/step - loss: 0.0067 - acc: 0.9976 - val_loss: 0.0953 - val_acc: 0.9743\n",
            "Epoch 75/100\n",
            "163/163 [==============================] - 236s 1s/step - loss: 0.0063 - acc: 0.9977 - val_loss: 0.2165 - val_acc: 0.9734\n",
            "\n",
            "Epoch 00075: ReduceLROnPlateau reducing learning rate to 2.499999936844688e-05.\n",
            "Epoch 76/100\n",
            "163/163 [==============================] - 236s 1s/step - loss: 0.0049 - acc: 0.9982 - val_loss: 0.1285 - val_acc: 0.9699\n",
            "Epoch 77/100\n",
            "163/163 [==============================] - 234s 1s/step - loss: 0.0045 - acc: 0.9984 - val_loss: 0.1449 - val_acc: 0.9710\n",
            "Epoch 78/100\n",
            "163/163 [==============================] - 227s 1s/step - loss: 0.0037 - acc: 0.9988 - val_loss: 0.1611 - val_acc: 0.9726\n",
            "Epoch 79/100\n",
            "163/163 [==============================] - 230s 1s/step - loss: 0.0037 - acc: 0.9987 - val_loss: 0.1030 - val_acc: 0.9761\n",
            "Epoch 80/100\n",
            "163/163 [==============================] - 231s 1s/step - loss: 0.0047 - acc: 0.9984 - val_loss: 0.1371 - val_acc: 0.9756\n",
            "Epoch 81/100\n",
            "163/163 [==============================] - 228s 1s/step - loss: 0.0042 - acc: 0.9986 - val_loss: 0.1478 - val_acc: 0.9730\n",
            "Epoch 82/100\n",
            "163/163 [==============================] - 228s 1s/step - loss: 0.0039 - acc: 0.9986 - val_loss: 0.1077 - val_acc: 0.9770\n",
            "Epoch 83/100\n",
            "163/163 [==============================] - 230s 1s/step - loss: 0.0043 - acc: 0.9985 - val_loss: 0.2013 - val_acc: 0.9724\n",
            "\n",
            "Epoch 00083: ReduceLROnPlateau reducing learning rate to 1.249999968422344e-05.\n",
            "Epoch 84/100\n",
            "163/163 [==============================] - 230s 1s/step - loss: 0.0035 - acc: 0.9988 - val_loss: 0.1148 - val_acc: 0.9723\n",
            "Epoch 85/100\n",
            "163/163 [==============================] - 231s 1s/step - loss: 0.0025 - acc: 0.9992 - val_loss: 0.1313 - val_acc: 0.9732\n",
            "Epoch 86/100\n",
            "163/163 [==============================] - 234s 1s/step - loss: 0.0028 - acc: 0.9991 - val_loss: 0.1547 - val_acc: 0.9746\n",
            "Epoch 87/100\n",
            "163/163 [==============================] - 229s 1s/step - loss: 0.0031 - acc: 0.9990 - val_loss: 0.1054 - val_acc: 0.9738\n",
            "Epoch 88/100\n",
            "163/163 [==============================] - 228s 1s/step - loss: 0.0025 - acc: 0.9991 - val_loss: 0.1509 - val_acc: 0.9716\n",
            "Epoch 89/100\n",
            "163/163 [==============================] - 228s 1s/step - loss: 0.0024 - acc: 0.9991 - val_loss: 0.1266 - val_acc: 0.9734\n",
            "Epoch 90/100\n",
            "163/163 [==============================] - 228s 1s/step - loss: 0.0024 - acc: 0.9991 - val_loss: 0.1258 - val_acc: 0.9689\n",
            "\n",
            "Epoch 00090: ReduceLROnPlateau reducing learning rate to 6.24999984211172e-06.\n",
            "Epoch 91/100\n",
            "163/163 [==============================] - 231s 1s/step - loss: 0.0024 - acc: 0.9992 - val_loss: 0.1227 - val_acc: 0.9749\n",
            "Epoch 92/100\n",
            "163/163 [==============================] - 231s 1s/step - loss: 0.0024 - acc: 0.9992 - val_loss: 0.2042 - val_acc: 0.9709\n",
            "Epoch 93/100\n",
            "163/163 [==============================] - 224s 1s/step - loss: 0.0017 - acc: 0.9994 - val_loss: 0.0833 - val_acc: 0.9739\n",
            "Epoch 94/100\n",
            "163/163 [==============================] - 224s 1s/step - loss: 0.0022 - acc: 0.9992 - val_loss: 0.1730 - val_acc: 0.9698\n",
            "Epoch 95/100\n",
            "163/163 [==============================] - 225s 1s/step - loss: 0.0021 - acc: 0.9994 - val_loss: 0.2148 - val_acc: 0.9730\n",
            "Epoch 96/100\n",
            "163/163 [==============================] - 228s 1s/step - loss: 0.0018 - acc: 0.9994 - val_loss: 0.1672 - val_acc: 0.9732\n",
            "Epoch 97/100\n",
            "163/163 [==============================] - 222s 1s/step - loss: 0.0019 - acc: 0.9993 - val_loss: 0.1089 - val_acc: 0.9729\n",
            "Epoch 98/100\n",
            "163/163 [==============================] - 225s 1s/step - loss: 0.0020 - acc: 0.9993 - val_loss: 0.1258 - val_acc: 0.9717\n",
            "\n",
            "Epoch 00098: ReduceLROnPlateau reducing learning rate to 3.12499992105586e-06.\n",
            "Epoch 99/100\n",
            "163/163 [==============================] - 227s 1s/step - loss: 0.0017 - acc: 0.9994 - val_loss: 0.1377 - val_acc: 0.9723\n",
            "Epoch 100/100\n",
            "163/163 [==============================] - 226s 1s/step - loss: 0.0016 - acc: 0.9995 - val_loss: 0.1122 - val_acc: 0.9728\n"
          ],
          "name": "stdout"
        }
      ]
    },
    {
      "cell_type": "code",
      "metadata": {
        "id": "wiavu-5gfl-U",
        "colab_type": "code",
        "colab": {
          "base_uri": "https://localhost:8080/",
          "height": 545
        },
        "outputId": "cc038502-4c1a-4507-e52f-28d16d6de9fc"
      },
      "source": [
        "import matplotlib.pyplot as plt\n",
        "acc = history.history['acc']\n",
        "val_acc = history.history['val_acc']\n",
        "loss = history.history['loss']\n",
        "val_loss = history.history['val_loss']\n",
        "epochs = range(1, len(acc) + 1) \n",
        "plt.plot(epochs, acc, 'bo', label='Training acc')\n",
        "plt.plot(epochs, val_acc, 'b', label='Validation acc')\n",
        "plt.title('Training and validation accuracy')\n",
        "plt.legend()\n",
        "plt.figure()\n",
        "plt.plot(epochs, loss, 'bo', label='Training loss')\n",
        "plt.plot(epochs, val_loss, 'b', label='Validation loss')\n",
        "plt.title('Training and validation loss')\n",
        "plt.legend()\n",
        "plt.show()"
      ],
      "execution_count": null,
      "outputs": [
        {
          "output_type": "display_data",
          "data": {
            "image/png": "[encoded data removed]",
            "text/plain": [
              "<Figure size 432x288 with 1 Axes>"
            ]
          },
          "metadata": {
            "tags": [],
            "needs_background": "light"
          }
        },
        {
          "output_type": "display_data",
          "data": {
            "image/png": "[encoded data removed]",
            "text/plain": [
              "<Figure size 432x288 with 1 Axes>"
            ]
          },
          "metadata": {
            "tags": [],
            "needs_background": "light"
          }
        }
      ]
    },
    {
      "cell_type": "code",
      "metadata": {
        "id": "XhFUVuUEfmgI",
        "colab_type": "code",
        "colab": {}
      },
      "source": [
        "model.save('/content/drive/My Drive/dataset/tenAnimals_big/model/10Animals_temp1.h5')"
      ],
      "execution_count": null,
      "outputs": []
    },
    {
      "cell_type": "code",
      "metadata": {
        "id": "MogyYjP0VuTj",
        "colab_type": "code",
        "colab": {
          "base_uri": "https://localhost:8080/",
          "height": 34
        },
        "outputId": "e05d3ede-dc1d-44df-fd67-fe994d7eb4d2"
      },
      "source": [
        "model.evaluate_generator(test_generator)"
      ],
      "execution_count": null,
      "outputs": [
        {
          "output_type": "execute_result",
          "data": {
            "text/plain": [
              "[0.11890729516744614, 0.9726369380950928]"
            ]
          },
          "metadata": {
            "tags": []
          },
          "execution_count": 15
        }
      ]
    }
  ]
}