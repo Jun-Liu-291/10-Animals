{
  "nbformat": 4,
  "nbformat_minor": 0,
  "metadata": {
    "colab": {
      "name": "Animals-10-v6.ipynb",
      "provenance": [],
      "collapsed_sections": [],
      "authorship_tag": "ABX9TyN40gy4+lmy33wRPH5PRkUH",
      "include_colab_link": true
    },
    "kernelspec": {
      "name": "python3",
      "display_name": "Python 3"
    },
    "accelerator": "GPU"
  },
  "cells": [
    {
      "cell_type": "markdown",
      "metadata": {
        "id": "view-in-github",
        "colab_type": "text"
      },
      "source": [
        "<a href=\"https://colab.research.google.com/github/Jun-Liu-291/10-Animals/blob/master/Animals_10_v6.ipynb\" target=\"_parent\"><img src=\"https://colab.research.google.com/assets/colab-badge.svg\" alt=\"Open In Colab\"/></a>"
      ]
    },
    {
      "cell_type": "code",
      "metadata": {
        "id": "DpqfL26RcU9U",
        "colab_type": "code",
        "colab": {
          "base_uri": "https://localhost:8080/",
          "height": 122
        },
        "outputId": "fe7a523f-ea49-4440-dc3a-13d3faf37e8c"
      },
      "source": [
        "from google.colab import drive\n",
        "drive.mount('/content/drive/')"
      ],
      "execution_count": null,
      "outputs": [
        {
          "output_type": "stream",
          "text": [
            "Go to this URL in a browser: https://accounts.google.com/o/oauth2/auth?client_id=947318989803-6bn6qk8qdgf4n4g3pfee6491hc0brc4i.apps.googleusercontent.com&redirect_uri=urn%3aietf%3awg%3aoauth%3a2.0%3aoob&response_type=code&scope=email%20https%3a%2f%2fwww.googleapis.com%2fauth%2fdocs.test%20https%3a%2f%2fwww.googleapis.com%2fauth%2fdrive%20https%3a%2f%2fwww.googleapis.com%2fauth%2fdrive.photos.readonly%20https%3a%2f%2fwww.googleapis.com%2fauth%2fpeopleapi.readonly\n",
            "\n",
            "Enter your authorization code:\n",
            "··········\n",
            "Mounted at /content/drive/\n"
          ],
          "name": "stdout"
        }
      ]
    },
    {
      "cell_type": "code",
      "metadata": {
        "id": "SPZQSRbkci4E",
        "colab_type": "code",
        "colab": {
          "base_uri": "https://localhost:8080/",
          "height": 51
        },
        "outputId": "8683f5b9-92c7-4f5e-fe25-42f02ff10311"
      },
      "source": [
        "%cd /content/drive/My Drive/dataset/tenAnimals_big_no_shuffle\n",
        "\n",
        "!pwd"
      ],
      "execution_count": null,
      "outputs": [
        {
          "output_type": "stream",
          "text": [
            "/content/drive/My Drive/dataset/tenAnimals_big_no_shuffle\n",
            "/content/drive/My Drive/dataset/tenAnimals_big_no_shuffle\n"
          ],
          "name": "stdout"
        }
      ]
    },
    {
      "cell_type": "code",
      "metadata": {
        "id": "fA_Rwty8cuMM",
        "colab_type": "code",
        "colab": {
          "base_uri": "https://localhost:8080/",
          "height": 34
        },
        "outputId": "ad91f7e6-0af7-4f9d-be73-ae98cb06e588"
      },
      "source": [
        "from keras.models import load_model\n",
        "\n",
        "model = load_model('/content/drive/My Drive/dataset/tenAnimals_no_shuffle/10_Animals_ns.h5')"
      ],
      "execution_count": null,
      "outputs": [
        {
          "output_type": "stream",
          "text": [
            "Using TensorFlow backend.\n"
          ],
          "name": "stderr"
        }
      ]
    },
    {
      "cell_type": "code",
      "metadata": {
        "id": "RLRKUAiWczGy",
        "colab_type": "code",
        "colab": {
          "base_uri": "https://localhost:8080/",
          "height": 1000
        },
        "outputId": "157b6f78-885c-49e6-9f93-f82c237d917a"
      },
      "source": [
        "model.summary()"
      ],
      "execution_count": null,
      "outputs": [
        {
          "output_type": "stream",
          "text": [
            "Model: \"sequential_2\"\n",
            "_________________________________________________________________\n",
            "Layer (type)                 Output Shape              Param #   \n",
            "=================================================================\n",
            "conv2d_13 (Conv2D)           (None, 128, 128, 32)      896       \n",
            "_________________________________________________________________\n",
            "leaky_re_lu_15 (LeakyReLU)   (None, 128, 128, 32)      0         \n",
            "_________________________________________________________________\n",
            "conv2d_14 (Conv2D)           (None, 128, 128, 32)      9248      \n",
            "_________________________________________________________________\n",
            "leaky_re_lu_16 (LeakyReLU)   (None, 128, 128, 32)      0         \n",
            "_________________________________________________________________\n",
            "max_pooling2d_6 (MaxPooling2 (None, 64, 64, 32)        0         \n",
            "_________________________________________________________________\n",
            "conv2d_15 (Conv2D)           (None, 64, 64, 64)        18496     \n",
            "_________________________________________________________________\n",
            "leaky_re_lu_17 (LeakyReLU)   (None, 64, 64, 64)        0         \n",
            "_________________________________________________________________\n",
            "conv2d_16 (Conv2D)           (None, 64, 64, 64)        36928     \n",
            "_________________________________________________________________\n",
            "leaky_re_lu_18 (LeakyReLU)   (None, 64, 64, 64)        0         \n",
            "_________________________________________________________________\n",
            "max_pooling2d_7 (MaxPooling2 (None, 32, 32, 64)        0         \n",
            "_________________________________________________________________\n",
            "conv2d_17 (Conv2D)           (None, 32, 32, 128)       73856     \n",
            "_________________________________________________________________\n",
            "leaky_re_lu_19 (LeakyReLU)   (None, 32, 32, 128)       0         \n",
            "_________________________________________________________________\n",
            "conv2d_18 (Conv2D)           (None, 32, 32, 128)       147584    \n",
            "_________________________________________________________________\n",
            "leaky_re_lu_20 (LeakyReLU)   (None, 32, 32, 128)       0         \n",
            "_________________________________________________________________\n",
            "max_pooling2d_8 (MaxPooling2 (None, 16, 16, 128)       0         \n",
            "_________________________________________________________________\n",
            "conv2d_19 (Conv2D)           (None, 16, 16, 256)       295168    \n",
            "_________________________________________________________________\n",
            "leaky_re_lu_21 (LeakyReLU)   (None, 16, 16, 256)       0         \n",
            "_________________________________________________________________\n",
            "conv2d_20 (Conv2D)           (None, 16, 16, 256)       590080    \n",
            "_________________________________________________________________\n",
            "leaky_re_lu_22 (LeakyReLU)   (None, 16, 16, 256)       0         \n",
            "_________________________________________________________________\n",
            "max_pooling2d_9 (MaxPooling2 (None, 8, 8, 256)         0         \n",
            "_________________________________________________________________\n",
            "conv2d_21 (Conv2D)           (None, 8, 8, 512)         1180160   \n",
            "_________________________________________________________________\n",
            "leaky_re_lu_23 (LeakyReLU)   (None, 8, 8, 512)         0         \n",
            "_________________________________________________________________\n",
            "conv2d_22 (Conv2D)           (None, 8, 8, 512)         2359808   \n",
            "_________________________________________________________________\n",
            "leaky_re_lu_24 (LeakyReLU)   (None, 8, 8, 512)         0         \n",
            "_________________________________________________________________\n",
            "max_pooling2d_10 (MaxPooling (None, 4, 4, 512)         0         \n",
            "_________________________________________________________________\n",
            "conv2d_23 (Conv2D)           (None, 4, 4, 1024)        4719616   \n",
            "_________________________________________________________________\n",
            "leaky_re_lu_25 (LeakyReLU)   (None, 4, 4, 1024)        0         \n",
            "_________________________________________________________________\n",
            "conv2d_24 (Conv2D)           (None, 4, 4, 1024)        9438208   \n",
            "_________________________________________________________________\n",
            "leaky_re_lu_26 (LeakyReLU)   (None, 4, 4, 1024)        0         \n",
            "_________________________________________________________________\n",
            "flatten_2 (Flatten)          (None, 16384)             0         \n",
            "_________________________________________________________________\n",
            "dropout_2 (Dropout)          (None, 16384)             0         \n",
            "_________________________________________________________________\n",
            "dense_4 (Dense)              (None, 1024)              16778240  \n",
            "_________________________________________________________________\n",
            "leaky_re_lu_27 (LeakyReLU)   (None, 1024)              0         \n",
            "_________________________________________________________________\n",
            "dense_5 (Dense)              (None, 1024)              1049600   \n",
            "_________________________________________________________________\n",
            "leaky_re_lu_28 (LeakyReLU)   (None, 1024)              0         \n",
            "_________________________________________________________________\n",
            "dense_6 (Dense)              (None, 10)                10250     \n",
            "=================================================================\n",
            "Total params: 36,708,138\n",
            "Trainable params: 36,708,138\n",
            "Non-trainable params: 0\n",
            "_________________________________________________________________\n"
          ],
          "name": "stdout"
        }
      ]
    },
    {
      "cell_type": "code",
      "metadata": {
        "id": "qBZBlOafc2JT",
        "colab_type": "code",
        "colab": {}
      },
      "source": [
        "TRAIN_PATH = 'train'\n",
        "VAL_PATH = 'validation'\n",
        "TEST_PATH = 'test'\n",
        "\n",
        "batch_size = 128\n",
        "epochs = 50\n",
        "IMG_HEIGHT = 128\n",
        "IMG_WIDTH = 128"
      ],
      "execution_count": null,
      "outputs": []
    },
    {
      "cell_type": "code",
      "metadata": {
        "id": "OHreo2ygdCJz",
        "colab_type": "code",
        "colab": {
          "base_uri": "https://localhost:8080/",
          "height": 51
        },
        "outputId": "338fe8a5-4aef-4980-a029-ddb8ea85e773"
      },
      "source": [
        "from keras.preprocessing.image import ImageDataGenerator\n",
        "\n",
        "test_datagen = ImageDataGenerator(rescale=1./255)\n",
        "\n",
        "test_generator = test_datagen.flow_from_directory(\n",
        "    TEST_PATH,\n",
        "    target_size=(IMG_HEIGHT, IMG_WIDTH),\n",
        "    batch_size=128,\n",
        "    class_mode='categorical'\n",
        ")"
      ],
      "execution_count": null,
      "outputs": [
        {
          "output_type": "stream",
          "text": [
            "Using TensorFlow backend.\n"
          ],
          "name": "stderr"
        },
        {
          "output_type": "stream",
          "text": [
            "Found 2613 images belonging to 10 classes.\n"
          ],
          "name": "stdout"
        }
      ]
    },
    {
      "cell_type": "code",
      "metadata": {
        "id": "lrfgnSRxdFNj",
        "colab_type": "code",
        "colab": {
          "base_uri": "https://localhost:8080/",
          "height": 34
        },
        "outputId": "3ab9fe3f-ebbd-408c-da2b-ee6a78fb49d2"
      },
      "source": [
        "model.evaluate_generator(test_generator)"
      ],
      "execution_count": null,
      "outputs": [
        {
          "output_type": "execute_result",
          "data": {
            "text/plain": [
              "[1.0443053245544434, 0.6984308958053589]"
            ]
          },
          "metadata": {
            "tags": []
          },
          "execution_count": 8
        }
      ]
    },
    {
      "cell_type": "code",
      "metadata": {
        "id": "0IHtQImudM47",
        "colab_type": "code",
        "colab": {}
      },
      "source": [
        "from keras import optimizers\n",
        "\n",
        "model.compile(loss='binary_crossentropy',\n",
        "              optimizer=optimizers.Adam(learning_rate = 5e-5),\n",
        "              metrics=['acc'])"
      ],
      "execution_count": null,
      "outputs": []
    },
    {
      "cell_type": "code",
      "metadata": {
        "id": "nsVpey4DdNcd",
        "colab_type": "code",
        "colab": {}
      },
      "source": [
        "from keras.callbacks import ModelCheckpoint\n",
        "from keras.callbacks import ReduceLROnPlateau\n",
        "# change callback function\n",
        "# apply ReduceLRonPlateau for changing LR\n",
        "reduceLR = ReduceLROnPlateau(\n",
        "    monitor=\"loss\",\n",
        "    factor = 0.5,\n",
        "    patience = 5,\n",
        "    verbose = 1,\n",
        "    mode = 'min',\n",
        "    min_lr = 1e-6)\n",
        "\n",
        "# save whole model when get a better val accuracy\n",
        "checkpoint = ModelCheckpoint(\n",
        "    filepath = '10_Animals_bns_f1.{epoch:02d}-{val_loss:.2f}.h5',\n",
        "    monitor='val_acc',\n",
        "    save_weights_only = False,\n",
        "    save_best_only = True\n",
        ")\n",
        "\n",
        "my_callbacks = [reduceLR, checkpoint]"
      ],
      "execution_count": null,
      "outputs": []
    },
    {
      "cell_type": "code",
      "metadata": {
        "id": "mYaSJ1mtdU88",
        "colab_type": "code",
        "colab": {
          "base_uri": "https://localhost:8080/",
          "height": 51
        },
        "outputId": "a5bb5c91-b49a-4945-c42a-af834e79fa7c"
      },
      "source": [
        "train_image_generator = ImageDataGenerator(\n",
        "    rescale = 1./ 255,\n",
        "    rotation_range = 45,\n",
        "    width_shift_range = .25,\n",
        "    height_shift_range = .25,\n",
        "    horizontal_flip = True,\n",
        "    shear_range=0.2,\n",
        "    zoom_range = 0.2,\n",
        "    fill_mode='nearest'\n",
        ")\n",
        "\n",
        "validation_image_generator = ImageDataGenerator(rescale=1./255)\n",
        "\n",
        "train_data_gen = train_image_generator.flow_from_directory(\n",
        "    batch_size = batch_size,\n",
        "    directory = TRAIN_PATH,\n",
        "    shuffle = True,\n",
        "    target_size = (IMG_HEIGHT, IMG_WIDTH),\n",
        "    class_mode = 'categorical'\n",
        ")\n",
        "\n",
        "validation_data_gen = validation_image_generator.flow_from_directory(\n",
        "    batch_size = batch_size,\n",
        "    directory = VAL_PATH,\n",
        "    shuffle = True,\n",
        "    target_size = (IMG_HEIGHT, IMG_WIDTH),\n",
        "    class_mode = 'categorical'\n",
        ")"
      ],
      "execution_count": null,
      "outputs": [
        {
          "output_type": "stream",
          "text": [
            "Found 20968 images belonging to 10 classes.\n",
            "Found 2613 images belonging to 10 classes.\n"
          ],
          "name": "stdout"
        }
      ]
    },
    {
      "cell_type": "code",
      "metadata": {
        "id": "UgzUEw9Dezo0",
        "colab_type": "code",
        "colab": {
          "base_uri": "https://localhost:8080/",
          "height": 1000
        },
        "outputId": "f595e1b2-312b-42ef-92e4-8a5b4cd62617"
      },
      "source": [
        "history = model.fit_generator(\n",
        "    train_data_gen,\n",
        "    steps_per_epoch=int(20968/batch_size),\n",
        "    epochs=epochs,\n",
        "    validation_data=validation_data_gen,\n",
        "    validation_steps=int(2613/batch_size),\n",
        "    callbacks = my_callbacks\n",
        ")"
      ],
      "execution_count": null,
      "outputs": [
        {
          "output_type": "stream",
          "text": [
            "Epoch 1/50\n",
            "163/163 [==============================] - 187s 1s/step - loss: 0.1263 - acc: 0.9521 - val_loss: 0.1409 - val_acc: 0.9518\n",
            "Epoch 2/50\n",
            "163/163 [==============================] - 187s 1s/step - loss: 0.1204 - acc: 0.9539 - val_loss: 0.1732 - val_acc: 0.9453\n",
            "Epoch 3/50\n",
            "163/163 [==============================] - 189s 1s/step - loss: 0.1187 - acc: 0.9538 - val_loss: 0.1077 - val_acc: 0.9585\n",
            "Epoch 4/50\n",
            "163/163 [==============================] - 189s 1s/step - loss: 0.1137 - acc: 0.9566 - val_loss: 0.1307 - val_acc: 0.9510\n",
            "Epoch 5/50\n",
            "163/163 [==============================] - 188s 1s/step - loss: 0.1131 - acc: 0.9567 - val_loss: 0.1130 - val_acc: 0.9543\n",
            "Epoch 6/50\n",
            "163/163 [==============================] - 189s 1s/step - loss: 0.1092 - acc: 0.9588 - val_loss: 0.1561 - val_acc: 0.9485\n",
            "Epoch 7/50\n",
            "163/163 [==============================] - 187s 1s/step - loss: 0.1073 - acc: 0.9591 - val_loss: 0.1251 - val_acc: 0.9544\n",
            "Epoch 8/50\n",
            "163/163 [==============================] - 187s 1s/step - loss: 0.1030 - acc: 0.9611 - val_loss: 0.0768 - val_acc: 0.9592\n",
            "Epoch 9/50\n",
            "163/163 [==============================] - 186s 1s/step - loss: 0.1032 - acc: 0.9609 - val_loss: 0.1480 - val_acc: 0.9600\n",
            "Epoch 10/50\n",
            "163/163 [==============================] - 186s 1s/step - loss: 0.1015 - acc: 0.9617 - val_loss: 0.1242 - val_acc: 0.9574\n",
            "Epoch 11/50\n",
            "163/163 [==============================] - 186s 1s/step - loss: 0.0994 - acc: 0.9628 - val_loss: 0.1156 - val_acc: 0.9619\n",
            "Epoch 12/50\n",
            "163/163 [==============================] - 186s 1s/step - loss: 0.0964 - acc: 0.9633 - val_loss: 0.1204 - val_acc: 0.9515\n",
            "Epoch 13/50\n",
            "163/163 [==============================] - 186s 1s/step - loss: 0.0943 - acc: 0.9645 - val_loss: 0.1169 - val_acc: 0.9571\n",
            "Epoch 14/50\n",
            "163/163 [==============================] - 185s 1s/step - loss: 0.0925 - acc: 0.9654 - val_loss: 0.1185 - val_acc: 0.9581\n",
            "Epoch 15/50\n",
            "163/163 [==============================] - 185s 1s/step - loss: 0.0899 - acc: 0.9661 - val_loss: 0.1900 - val_acc: 0.9476\n",
            "Epoch 16/50\n",
            "163/163 [==============================] - 186s 1s/step - loss: 0.0893 - acc: 0.9660 - val_loss: 0.1165 - val_acc: 0.9529\n",
            "Epoch 17/50\n",
            "163/163 [==============================] - 185s 1s/step - loss: 0.0868 - acc: 0.9672 - val_loss: 0.1644 - val_acc: 0.9493\n",
            "Epoch 18/50\n",
            "163/163 [==============================] - 186s 1s/step - loss: 0.0866 - acc: 0.9675 - val_loss: 0.1146 - val_acc: 0.9628\n",
            "Epoch 19/50\n",
            "163/163 [==============================] - 186s 1s/step - loss: 0.0842 - acc: 0.9685 - val_loss: 0.1350 - val_acc: 0.9607\n",
            "Epoch 20/50\n",
            "163/163 [==============================] - 183s 1s/step - loss: 0.0835 - acc: 0.9688 - val_loss: 0.0852 - val_acc: 0.9627\n",
            "Epoch 21/50\n",
            "163/163 [==============================] - 183s 1s/step - loss: 0.0802 - acc: 0.9698 - val_loss: 0.0771 - val_acc: 0.9533\n",
            "Epoch 22/50\n",
            "163/163 [==============================] - 184s 1s/step - loss: 0.0816 - acc: 0.9693 - val_loss: 0.1198 - val_acc: 0.9643\n",
            "Epoch 23/50\n",
            "163/163 [==============================] - 188s 1s/step - loss: 0.0785 - acc: 0.9703 - val_loss: 0.1203 - val_acc: 0.9625\n",
            "Epoch 24/50\n",
            "163/163 [==============================] - 187s 1s/step - loss: 0.0758 - acc: 0.9717 - val_loss: 0.0862 - val_acc: 0.9616\n",
            "Epoch 25/50\n",
            "163/163 [==============================] - 190s 1s/step - loss: 0.0752 - acc: 0.9718 - val_loss: 0.1060 - val_acc: 0.9625\n",
            "Epoch 26/50\n",
            "163/163 [==============================] - 186s 1s/step - loss: 0.0753 - acc: 0.9716 - val_loss: 0.0867 - val_acc: 0.9649\n",
            "Epoch 27/50\n",
            "163/163 [==============================] - 187s 1s/step - loss: 0.0745 - acc: 0.9719 - val_loss: 0.1116 - val_acc: 0.9607\n",
            "Epoch 28/50\n",
            "163/163 [==============================] - 190s 1s/step - loss: 0.0734 - acc: 0.9724 - val_loss: 0.1023 - val_acc: 0.9585\n",
            "Epoch 29/50\n",
            "163/163 [==============================] - 185s 1s/step - loss: 0.0729 - acc: 0.9724 - val_loss: 0.1252 - val_acc: 0.9635\n",
            "Epoch 30/50\n",
            "163/163 [==============================] - 185s 1s/step - loss: 0.0699 - acc: 0.9742 - val_loss: 0.1040 - val_acc: 0.9659\n",
            "Epoch 31/50\n",
            "163/163 [==============================] - 185s 1s/step - loss: 0.0690 - acc: 0.9743 - val_loss: 0.1270 - val_acc: 0.9626\n",
            "Epoch 32/50\n",
            "163/163 [==============================] - 187s 1s/step - loss: 0.0679 - acc: 0.9745 - val_loss: 0.1218 - val_acc: 0.9635\n",
            "Epoch 33/50\n",
            "163/163 [==============================] - 191s 1s/step - loss: 0.0663 - acc: 0.9753 - val_loss: 0.1463 - val_acc: 0.9562\n",
            "Epoch 34/50\n",
            "163/163 [==============================] - 190s 1s/step - loss: 0.0680 - acc: 0.9745 - val_loss: 0.1464 - val_acc: 0.9654\n",
            "Epoch 35/50\n",
            "163/163 [==============================] - 192s 1s/step - loss: 0.0655 - acc: 0.9751 - val_loss: 0.1486 - val_acc: 0.9602\n",
            "Epoch 36/50\n",
            "163/163 [==============================] - 192s 1s/step - loss: 0.0649 - acc: 0.9757 - val_loss: 0.1197 - val_acc: 0.9662\n",
            "Epoch 37/50\n",
            "163/163 [==============================] - 191s 1s/step - loss: 0.0627 - acc: 0.9765 - val_loss: 0.1179 - val_acc: 0.9657\n",
            "Epoch 38/50\n",
            "163/163 [==============================] - 190s 1s/step - loss: 0.0624 - acc: 0.9773 - val_loss: 0.1263 - val_acc: 0.9645\n",
            "Epoch 39/50\n",
            "163/163 [==============================] - 189s 1s/step - loss: 0.0610 - acc: 0.9770 - val_loss: 0.1465 - val_acc: 0.9560\n",
            "Epoch 40/50\n",
            "163/163 [==============================] - 187s 1s/step - loss: 0.0607 - acc: 0.9773 - val_loss: 0.0940 - val_acc: 0.9619\n",
            "Epoch 41/50\n",
            "163/163 [==============================] - 186s 1s/step - loss: 0.0592 - acc: 0.9782 - val_loss: 0.1590 - val_acc: 0.9638\n",
            "Epoch 42/50\n",
            "163/163 [==============================] - 190s 1s/step - loss: 0.0580 - acc: 0.9781 - val_loss: 0.0776 - val_acc: 0.9661\n",
            "Epoch 43/50\n",
            "163/163 [==============================] - 196s 1s/step - loss: 0.0587 - acc: 0.9779 - val_loss: 0.1372 - val_acc: 0.9623\n",
            "Epoch 44/50\n",
            "163/163 [==============================] - 197s 1s/step - loss: 0.0562 - acc: 0.9790 - val_loss: 0.1082 - val_acc: 0.9635\n",
            "Epoch 45/50\n",
            "163/163 [==============================] - 192s 1s/step - loss: 0.0572 - acc: 0.9787 - val_loss: 0.1092 - val_acc: 0.9659\n",
            "Epoch 46/50\n",
            "163/163 [==============================] - 190s 1s/step - loss: 0.0542 - acc: 0.9797 - val_loss: 0.0797 - val_acc: 0.9649\n",
            "Epoch 47/50\n",
            "163/163 [==============================] - 190s 1s/step - loss: 0.0539 - acc: 0.9799 - val_loss: 0.1117 - val_acc: 0.9676\n",
            "Epoch 48/50\n",
            "163/163 [==============================] - 189s 1s/step - loss: 0.0543 - acc: 0.9800 - val_loss: 0.1517 - val_acc: 0.9611\n",
            "Epoch 49/50\n",
            "163/163 [==============================] - 188s 1s/step - loss: 0.0517 - acc: 0.9806 - val_loss: 0.0925 - val_acc: 0.9636\n",
            "Epoch 50/50\n",
            "163/163 [==============================] - 188s 1s/step - loss: 0.0532 - acc: 0.9802 - val_loss: 0.0869 - val_acc: 0.9725\n"
          ],
          "name": "stdout"
        }
      ]
    },
    {
      "cell_type": "code",
      "metadata": {
        "id": "Hc6mdUt1eyX9",
        "colab_type": "code",
        "colab": {
          "base_uri": "https://localhost:8080/",
          "height": 545
        },
        "outputId": "a8e167f4-9c1b-4d93-c29e-ad49ff7aeb9e"
      },
      "source": [
        "import matplotlib.pyplot as plt\n",
        "acc = history.history['acc']\n",
        "val_acc = history.history['val_acc']\n",
        "loss = history.history['loss']\n",
        "val_loss = history.history['val_loss']\n",
        "epochs = range(1, len(acc) + 1) \n",
        "plt.plot(epochs, acc, 'bo', label='Training acc')\n",
        "plt.plot(epochs, val_acc, 'b', label='Validation acc')\n",
        "plt.title('Training and validation accuracy')\n",
        "plt.legend()\n",
        "plt.figure()\n",
        "plt.plot(epochs, loss, 'bo', label='Training loss')\n",
        "plt.plot(epochs, val_loss, 'b', label='Validation loss')\n",
        "plt.title('Training and validation loss')\n",
        "plt.legend()\n",
        "plt.show()"
      ],
      "execution_count": null,
      "outputs": [
        {
          "output_type": "display_data",
          "data": {
            "image/png": "[encoded data removed]",
            "text/plain": [
              "<Figure size 432x288 with 1 Axes>"
            ]
          },
          "metadata": {
            "tags": [],
            "needs_background": "light"
          }
        },
        {
          "output_type": "display_data",
          "data": {
            "image/png": "[encoded data removed]",
            "text/plain": [
              "<Figure size 432x288 with 1 Axes>"
            ]
          },
          "metadata": {
            "tags": [],
            "needs_background": "light"
          }
        }
      ]
    },
    {
      "cell_type": "code",
      "metadata": {
        "id": "2iWFymAugv-9",
        "colab_type": "code",
        "colab": {
          "base_uri": "https://localhost:8080/",
          "height": 34
        },
        "outputId": "feb4e10f-ff9b-43fb-a52d-fb833ad505ab"
      },
      "source": [
        "model.evaluate_generator(test_generator)"
      ],
      "execution_count": null,
      "outputs": [
        {
          "output_type": "execute_result",
          "data": {
            "text/plain": [
              "[0.06508659571409225, 0.9724836945533752]"
            ]
          },
          "metadata": {
            "tags": []
          },
          "execution_count": 17
        }
      ]
    },
    {
      "cell_type": "code",
      "metadata": {
        "id": "DUc-Xx0fhCEi",
        "colab_type": "code",
        "colab": {}
      },
      "source": [
        "from keras.models import load_model\n",
        "\n",
        "model = load_model('10Ani_big_ns.h5')"
      ],
      "execution_count": null,
      "outputs": []
    },
    {
      "cell_type": "code",
      "metadata": {
        "id": "Xx-YvnRZzf-l",
        "colab_type": "code",
        "colab": {
          "base_uri": "https://localhost:8080/",
          "height": 1000
        },
        "outputId": "926ac5cb-c55c-4b09-c6b7-896d262850f0"
      },
      "source": [
        "history = model.fit_generator(\n",
        "    train_data_gen,\n",
        "    steps_per_epoch=int(20968/batch_size),\n",
        "    epochs=epochs,\n",
        "    validation_data=validation_data_gen,\n",
        "    validation_steps=int(2613/batch_size),\n",
        "    callbacks = my_callbacks\n",
        ")"
      ],
      "execution_count": null,
      "outputs": [
        {
          "output_type": "stream",
          "text": [
            "Epoch 1/50\n",
            "163/163 [==============================] - 140s 860ms/step - loss: 0.0520 - acc: 0.9806 - val_loss: 0.0996 - val_acc: 0.9666\n",
            "Epoch 2/50\n",
            "163/163 [==============================] - 142s 870ms/step - loss: 0.0506 - acc: 0.9815 - val_loss: 0.0984 - val_acc: 0.9660\n",
            "Epoch 3/50\n",
            "163/163 [==============================] - 140s 859ms/step - loss: 0.0497 - acc: 0.9817 - val_loss: 0.0900 - val_acc: 0.9668\n",
            "Epoch 4/50\n",
            "163/163 [==============================] - 141s 865ms/step - loss: 0.0513 - acc: 0.9809 - val_loss: 0.1261 - val_acc: 0.9677\n",
            "Epoch 5/50\n",
            "163/163 [==============================] - 142s 870ms/step - loss: 0.0464 - acc: 0.9825 - val_loss: 0.0936 - val_acc: 0.9710\n",
            "Epoch 6/50\n",
            "163/163 [==============================] - 142s 872ms/step - loss: 0.0486 - acc: 0.9821 - val_loss: 0.1086 - val_acc: 0.9680\n",
            "Epoch 7/50\n",
            "163/163 [==============================] - 141s 866ms/step - loss: 0.0483 - acc: 0.9819 - val_loss: 0.0765 - val_acc: 0.9691\n",
            "Epoch 8/50\n",
            "163/163 [==============================] - 143s 876ms/step - loss: 0.0460 - acc: 0.9828 - val_loss: 0.0693 - val_acc: 0.9679\n",
            "Epoch 9/50\n",
            "163/163 [==============================] - 142s 872ms/step - loss: 0.0460 - acc: 0.9825 - val_loss: 0.1264 - val_acc: 0.9658\n",
            "Epoch 10/50\n",
            "163/163 [==============================] - 144s 882ms/step - loss: 0.0476 - acc: 0.9824 - val_loss: 0.0856 - val_acc: 0.9719\n",
            "Epoch 11/50\n",
            "163/163 [==============================] - 144s 884ms/step - loss: 0.0440 - acc: 0.9835 - val_loss: 0.1052 - val_acc: 0.9697\n",
            "Epoch 12/50\n",
            "163/163 [==============================] - 143s 876ms/step - loss: 0.0448 - acc: 0.9835 - val_loss: 0.0969 - val_acc: 0.9726\n",
            "Epoch 13/50\n",
            "163/163 [==============================] - 144s 882ms/step - loss: 0.0449 - acc: 0.9832 - val_loss: 0.0991 - val_acc: 0.9699\n",
            "Epoch 14/50\n",
            "163/163 [==============================] - 142s 870ms/step - loss: 0.0446 - acc: 0.9834 - val_loss: 0.1229 - val_acc: 0.9634\n",
            "Epoch 15/50\n",
            "163/163 [==============================] - 143s 877ms/step - loss: 0.0436 - acc: 0.9838 - val_loss: 0.0408 - val_acc: 0.9707\n",
            "Epoch 16/50\n",
            "163/163 [==============================] - 143s 880ms/step - loss: 0.0422 - acc: 0.9846 - val_loss: 0.0753 - val_acc: 0.9658\n",
            "Epoch 17/50\n",
            "163/163 [==============================] - 143s 878ms/step - loss: 0.0441 - acc: 0.9838 - val_loss: 0.1231 - val_acc: 0.9676\n",
            "Epoch 18/50\n",
            "163/163 [==============================] - 141s 868ms/step - loss: 0.0424 - acc: 0.9843 - val_loss: 0.1298 - val_acc: 0.9657\n",
            "Epoch 19/50\n",
            "163/163 [==============================] - 143s 876ms/step - loss: 0.0417 - acc: 0.9847 - val_loss: 0.1248 - val_acc: 0.9656\n",
            "Epoch 20/50\n",
            "163/163 [==============================] - 142s 873ms/step - loss: 0.0404 - acc: 0.9849 - val_loss: 0.0770 - val_acc: 0.9697\n",
            "Epoch 21/50\n",
            "163/163 [==============================] - 143s 877ms/step - loss: 0.0413 - acc: 0.9845 - val_loss: 0.0864 - val_acc: 0.9726\n",
            "Epoch 22/50\n",
            "163/163 [==============================] - 142s 872ms/step - loss: 0.0392 - acc: 0.9853 - val_loss: 0.1125 - val_acc: 0.9669\n",
            "Epoch 23/50\n",
            "163/163 [==============================] - 147s 900ms/step - loss: 0.0394 - acc: 0.9855 - val_loss: 0.0965 - val_acc: 0.9696\n",
            "Epoch 24/50\n",
            "163/163 [==============================] - 143s 875ms/step - loss: 0.0406 - acc: 0.9852 - val_loss: 0.0748 - val_acc: 0.9656\n",
            "Epoch 25/50\n",
            "163/163 [==============================] - 143s 877ms/step - loss: 0.0395 - acc: 0.9854 - val_loss: 0.1265 - val_acc: 0.9673\n",
            "Epoch 26/50\n",
            "163/163 [==============================] - 143s 876ms/step - loss: 0.0404 - acc: 0.9852 - val_loss: 0.1392 - val_acc: 0.9690\n",
            "Epoch 27/50\n",
            "163/163 [==============================] - 142s 870ms/step - loss: 0.0388 - acc: 0.9856 - val_loss: 0.0837 - val_acc: 0.9700\n",
            "Epoch 28/50\n",
            "163/163 [==============================] - 143s 880ms/step - loss: 0.0367 - acc: 0.9861 - val_loss: 0.1049 - val_acc: 0.9716\n",
            "Epoch 29/50\n",
            "163/163 [==============================] - 142s 874ms/step - loss: 0.0366 - acc: 0.9864 - val_loss: 0.1460 - val_acc: 0.9668\n",
            "Epoch 30/50\n",
            "163/163 [==============================] - 144s 881ms/step - loss: 0.0375 - acc: 0.9861 - val_loss: 0.1258 - val_acc: 0.9680\n",
            "Epoch 31/50\n",
            "163/163 [==============================] - 143s 879ms/step - loss: 0.0365 - acc: 0.9865 - val_loss: 0.1099 - val_acc: 0.9715\n",
            "Epoch 32/50\n",
            "163/163 [==============================] - 144s 886ms/step - loss: 0.0377 - acc: 0.9862 - val_loss: 0.1032 - val_acc: 0.9693\n",
            "Epoch 33/50\n",
            "163/163 [==============================] - 142s 874ms/step - loss: 0.0357 - acc: 0.9869 - val_loss: 0.1641 - val_acc: 0.9658\n",
            "Epoch 34/50\n",
            "163/163 [==============================] - 143s 879ms/step - loss: 0.0345 - acc: 0.9870 - val_loss: 0.0551 - val_acc: 0.9756\n",
            "Epoch 35/50\n",
            "163/163 [==============================] - 144s 885ms/step - loss: 0.0362 - acc: 0.9866 - val_loss: 0.1108 - val_acc: 0.9690\n",
            "Epoch 36/50\n",
            "163/163 [==============================] - 145s 890ms/step - loss: 0.0351 - acc: 0.9870 - val_loss: 0.0927 - val_acc: 0.9695\n",
            "Epoch 37/50\n",
            "163/163 [==============================] - 146s 895ms/step - loss: 0.0352 - acc: 0.9869 - val_loss: 0.1235 - val_acc: 0.9707\n",
            "Epoch 38/50\n",
            "163/163 [==============================] - 145s 893ms/step - loss: 0.0361 - acc: 0.9873 - val_loss: 0.1181 - val_acc: 0.9734\n",
            "Epoch 39/50\n",
            "163/163 [==============================] - 145s 891ms/step - loss: 0.0343 - acc: 0.9874 - val_loss: 0.0733 - val_acc: 0.9658\n",
            "Epoch 40/50\n",
            "163/163 [==============================] - 146s 893ms/step - loss: 0.0321 - acc: 0.9886 - val_loss: 0.1057 - val_acc: 0.9639\n",
            "Epoch 41/50\n",
            "163/163 [==============================] - 146s 894ms/step - loss: 0.0334 - acc: 0.9873 - val_loss: 0.1472 - val_acc: 0.9644\n",
            "Epoch 42/50\n",
            "163/163 [==============================] - 144s 883ms/step - loss: 0.0321 - acc: 0.9883 - val_loss: 0.1295 - val_acc: 0.9681\n",
            "Epoch 43/50\n",
            "163/163 [==============================] - 146s 894ms/step - loss: 0.0321 - acc: 0.9882 - val_loss: 0.0811 - val_acc: 0.9723\n",
            "Epoch 44/50\n",
            "163/163 [==============================] - 147s 902ms/step - loss: 0.0337 - acc: 0.9875 - val_loss: 0.0956 - val_acc: 0.9706\n",
            "Epoch 45/50\n",
            "163/163 [==============================] - 143s 879ms/step - loss: 0.0340 - acc: 0.9874 - val_loss: 0.1395 - val_acc: 0.9718\n",
            "\n",
            "Epoch 00045: ReduceLROnPlateau reducing learning rate to 4.999999873689376e-05.\n",
            "Epoch 46/50\n",
            "163/163 [==============================] - 143s 875ms/step - loss: 0.0237 - acc: 0.9912 - val_loss: 0.0816 - val_acc: 0.9751\n",
            "Epoch 47/50\n",
            "163/163 [==============================] - 144s 884ms/step - loss: 0.0218 - acc: 0.9922 - val_loss: 0.0965 - val_acc: 0.9728\n",
            "Epoch 48/50\n",
            "163/163 [==============================] - 143s 879ms/step - loss: 0.0213 - acc: 0.9923 - val_loss: 0.1106 - val_acc: 0.9701\n",
            "Epoch 49/50\n",
            "163/163 [==============================] - 144s 881ms/step - loss: 0.0201 - acc: 0.9927 - val_loss: 0.1184 - val_acc: 0.9726\n",
            "Epoch 50/50\n",
            "163/163 [==============================] - 143s 880ms/step - loss: 0.0201 - acc: 0.9926 - val_loss: 0.0646 - val_acc: 0.9718\n"
          ],
          "name": "stdout"
        }
      ]
    },
    {
      "cell_type": "code",
      "metadata": {
        "id": "QBhhdaOCUCND",
        "colab_type": "code",
        "colab": {
          "base_uri": "https://localhost:8080/",
          "height": 545
        },
        "outputId": "ef35cdbd-a33b-4191-d1c8-c0653148e719"
      },
      "source": [
        "import matplotlib.pyplot as plt\n",
        "acc = history.history['acc']\n",
        "val_acc = history.history['val_acc']\n",
        "loss = history.history['loss']\n",
        "val_loss = history.history['val_loss']\n",
        "epochs = range(1, len(acc) + 1) \n",
        "plt.plot(epochs, acc, 'bo', label='Training acc')\n",
        "plt.plot(epochs, val_acc, 'b', label='Validation acc')\n",
        "plt.title('Training and validation accuracy')\n",
        "plt.legend()\n",
        "plt.figure()\n",
        "plt.plot(epochs, loss, 'bo', label='Training loss')\n",
        "plt.plot(epochs, val_loss, 'b', label='Validation loss')\n",
        "plt.title('Training and validation loss')\n",
        "plt.legend()\n",
        "plt.show()"
      ],
      "execution_count": null,
      "outputs": [
        {
          "output_type": "display_data",
          "data": {
            "image/png": "[encoded data removed]",
            "text/plain": [
              "<Figure size 432x288 with 1 Axes>"
            ]
          },
          "metadata": {
            "tags": [],
            "needs_background": "light"
          }
        },
        {
          "output_type": "display_data",
          "data": {
            "image/png": "[encoded data removed]",
            "text/plain": [
              "<Figure size 432x288 with 1 Axes>"
            ]
          },
          "metadata": {
            "tags": [],
            "needs_background": "light"
          }
        }
      ]
    },
    {
      "cell_type": "code",
      "metadata": {
        "id": "JWH-CnORtE4m",
        "colab_type": "code",
        "colab": {
          "base_uri": "https://localhost:8080/",
          "height": 1000
        },
        "outputId": "240c170d-cd42-41d3-b867-70678968b238"
      },
      "source": [
        "history = model.fit_generator(\n",
        "    train_data_gen,\n",
        "    steps_per_epoch=int(20968/batch_size),\n",
        "    epochs=epochs,\n",
        "    validation_data=validation_data_gen,\n",
        "    validation_steps=int(2613/batch_size),\n",
        "    callbacks = my_callbacks\n",
        ")"
      ],
      "execution_count": null,
      "outputs": [
        {
          "output_type": "stream",
          "text": [
            "Epoch 1/50\n",
            "163/163 [==============================] - 143s 879ms/step - loss: 0.0212 - acc: 0.9921 - val_loss: 0.1080 - val_acc: 0.9715\n",
            "Epoch 2/50\n",
            "163/163 [==============================] - 145s 890ms/step - loss: 0.0202 - acc: 0.9925 - val_loss: 0.1219 - val_acc: 0.9719\n",
            "Epoch 3/50\n",
            "163/163 [==============================] - 144s 882ms/step - loss: 0.0200 - acc: 0.9926 - val_loss: 0.1124 - val_acc: 0.9723\n",
            "Epoch 4/50\n",
            "163/163 [==============================] - 145s 887ms/step - loss: 0.0201 - acc: 0.9927 - val_loss: 0.0967 - val_acc: 0.9703\n",
            "Epoch 5/50\n",
            "163/163 [==============================] - 142s 874ms/step - loss: 0.0188 - acc: 0.9932 - val_loss: 0.1100 - val_acc: 0.9662\n",
            "Epoch 6/50\n",
            "163/163 [==============================] - 143s 875ms/step - loss: 0.0190 - acc: 0.9931 - val_loss: 0.1457 - val_acc: 0.9692\n",
            "Epoch 7/50\n",
            "163/163 [==============================] - 140s 860ms/step - loss: 0.0185 - acc: 0.9932 - val_loss: 0.1092 - val_acc: 0.9709\n",
            "Epoch 8/50\n",
            "163/163 [==============================] - 141s 867ms/step - loss: 0.0194 - acc: 0.9930 - val_loss: 0.1177 - val_acc: 0.9695\n",
            "Epoch 9/50\n",
            "163/163 [==============================] - 142s 869ms/step - loss: 0.0174 - acc: 0.9935 - val_loss: 0.1032 - val_acc: 0.9733\n",
            "Epoch 10/50\n",
            "163/163 [==============================] - 144s 886ms/step - loss: 0.0189 - acc: 0.9930 - val_loss: 0.0972 - val_acc: 0.9676\n",
            "Epoch 11/50\n",
            "163/163 [==============================] - 141s 865ms/step - loss: 0.0186 - acc: 0.9932 - val_loss: 0.1390 - val_acc: 0.9672\n",
            "Epoch 12/50\n",
            "163/163 [==============================] - 141s 867ms/step - loss: 0.0172 - acc: 0.9937 - val_loss: 0.1151 - val_acc: 0.9734\n",
            "Epoch 13/50\n",
            "163/163 [==============================] - 144s 881ms/step - loss: 0.0176 - acc: 0.9936 - val_loss: 0.0715 - val_acc: 0.9716\n",
            "Epoch 14/50\n",
            "163/163 [==============================] - 143s 879ms/step - loss: 0.0177 - acc: 0.9935 - val_loss: 0.0485 - val_acc: 0.9743\n",
            "Epoch 15/50\n",
            "163/163 [==============================] - 145s 889ms/step - loss: 0.0178 - acc: 0.9934 - val_loss: 0.1175 - val_acc: 0.9748\n",
            "Epoch 16/50\n",
            "163/163 [==============================] - 142s 868ms/step - loss: 0.0167 - acc: 0.9938 - val_loss: 0.0551 - val_acc: 0.9723\n",
            "Epoch 17/50\n",
            "163/163 [==============================] - 144s 885ms/step - loss: 0.0178 - acc: 0.9936 - val_loss: 0.1512 - val_acc: 0.9729\n",
            "Epoch 18/50\n",
            "163/163 [==============================] - 142s 870ms/step - loss: 0.0179 - acc: 0.9933 - val_loss: 0.1376 - val_acc: 0.9742\n",
            "Epoch 19/50\n",
            "163/163 [==============================] - 143s 876ms/step - loss: 0.0167 - acc: 0.9940 - val_loss: 0.0899 - val_acc: 0.9734\n",
            "Epoch 20/50\n",
            "163/163 [==============================] - 142s 870ms/step - loss: 0.0161 - acc: 0.9940 - val_loss: 0.0998 - val_acc: 0.9737\n",
            "Epoch 21/50\n",
            "163/163 [==============================] - 142s 873ms/step - loss: 0.0167 - acc: 0.9939 - val_loss: 0.2415 - val_acc: 0.9731\n",
            "Epoch 22/50\n",
            "163/163 [==============================] - 143s 876ms/step - loss: 0.0170 - acc: 0.9939 - val_loss: 0.1126 - val_acc: 0.9715\n",
            "Epoch 23/50\n",
            "163/163 [==============================] - 146s 896ms/step - loss: 0.0168 - acc: 0.9940 - val_loss: 0.1470 - val_acc: 0.9714\n",
            "Epoch 24/50\n",
            "163/163 [==============================] - 142s 872ms/step - loss: 0.0164 - acc: 0.9940 - val_loss: 0.1128 - val_acc: 0.9744\n",
            "Epoch 25/50\n",
            "163/163 [==============================] - 143s 876ms/step - loss: 0.0164 - acc: 0.9940 - val_loss: 0.0760 - val_acc: 0.9691\n",
            "\n",
            "Epoch 00025: ReduceLROnPlateau reducing learning rate to 2.499999936844688e-05.\n",
            "Epoch 26/50\n",
            "163/163 [==============================] - 143s 879ms/step - loss: 0.0127 - acc: 0.9952 - val_loss: 0.0416 - val_acc: 0.9749\n",
            "Epoch 27/50\n",
            "163/163 [==============================] - 144s 886ms/step - loss: 0.0119 - acc: 0.9958 - val_loss: 0.0776 - val_acc: 0.9729\n",
            "Epoch 28/50\n",
            "163/163 [==============================] - 143s 875ms/step - loss: 0.0113 - acc: 0.9959 - val_loss: 0.1439 - val_acc: 0.9735\n",
            "Epoch 29/50\n",
            "163/163 [==============================] - 143s 875ms/step - loss: 0.0101 - acc: 0.9964 - val_loss: 0.0881 - val_acc: 0.9737\n",
            "Epoch 30/50\n",
            "163/163 [==============================] - 144s 884ms/step - loss: 0.0104 - acc: 0.9963 - val_loss: 0.1355 - val_acc: 0.9737\n",
            "Epoch 31/50\n",
            "163/163 [==============================] - 144s 881ms/step - loss: 0.0107 - acc: 0.9962 - val_loss: 0.1023 - val_acc: 0.9752\n",
            "Epoch 32/50\n",
            "163/163 [==============================] - 146s 894ms/step - loss: 0.0103 - acc: 0.9963 - val_loss: 0.1313 - val_acc: 0.9743\n",
            "Epoch 33/50\n",
            "163/163 [==============================] - 144s 885ms/step - loss: 0.0103 - acc: 0.9962 - val_loss: 0.1239 - val_acc: 0.9735\n",
            "Epoch 34/50\n",
            "163/163 [==============================] - 144s 884ms/step - loss: 0.0103 - acc: 0.9963 - val_loss: 0.0881 - val_acc: 0.9734\n",
            "\n",
            "Epoch 00034: ReduceLROnPlateau reducing learning rate to 1.249999968422344e-05.\n",
            "Epoch 35/50\n",
            "163/163 [==============================] - 143s 875ms/step - loss: 0.0085 - acc: 0.9968 - val_loss: 0.0580 - val_acc: 0.9736\n",
            "Epoch 36/50\n",
            "163/163 [==============================] - 141s 865ms/step - loss: 0.0089 - acc: 0.9971 - val_loss: 0.0719 - val_acc: 0.9763\n",
            "Epoch 37/50\n",
            "163/163 [==============================] - 139s 855ms/step - loss: 0.0082 - acc: 0.9972 - val_loss: 0.0866 - val_acc: 0.9759\n",
            "Epoch 38/50\n",
            "163/163 [==============================] - 142s 870ms/step - loss: 0.0082 - acc: 0.9971 - val_loss: 0.1023 - val_acc: 0.9743\n",
            "Epoch 39/50\n",
            "163/163 [==============================] - 140s 861ms/step - loss: 0.0088 - acc: 0.9970 - val_loss: 0.0803 - val_acc: 0.9738\n",
            "Epoch 40/50\n",
            "163/163 [==============================] - 141s 863ms/step - loss: 0.0078 - acc: 0.9971 - val_loss: 0.1147 - val_acc: 0.9763\n",
            "Epoch 41/50\n",
            "163/163 [==============================] - 142s 871ms/step - loss: 0.0073 - acc: 0.9974 - val_loss: 0.1361 - val_acc: 0.9751\n",
            "Epoch 42/50\n",
            "163/163 [==============================] - 140s 860ms/step - loss: 0.0085 - acc: 0.9970 - val_loss: 0.0458 - val_acc: 0.9747\n",
            "Epoch 43/50\n",
            "163/163 [==============================] - 141s 863ms/step - loss: 0.0077 - acc: 0.9971 - val_loss: 0.0926 - val_acc: 0.9741\n",
            "Epoch 44/50\n",
            "163/163 [==============================] - 143s 878ms/step - loss: 0.0078 - acc: 0.9973 - val_loss: 0.1564 - val_acc: 0.9749\n",
            "Epoch 45/50\n",
            "163/163 [==============================] - 141s 864ms/step - loss: 0.0078 - acc: 0.9971 - val_loss: 0.1534 - val_acc: 0.9749\n",
            "Epoch 46/50\n",
            "163/163 [==============================] - 140s 859ms/step - loss: 0.0071 - acc: 0.9976 - val_loss: 0.0876 - val_acc: 0.9741\n",
            "Epoch 47/50\n",
            "163/163 [==============================] - 140s 861ms/step - loss: 0.0071 - acc: 0.9975 - val_loss: 0.1491 - val_acc: 0.9727\n",
            "Epoch 48/50\n",
            "163/163 [==============================] - 140s 857ms/step - loss: 0.0080 - acc: 0.9971 - val_loss: 0.1440 - val_acc: 0.9745\n",
            "Epoch 49/50\n",
            "163/163 [==============================] - 142s 869ms/step - loss: 0.0079 - acc: 0.9973 - val_loss: 0.1125 - val_acc: 0.9756\n",
            "Epoch 50/50\n",
            "163/163 [==============================] - 141s 865ms/step - loss: 0.0083 - acc: 0.9970 - val_loss: 0.0907 - val_acc: 0.9736\n"
          ],
          "name": "stdout"
        }
      ]
    },
    {
      "cell_type": "code",
      "metadata": {
        "id": "LKO4oK9SL-uc",
        "colab_type": "code",
        "colab": {
          "base_uri": "https://localhost:8080/",
          "height": 545
        },
        "outputId": "19f80b7d-35af-4e89-c05d-5cac6186e1c3"
      },
      "source": [
        "acc = history.history['acc']\n",
        "val_acc = history.history['val_acc']\n",
        "loss = history.history['loss']\n",
        "val_loss = history.history['val_loss']\n",
        "epochs = range(1, len(acc) + 1) \n",
        "plt.plot(epochs, acc, 'bo', label='Training acc')\n",
        "plt.plot(epochs, val_acc, 'b', label='Validation acc')\n",
        "plt.title('Training and validation accuracy')\n",
        "plt.legend()\n",
        "plt.figure()\n",
        "plt.plot(epochs, loss, 'bo', label='Training loss')\n",
        "plt.plot(epochs, val_loss, 'b', label='Validation loss')\n",
        "plt.title('Training and validation loss')\n",
        "plt.legend()\n",
        "plt.show()"
      ],
      "execution_count": null,
      "outputs": [
        {
          "output_type": "display_data",
          "data": {
            "image/png": "[encoded data removed]",
            "text/plain": [
              "<Figure size 432x288 with 1 Axes>"
            ]
          },
          "metadata": {
            "tags": [],
            "needs_background": "light"
          }
        },
        {
          "output_type": "display_data",
          "data": {
            "image/png": "[encoded data removed]",
            "text/plain": [
              "<Figure size 432x288 with 1 Axes>"
            ]
          },
          "metadata": {
            "tags": [],
            "needs_background": "light"
          }
        }
      ]
    },
    {
      "cell_type": "code",
      "metadata": {
        "id": "QP5lqSMZMZe7",
        "colab_type": "code",
        "colab": {}
      },
      "source": [
        "model_f = load_model('/content/drive/My Drive/dataset/tenAnimals_big_no_shuffle/10_Animals_bns_f1.40-0.11.h5')"
      ],
      "execution_count": null,
      "outputs": []
    },
    {
      "cell_type": "code",
      "metadata": {
        "id": "HggYCCsMUF7a",
        "colab_type": "code",
        "colab": {
          "base_uri": "https://localhost:8080/",
          "height": 34
        },
        "outputId": "a0ebc817-0ad4-4e99-d96f-e2c0aaf47ce9"
      },
      "source": [
        "model_f.evaluate_generator(test_generator)"
      ],
      "execution_count": null,
      "outputs": [
        {
          "output_type": "execute_result",
          "data": {
            "text/plain": [
              "[0.1572088748216629, 0.9759662747383118]"
            ]
          },
          "metadata": {
            "tags": []
          },
          "execution_count": 26
        }
      ]
    },
    {
      "cell_type": "code",
      "metadata": {
        "id": "i4j4o8bEIh2R",
        "colab_type": "code",
        "colab": {}
      },
      "source": [
        "model.save('10Ani_big_ns.h5')"
      ],
      "execution_count": null,
      "outputs": []
    }
  ]
}