{
  "nbformat": 4,
  "nbformat_minor": 0,
  "metadata": {
    "colab": {
      "name": "Animals-10-v1-learning-rate.ipynb",
      "provenance": [],
      "collapsed_sections": [],
      "authorship_tag": "ABX9TyPR5j1CJAAVr5kJ76PdFMWw",
      "include_colab_link": true
    },
    "kernelspec": {
      "name": "python3",
      "display_name": "Python 3"
    },
    "accelerator": "GPU"
  },
  "cells": [
    {
      "cell_type": "markdown",
      "metadata": {
        "id": "view-in-github",
        "colab_type": "text"
      },
      "source": [
        "<a href=\"https://colab.research.google.com/github/Jun-Liu-291/10-Animals/blob/master/Animals_10_v1_learning_rate.ipynb\" target=\"_parent\"><img src=\"https://colab.research.google.com/assets/colab-badge.svg\" alt=\"Open In Colab\"/></a>"
      ]
    },
    {
      "cell_type": "code",
      "metadata": {
        "id": "vAD0p79Tc-Qm",
        "colab_type": "code",
        "colab": {
          "base_uri": "https://localhost:8080/",
          "height": 122
        },
        "outputId": "126329b5-13eb-488e-bdd0-3bca61a6ed0f"
      },
      "source": [
        "from google.colab import drive\n",
        "drive.mount('/content/drive/')"
      ],
      "execution_count": null,
      "outputs": [
        {
          "output_type": "stream",
          "text": [
            "Go to this URL in a browser: https://accounts.google.com/o/oauth2/auth?client_id=947318989803-6bn6qk8qdgf4n4g3pfee6491hc0brc4i.apps.googleusercontent.com&redirect_uri=urn%3aietf%3awg%3aoauth%3a2.0%3aoob&response_type=code&scope=email%20https%3a%2f%2fwww.googleapis.com%2fauth%2fdocs.test%20https%3a%2f%2fwww.googleapis.com%2fauth%2fdrive%20https%3a%2f%2fwww.googleapis.com%2fauth%2fdrive.photos.readonly%20https%3a%2f%2fwww.googleapis.com%2fauth%2fpeopleapi.readonly\n",
            "\n",
            "Enter your authorization code:\n",
            "··········\n",
            "Mounted at /content/drive/\n"
          ],
          "name": "stdout"
        }
      ]
    },
    {
      "cell_type": "code",
      "metadata": {
        "id": "2J1WOglBdDqP",
        "colab_type": "code",
        "colab": {}
      },
      "source": [
        "import tensorflow as tf \n",
        "from tensorflow.keras.models import Sequential\n",
        "from tensorflow.keras.layers import Dense, Conv2D, Flatten, Dropout, MaxPooling2D, BatchNormalization\n",
        "from tensorflow.keras.preprocessing.image import ImageDataGenerator, img_to_array, load_img\n",
        "import numpy as np"
      ],
      "execution_count": null,
      "outputs": []
    },
    {
      "cell_type": "code",
      "metadata": {
        "id": "3f6BUZ9GdPlh",
        "colab_type": "code",
        "colab": {}
      },
      "source": [
        "import os\n",
        "\n",
        "BASE_PATH = '/content/drive/My Drive/dataset/tenAnimals'\n",
        "TRAIN_PATH = os.path.join(BASE_PATH, 'train')\n",
        "VAL_PATH = os.path.join(BASE_PATH, 'validation')\n",
        "TEST_PATH = os.path.join(BASE_PATH, 'test')\n",
        "\n",
        "batch_size = 128\n",
        "epochs = 30\n",
        "IMG_HEIGHT = 128\n",
        "IMG_WIDTH = 128"
      ],
      "execution_count": null,
      "outputs": []
    },
    {
      "cell_type": "code",
      "metadata": {
        "id": "P5WEcas8dSFo",
        "colab_type": "code",
        "colab": {}
      },
      "source": [
        "train_image_generator = ImageDataGenerator(\n",
        "    rescale = 1./ 255,\n",
        "    #rotation_range = 30,\n",
        "    #width_shift_range = .15,\n",
        "    #height_shift_range = .15,\n",
        "    #horizontal_flip = True,\n",
        "    #zoom_range = 0.3\n",
        ")\n",
        "\n",
        "validation_image_generator = ImageDataGenerator(rescale=1./255)"
      ],
      "execution_count": null,
      "outputs": []
    },
    {
      "cell_type": "code",
      "metadata": {
        "id": "oDuWm39NdW_Z",
        "colab_type": "code",
        "colab": {
          "base_uri": "https://localhost:8080/",
          "height": 51
        },
        "outputId": "9c7378dd-a9d7-4915-96b5-a282accf746d"
      },
      "source": [
        "train_data_gen = train_image_generator.flow_from_directory(\n",
        "    batch_size = batch_size,\n",
        "    directory = TRAIN_PATH,\n",
        "    shuffle = True,\n",
        "    target_size = (IMG_HEIGHT, IMG_WIDTH),\n",
        "    class_mode = 'categorical'\n",
        ")\n",
        "\n",
        "validation_data_gen = validation_image_generator.flow_from_directory(\n",
        "    batch_size = batch_size,\n",
        "    directory = VAL_PATH,\n",
        "    shuffle = True,\n",
        "    target_size = (IMG_HEIGHT, IMG_WIDTH),\n",
        "    class_mode = 'categorical'\n",
        ")"
      ],
      "execution_count": null,
      "outputs": [
        {
          "output_type": "stream",
          "text": [
            "Found 10240 images belonging to 10 classes.\n",
            "Found 1280 images belonging to 10 classes.\n"
          ],
          "name": "stdout"
        }
      ]
    },
    {
      "cell_type": "code",
      "metadata": {
        "id": "rw_-dCL-daK-",
        "colab_type": "code",
        "colab": {}
      },
      "source": [
        "\n",
        "# model architcture\n",
        "model = Sequential([Conv2D(64, 3, padding = 'same', activation = 'relu', input_shape = (IMG_HEIGHT, IMG_WIDTH,3)),\n",
        "                    Conv2D(64, 3, padding = 'same', activation = 'relu'),\n",
        "                    MaxPooling2D(),\n",
        "                    Conv2D(128, 3, padding = 'same', activation = 'relu'),\n",
        "                    Conv2D(128, 3, padding = 'same', activation = 'relu'),\n",
        "                    MaxPooling2D(),\n",
        "                    Conv2D(256, 3, padding = 'same', activation = 'relu'),\n",
        "                    Conv2D(256, 3, padding = 'same', activation = 'relu'),\n",
        "                    MaxPooling2D(),\n",
        "                    Conv2D(512, 3, padding = 'same', activation = 'relu'),\n",
        "                    Conv2D(512, 3, padding = 'same', activation = 'relu'),\n",
        "                    Conv2D(512, 3, padding = 'same', activation = 'relu'),\n",
        "                    MaxPooling2D(),\n",
        "                    Conv2D(1024, 3, padding = 'same', activation = 'relu'),\n",
        "                    Conv2D(1024, 3, padding = 'same', activation = 'relu'),\n",
        "                    Conv2D(1024, 3, padding = 'same', activation = 'relu'),\n",
        "                    MaxPooling2D(),\n",
        "                    Flatten(),\n",
        "                    Dropout(0.4),\n",
        "                    Dense(1024, activation='relu'),\n",
        "                    Dense(1024, activation='relu'),\n",
        "                    Dense(10, activation='softmax')])\n",
        "\n",
        "# setting the optimizer and learning rate\n",
        "learning_rate = 1e-5\n",
        "optimizer = tf.optimizers.RMSprop(learning_rate = 1e-5, momentum=.9)\n",
        "  \n",
        "# Compile the model with the optimizer and learning rate specified in hpyarams\n",
        "model.compile(optimizer = optimizer,\n",
        "              loss = 'categorical_crossentropy',\n",
        "              metrics = ['acc'])\n",
        "  \n",
        "# set learning rate by different epochs\n",
        "lr_schedule = tf.keras.callbacks.LearningRateScheduler(lambda epoch: 1e-5 * 10**(epoch / 10))\n",
        "\n"
      ],
      "execution_count": null,
      "outputs": []
    },
    {
      "cell_type": "code",
      "metadata": {
        "id": "uqnWe9PIHJV3",
        "colab_type": "code",
        "colab": {
          "base_uri": "https://localhost:8080/",
          "height": 901
        },
        "outputId": "f771d832-5026-4fc5-ffdb-41edd8a0c8a7"
      },
      "source": [
        "model.summary()"
      ],
      "execution_count": null,
      "outputs": [
        {
          "output_type": "stream",
          "text": [
            "Model: \"sequential\"\n",
            "_________________________________________________________________\n",
            "Layer (type)                 Output Shape              Param #   \n",
            "=================================================================\n",
            "conv2d (Conv2D)              (None, 128, 128, 64)      1792      \n",
            "_________________________________________________________________\n",
            "conv2d_1 (Conv2D)            (None, 128, 128, 64)      36928     \n",
            "_________________________________________________________________\n",
            "max_pooling2d (MaxPooling2D) (None, 64, 64, 64)        0         \n",
            "_________________________________________________________________\n",
            "conv2d_2 (Conv2D)            (None, 64, 64, 128)       73856     \n",
            "_________________________________________________________________\n",
            "conv2d_3 (Conv2D)            (None, 64, 64, 128)       147584    \n",
            "_________________________________________________________________\n",
            "max_pooling2d_1 (MaxPooling2 (None, 32, 32, 128)       0         \n",
            "_________________________________________________________________\n",
            "conv2d_4 (Conv2D)            (None, 32, 32, 256)       295168    \n",
            "_________________________________________________________________\n",
            "conv2d_5 (Conv2D)            (None, 32, 32, 256)       590080    \n",
            "_________________________________________________________________\n",
            "max_pooling2d_2 (MaxPooling2 (None, 16, 16, 256)       0         \n",
            "_________________________________________________________________\n",
            "conv2d_6 (Conv2D)            (None, 16, 16, 512)       1180160   \n",
            "_________________________________________________________________\n",
            "conv2d_7 (Conv2D)            (None, 16, 16, 512)       2359808   \n",
            "_________________________________________________________________\n",
            "conv2d_8 (Conv2D)            (None, 16, 16, 512)       2359808   \n",
            "_________________________________________________________________\n",
            "max_pooling2d_3 (MaxPooling2 (None, 8, 8, 512)         0         \n",
            "_________________________________________________________________\n",
            "conv2d_9 (Conv2D)            (None, 8, 8, 1024)        4719616   \n",
            "_________________________________________________________________\n",
            "conv2d_10 (Conv2D)           (None, 8, 8, 1024)        9438208   \n",
            "_________________________________________________________________\n",
            "conv2d_11 (Conv2D)           (None, 8, 8, 1024)        9438208   \n",
            "_________________________________________________________________\n",
            "max_pooling2d_4 (MaxPooling2 (None, 4, 4, 1024)        0         \n",
            "_________________________________________________________________\n",
            "flatten (Flatten)            (None, 16384)             0         \n",
            "_________________________________________________________________\n",
            "dropout (Dropout)            (None, 16384)             0         \n",
            "_________________________________________________________________\n",
            "dense (Dense)                (None, 1024)              16778240  \n",
            "_________________________________________________________________\n",
            "dense_1 (Dense)              (None, 1024)              1049600   \n",
            "_________________________________________________________________\n",
            "dense_2 (Dense)              (None, 10)                10250     \n",
            "=================================================================\n",
            "Total params: 48,479,306\n",
            "Trainable params: 48,479,306\n",
            "Non-trainable params: 0\n",
            "_________________________________________________________________\n"
          ],
          "name": "stdout"
        }
      ]
    },
    {
      "cell_type": "code",
      "metadata": {
        "id": "OXgnhrzjeFT0",
        "colab_type": "code",
        "colab": {
          "base_uri": "https://localhost:8080/",
          "height": 1000
        },
        "outputId": "d11dede5-04c4-4180-fb44-87610ee55fc3"
      },
      "source": [
        "# Fit the model\n",
        "history = model.fit_generator(\n",
        "    train_data_gen,\n",
        "    steps_per_epoch = int(10240/batch_size),\n",
        "    epochs = epochs,\n",
        "    validation_data = validation_data_gen,\n",
        "    validation_steps = int(1280/batch_size),\n",
        "    callbacks = [lr_schedule]\n",
        ")\n"
      ],
      "execution_count": null,
      "outputs": [
        {
          "output_type": "stream",
          "text": [
            "WARNING:tensorflow:From <ipython-input-8-2f6e8286fcb9>:8: Model.fit_generator (from tensorflow.python.keras.engine.training) is deprecated and will be removed in a future version.\n",
            "Instructions for updating:\n",
            "Please use Model.fit, which supports generators.\n",
            "Epoch 1/30\n",
            "80/80 [==============================] - 4075s 51s/step - loss: 2.3024 - acc: 0.1089 - val_loss: 2.3010 - val_acc: 0.1063 - lr: 1.0000e-05\n",
            "Epoch 2/30\n",
            "80/80 [==============================] - 53s 661ms/step - loss: 2.2597 - acc: 0.1423 - val_loss: 2.1440 - val_acc: 0.1813 - lr: 1.2589e-05\n",
            "Epoch 3/30\n",
            "80/80 [==============================] - 54s 674ms/step - loss: 2.1352 - acc: 0.1960 - val_loss: 2.0501 - val_acc: 0.2281 - lr: 1.5849e-05\n",
            "Epoch 4/30\n",
            "80/80 [==============================] - 54s 677ms/step - loss: 2.0274 - acc: 0.2569 - val_loss: 1.9367 - val_acc: 0.3180 - lr: 1.9953e-05\n",
            "Epoch 5/30\n",
            "80/80 [==============================] - 54s 680ms/step - loss: 1.8589 - acc: 0.3301 - val_loss: 1.7661 - val_acc: 0.3680 - lr: 2.5119e-05\n",
            "Epoch 6/30\n",
            "80/80 [==============================] - 55s 685ms/step - loss: 1.7007 - acc: 0.3933 - val_loss: 1.6179 - val_acc: 0.4125 - lr: 3.1623e-05\n",
            "Epoch 7/30\n",
            "80/80 [==============================] - 54s 680ms/step - loss: 1.6165 - acc: 0.4271 - val_loss: 1.6059 - val_acc: 0.4375 - lr: 3.9811e-05\n",
            "Epoch 8/30\n",
            "80/80 [==============================] - 55s 692ms/step - loss: 1.5312 - acc: 0.4564 - val_loss: 1.4915 - val_acc: 0.4648 - lr: 5.0119e-05\n",
            "Epoch 9/30\n",
            "80/80 [==============================] - 55s 684ms/step - loss: 1.4967 - acc: 0.4744 - val_loss: 1.4103 - val_acc: 0.5055 - lr: 6.3096e-05\n",
            "Epoch 10/30\n",
            "80/80 [==============================] - 55s 684ms/step - loss: 1.4368 - acc: 0.4964 - val_loss: 1.4311 - val_acc: 0.4969 - lr: 7.9433e-05\n",
            "Epoch 11/30\n",
            "80/80 [==============================] - 55s 684ms/step - loss: 1.3977 - acc: 0.5138 - val_loss: 1.4017 - val_acc: 0.5094 - lr: 1.0000e-04\n",
            "Epoch 12/30\n",
            "80/80 [==============================] - 54s 678ms/step - loss: 1.4202 - acc: 0.5074 - val_loss: 1.4880 - val_acc: 0.4969 - lr: 1.2589e-04\n",
            "Epoch 13/30\n",
            "80/80 [==============================] - 54s 678ms/step - loss: 1.4146 - acc: 0.5105 - val_loss: 1.5606 - val_acc: 0.4812 - lr: 1.5849e-04\n",
            "Epoch 14/30\n",
            "80/80 [==============================] - 54s 675ms/step - loss: 1.5221 - acc: 0.4809 - val_loss: 1.5445 - val_acc: 0.4719 - lr: 1.9953e-04\n",
            "Epoch 15/30\n",
            "80/80 [==============================] - 54s 672ms/step - loss: 1.5619 - acc: 0.4680 - val_loss: 1.6873 - val_acc: 0.4352 - lr: 2.5119e-04\n",
            "Epoch 16/30\n",
            "80/80 [==============================] - 53s 669ms/step - loss: 1.7788 - acc: 0.3778 - val_loss: 1.9268 - val_acc: 0.3523 - lr: 3.1623e-04\n",
            "Epoch 17/30\n",
            "80/80 [==============================] - 53s 665ms/step - loss: 2.1967 - acc: 0.2062 - val_loss: 2.2944 - val_acc: 0.1141 - lr: 3.9811e-04\n",
            "Epoch 18/30\n",
            "80/80 [==============================] - 53s 661ms/step - loss: 2.3048 - acc: 0.1061 - val_loss: 2.3101 - val_acc: 0.1000 - lr: 5.0119e-04\n",
            "Epoch 19/30\n",
            "80/80 [==============================] - 53s 662ms/step - loss: 2.3087 - acc: 0.1007 - val_loss: 2.3033 - val_acc: 0.1000 - lr: 6.3096e-04\n",
            "Epoch 20/30\n",
            "80/80 [==============================] - 52s 655ms/step - loss: 2.3045 - acc: 0.0939 - val_loss: 2.3029 - val_acc: 0.1000 - lr: 7.9433e-04\n",
            "Epoch 21/30\n",
            "80/80 [==============================] - 53s 661ms/step - loss: 2.8819 - acc: 0.0953 - val_loss: 33.4432 - val_acc: 0.1000 - lr: 0.0010\n",
            "Epoch 22/30\n",
            "80/80 [==============================] - 52s 645ms/step - loss: 2.7064 - acc: 0.0969 - val_loss: 2.3031 - val_acc: 0.1000 - lr: 0.0013\n",
            "Epoch 23/30\n",
            "80/80 [==============================] - 51s 641ms/step - loss: 2.3038 - acc: 0.0969 - val_loss: 2.3032 - val_acc: 0.1000 - lr: 0.0016\n",
            "Epoch 24/30\n",
            "80/80 [==============================] - 51s 639ms/step - loss: 2.3041 - acc: 0.0968 - val_loss: 2.3029 - val_acc: 0.1000 - lr: 0.0020\n",
            "Epoch 25/30\n",
            "80/80 [==============================] - 51s 641ms/step - loss: 2.3044 - acc: 0.1027 - val_loss: 2.3034 - val_acc: 0.1000 - lr: 0.0025\n",
            "Epoch 26/30\n",
            "80/80 [==============================] - 52s 646ms/step - loss: 2.3048 - acc: 0.0968 - val_loss: 2.3049 - val_acc: 0.1000 - lr: 0.0032\n",
            "Epoch 27/30\n",
            "80/80 [==============================] - 52s 645ms/step - loss: 2.3054 - acc: 0.1040 - val_loss: 2.3063 - val_acc: 0.1000 - lr: 0.0040\n",
            "Epoch 28/30\n",
            "80/80 [==============================] - 52s 645ms/step - loss: 2.3053 - acc: 0.0984 - val_loss: 2.3054 - val_acc: 0.1000 - lr: 0.0050\n",
            "Epoch 29/30\n",
            "80/80 [==============================] - 52s 645ms/step - loss: 2.3072 - acc: 0.0992 - val_loss: 2.3056 - val_acc: 0.1000 - lr: 0.0063\n",
            "Epoch 30/30\n",
            "80/80 [==============================] - 52s 646ms/step - loss: 2.3091 - acc: 0.0993 - val_loss: 2.3057 - val_acc: 0.1000 - lr: 0.0079\n"
          ],
          "name": "stdout"
        }
      ]
    },
    {
      "cell_type": "code",
      "metadata": {
        "id": "IPkpsXasBTWH",
        "colab_type": "code",
        "colab": {
          "base_uri": "https://localhost:8080/",
          "height": 286
        },
        "outputId": "8a2ddb0a-d2ef-4c0c-82f2-136c30dcd6c5"
      },
      "source": [
        "import matplotlib.pyplot as plt\n",
        "plt.semilogx(history.history[\"lr\"], history.history[\"loss\"])\n",
        "plt.axis([1e-5, 1e-2, 1, 2.9])"
      ],
      "execution_count": null,
      "outputs": [
        {
          "output_type": "execute_result",
          "data": {
            "text/plain": [
              "(1e-05, 0.01, 1.0, 2.9)"
            ]
          },
          "metadata": {
            "tags": []
          },
          "execution_count": 9
        },
        {
          "output_type": "display_data",
          "data": {
            "image/png": "[encoded data removed]",
            "text/plain": [
              "<Figure size 432x288 with 1 Axes>"
            ]
          },
          "metadata": {
            "tags": [],
            "needs_background": "light"
          }
        }
      ]
    },
    {
      "cell_type": "code",
      "metadata": {
        "id": "LRQTcm_BRwE_",
        "colab_type": "code",
        "colab": {}
      },
      "source": [
        ""
      ],
      "execution_count": null,
      "outputs": []
    }
  ]
}